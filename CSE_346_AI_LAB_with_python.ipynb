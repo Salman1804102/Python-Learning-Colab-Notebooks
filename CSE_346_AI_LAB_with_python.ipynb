{
  "cells": [
    {
      "cell_type": "markdown",
      "metadata": {
        "id": "C3tSDcXZW-tN"
      },
      "source": [
        "<h1 id=\"tocheading\">Table of Contents</h1>\n",
        "<div id=\"toc\"></div>"
      ]
    },
    {
      "cell_type": "markdown",
      "metadata": {
        "id": "Wps8nw9aW-tY"
      },
      "source": [
        "1. [Printing in python](#Printing-in-python)\n",
        "      <br> A. [Print your name with python](#Print-your-name-with-python)\n",
        "      <br> B. [Print the python version](#Print-the-python-version)\n",
        "5. [Data-type and variables](#Data-type-and-variables)\n",
        "      <br> A. [Assign value to variable and print with string](#Assign-value-to-variable-and-print-with-string)\n",
        "7. [Operators](#Operators)\n",
        "      <br> A. [Arithmetic Operators](#Arithmetic-Operators)\n",
        "      <br> B. [Comparison Operators](#Comparison-Operators)\n",
        "      <br> C. [Logical Operators](#Logical-Operators)\n",
        "      <br> D. [Identity Operators](#Identity-Operators)\n",
        "      <br> E. [Membership Operators](#Membership-Operators)\n",
        "      <br> F. [Bitwise Operators](#Bitwise-Operators)\n",
        "14. [Looping in Python](#Looping-in-Python)\n",
        "15. [IF Else in Python (Conditional Statements)](#IF-Else-in-Python-(Conditional-Statements))\n",
        "16. [Python Lists](#Python-Lists)\n",
        "      <br> A. [List Concatenation](#List-Concatenation)\n",
        "      <br> B. [List indices](#List-indices)\n",
        "      <br> C. [Add to and Edit items of a list](#Add-to-and-Edit-items-of-a-list)\n",
        "      <br> D. [Remove an item from the list](#Remove-an-item-from-the-list)\n",
        "      <br> E. [List Slices](#List-Slices)\n",
        "      <br> F. [Reverse the elements of the list in place](#Reverse-the-elements-of-the-list-in-place)\n",
        "      <br> G. [LIST methods/functions](#LIST-methods/functions)\n",
        "      <br> H. [Nested List](#Nested-List)\n",
        "      <br> I. [Access list with Loops](#Access-list-with-Loops)\n",
        "      <br> J. [Zip list elements](#Zip-list-elements)\n",
        "25. [Python Tuples](#Python-Tuples)\n",
        "      <br> A. [Accessing items of Tuple](#Accessing-items-of-Tuple)\n",
        "      <br> B. [Add/Edit items of Tuple](#Add/Edit-items-of-Tuple)\n",
        "      <br> C. [So why using tuples?](#So-why-using-tuples?)\n",
        "26. [Python Dictionaries](#Python-Dictionaries)\n",
        "      <br> A. [Add/Edit Dict Items](#Add/Edit-Dict-Items)\n",
        "      <br> B. [Sorting](#Sorting)\n",
        "29. [Python Sets](#Python-Sets)\n",
        "      <br> A. [Sorting](#Sorting)\n",
        "      <br> B. [List to Set](#List-to-Set)\n",
        "32. [Python functions](#Python-functions)\n",
        "      <br> A. [Keyword Arguments](#Keyword-Arguments)\n",
        "      <br> B. [Arbitrary Arguments, *args](#Arbitrary-Arguments,-*args)\n",
        "      <br> C. [Arbitrary Keyword Arguments, **kwargs](#Arbitrary-Keyword-Arguments,-**kwargs)\n",
        "      <br> D. [Function with Return Statement](#Function-with-Return-Statement)\n",
        "      <br> E. [Pass anything inside function](#Pass-anything-inside-function)\n",
        "------------------"
      ]
    },
    {
      "cell_type": "markdown",
      "metadata": {
        "id": "kQYXMQXvW-ta"
      },
      "source": [
        "## Printing in python"
      ]
    },
    {
      "cell_type": "markdown",
      "metadata": {
        "id": "U6vQYZSkW-ta"
      },
      "source": [
        "#### Print your name with python"
      ]
    },
    {
      "cell_type": "code",
      "execution_count": null,
      "metadata": {
        "id": "h7I6aKe9W-tb",
        "outputId": "dbf8a874-cf85-4884-fba7-854d61dda0e0",
        "colab": {
          "base_uri": "https://localhost:8080/"
        }
      },
      "outputs": [
        {
          "output_type": "stream",
          "name": "stdout",
          "text": [
            "CUET\n"
          ]
        }
      ],
      "source": [
        "name = \"CUET\"\n",
        "print(name)       #alternative print(\"CUET\")"
      ]
    },
    {
      "cell_type": "markdown",
      "metadata": {
        "id": "_exc7QsvW-tf"
      },
      "source": [
        "#### Print the python version"
      ]
    },
    {
      "cell_type": "code",
      "execution_count": null,
      "metadata": {
        "id": "mlchIJ1kW-tg",
        "outputId": "d53d86ed-e790-4491-ee9f-3187ca172048",
        "colab": {
          "base_uri": "https://localhost:8080/"
        }
      },
      "outputs": [
        {
          "output_type": "stream",
          "name": "stdout",
          "text": [
            "3.7.15 (default, Oct 12 2022, 19:14:55) \n",
            "[GCC 7.5.0]\n"
          ]
        }
      ],
      "source": [
        "import sys\n",
        "print(sys.version)"
      ]
    },
    {
      "cell_type": "code",
      "source": [
        "!python -V"
      ],
      "metadata": {
        "colab": {
          "base_uri": "https://localhost:8080/"
        },
        "id": "NQ0GQNhRPLC0",
        "outputId": "ea576f0f-a8ba-4c13-9196-091dc94c6e66"
      },
      "execution_count": null,
      "outputs": [
        {
          "output_type": "stream",
          "name": "stdout",
          "text": [
            "Python 3.7.15\n"
          ]
        }
      ]
    },
    {
      "cell_type": "markdown",
      "source": [
        "###Input in python"
      ],
      "metadata": {
        "id": "Iyire4DCR0j2"
      }
    },
    {
      "cell_type": "code",
      "source": [
        "x = input(\"Enter Your Name: \")\n",
        "print(\"Your name is: \" + x)"
      ],
      "metadata": {
        "colab": {
          "base_uri": "https://localhost:8080/",
          "height": 345
        },
        "id": "KCROqqx_PU3v",
        "outputId": "9bbb5334-874e-4d7e-9cd9-d4a492d4fa6b"
      },
      "execution_count": null,
      "outputs": [
        {
          "output_type": "error",
          "ename": "KeyboardInterrupt",
          "evalue": "ignored",
          "traceback": [
            "\u001b[0;31m---------------------------------------------------------------------------\u001b[0m",
            "\u001b[0;31mKeyboardInterrupt\u001b[0m                         Traceback (most recent call last)",
            "\u001b[0;32m<ipython-input-46-13140aae3767>\u001b[0m in \u001b[0;36m<module>\u001b[0;34m\u001b[0m\n\u001b[0;32m----> 1\u001b[0;31m \u001b[0mx\u001b[0m \u001b[0;34m=\u001b[0m \u001b[0minput\u001b[0m\u001b[0;34m(\u001b[0m\u001b[0;34m\"Enter Your Name: \"\u001b[0m\u001b[0;34m)\u001b[0m\u001b[0;34m\u001b[0m\u001b[0;34m\u001b[0m\u001b[0m\n\u001b[0m\u001b[1;32m      2\u001b[0m \u001b[0mprint\u001b[0m\u001b[0;34m(\u001b[0m\u001b[0;34m\"Your name is: \"\u001b[0m \u001b[0;34m+\u001b[0m \u001b[0mx\u001b[0m\u001b[0;34m)\u001b[0m\u001b[0;34m\u001b[0m\u001b[0;34m\u001b[0m\u001b[0m\n",
            "\u001b[0;32m/usr/local/lib/python3.7/dist-packages/ipykernel/kernelbase.py\u001b[0m in \u001b[0;36mraw_input\u001b[0;34m(self, prompt)\u001b[0m\n\u001b[1;32m    861\u001b[0m             \u001b[0mself\u001b[0m\u001b[0;34m.\u001b[0m\u001b[0m_parent_ident\u001b[0m\u001b[0;34m,\u001b[0m\u001b[0;34m\u001b[0m\u001b[0;34m\u001b[0m\u001b[0m\n\u001b[1;32m    862\u001b[0m             \u001b[0mself\u001b[0m\u001b[0;34m.\u001b[0m\u001b[0m_parent_header\u001b[0m\u001b[0;34m,\u001b[0m\u001b[0;34m\u001b[0m\u001b[0;34m\u001b[0m\u001b[0m\n\u001b[0;32m--> 863\u001b[0;31m             \u001b[0mpassword\u001b[0m\u001b[0;34m=\u001b[0m\u001b[0;32mFalse\u001b[0m\u001b[0;34m,\u001b[0m\u001b[0;34m\u001b[0m\u001b[0;34m\u001b[0m\u001b[0m\n\u001b[0m\u001b[1;32m    864\u001b[0m         )\n\u001b[1;32m    865\u001b[0m \u001b[0;34m\u001b[0m\u001b[0m\n",
            "\u001b[0;32m/usr/local/lib/python3.7/dist-packages/ipykernel/kernelbase.py\u001b[0m in \u001b[0;36m_input_request\u001b[0;34m(self, prompt, ident, parent, password)\u001b[0m\n\u001b[1;32m    902\u001b[0m             \u001b[0;32mexcept\u001b[0m \u001b[0mKeyboardInterrupt\u001b[0m\u001b[0;34m:\u001b[0m\u001b[0;34m\u001b[0m\u001b[0;34m\u001b[0m\u001b[0m\n\u001b[1;32m    903\u001b[0m                 \u001b[0;31m# re-raise KeyboardInterrupt, to truncate traceback\u001b[0m\u001b[0;34m\u001b[0m\u001b[0;34m\u001b[0m\u001b[0;34m\u001b[0m\u001b[0m\n\u001b[0;32m--> 904\u001b[0;31m                 \u001b[0;32mraise\u001b[0m \u001b[0mKeyboardInterrupt\u001b[0m\u001b[0;34m(\u001b[0m\u001b[0;34m\"Interrupted by user\"\u001b[0m\u001b[0;34m)\u001b[0m \u001b[0;32mfrom\u001b[0m \u001b[0;32mNone\u001b[0m\u001b[0;34m\u001b[0m\u001b[0;34m\u001b[0m\u001b[0m\n\u001b[0m\u001b[1;32m    905\u001b[0m             \u001b[0;32mexcept\u001b[0m \u001b[0mException\u001b[0m \u001b[0;32mas\u001b[0m \u001b[0me\u001b[0m\u001b[0;34m:\u001b[0m\u001b[0;34m\u001b[0m\u001b[0;34m\u001b[0m\u001b[0m\n\u001b[1;32m    906\u001b[0m                 \u001b[0mself\u001b[0m\u001b[0;34m.\u001b[0m\u001b[0mlog\u001b[0m\u001b[0;34m.\u001b[0m\u001b[0mwarning\u001b[0m\u001b[0;34m(\u001b[0m\u001b[0;34m\"Invalid Message:\"\u001b[0m\u001b[0;34m,\u001b[0m \u001b[0mexc_info\u001b[0m\u001b[0;34m=\u001b[0m\u001b[0;32mTrue\u001b[0m\u001b[0;34m)\u001b[0m\u001b[0;34m\u001b[0m\u001b[0;34m\u001b[0m\u001b[0m\n",
            "\u001b[0;31mKeyboardInterrupt\u001b[0m: Interrupted by user"
          ]
        }
      ]
    },
    {
      "cell_type": "markdown",
      "metadata": {
        "id": "vVL_nwVMW-ti"
      },
      "source": [
        "## Data-type and variables"
      ]
    },
    {
      "cell_type": "code",
      "execution_count": null,
      "metadata": {
        "id": "CsotoA-DW-tj"
      },
      "outputs": [],
      "source": [
        "x = 10\n",
        "print( type(x) )\n",
        "\n",
        "x = 10.5\n",
        "print( type(x) )\n",
        "\n",
        "x = 1 + 2j\n",
        "print( type(x) )\n",
        "\n",
        "x = \"Hello Python\"\n",
        "print( type(x) )"
      ]
    },
    {
      "cell_type": "markdown",
      "metadata": {
        "id": "dbsxsnGFW-tk"
      },
      "source": [
        "#### Assign value to variable and print with string"
      ]
    },
    {
      "cell_type": "code",
      "execution_count": null,
      "metadata": {
        "id": "qr0eVZosW-tl"
      },
      "outputs": [],
      "source": [
        "x = 10\n",
        "y = 20\n",
        "print(x,y)"
      ]
    },
    {
      "cell_type": "code",
      "execution_count": null,
      "metadata": {
        "id": "gQcebCxXW-tm"
      },
      "outputs": [],
      "source": [
        "print(\"This is \" + x ) "
      ]
    },
    {
      "cell_type": "code",
      "execution_count": null,
      "metadata": {
        "id": "9Tyf58m7W-tm"
      },
      "outputs": [],
      "source": [
        "print(\"This is \" + str(x) ) #printed string with integer and converted int to str"
      ]
    },
    {
      "cell_type": "code",
      "execution_count": null,
      "metadata": {
        "id": "TT3KzFRFW-tn"
      },
      "outputs": [],
      "source": [
        "print(\"This is \" + str(x) + \" and this is \"+str(y))"
      ]
    },
    {
      "cell_type": "code",
      "execution_count": null,
      "metadata": {
        "id": "XEzgDM33W-tn"
      },
      "outputs": [],
      "source": [
        "print(\"This is {} and this is {}\".format(x,y) )"
      ]
    },
    {
      "cell_type": "code",
      "execution_count": null,
      "metadata": {
        "id": "pVBM6ciBW-to"
      },
      "outputs": [],
      "source": [
        "print(\"This is {1} and this is {0}\".format(x,y) )"
      ]
    },
    {
      "cell_type": "markdown",
      "metadata": {
        "id": "h26oz7yjqZhO"
      },
      "source": [
        "### Multiple assignment"
      ]
    },
    {
      "cell_type": "code",
      "metadata": {
        "id": "yPO2IevCpbEZ"
      },
      "source": [
        "a_integer, a_float, a_string = 100, 210.10, \"John\"  \n",
        "\n",
        "print(a_integer, a_float, a_string)\n",
        "\n",
        "\n",
        "\n",
        "print(\"Integer: \"+str(a_integer) + \"Float: \"+str(a_float)+\"String: \"+ a_string)\n",
        "print(\"Integer: {}, Float: {}, String: {}\".format(a_integer, a_float, a_string))"
      ],
      "execution_count": null,
      "outputs": []
    },
    {
      "cell_type": "markdown",
      "metadata": {
        "id": "YHyzAN8lqdZE"
      },
      "source": [
        "### String"
      ]
    },
    {
      "cell_type": "code",
      "metadata": {
        "id": "Rg6C0jzCqYmi"
      },
      "source": [
        "str1 = 'Hello World!'\n",
        "\n",
        "print(str1)          # Prints complete string\n",
        "print(str1[0])       # Prints first character of the string\n",
        "print(str1[2:5])     # Prints characters starting from 3rd upto 5th (index 2 to 4)\n",
        "print(str1[2:])      # Prints string starting from 3rd character\n",
        "print(str1 * 2)      # Prints string two times\n",
        "print(str1 + \"TEST\") # Prints concatenated string"
      ],
      "execution_count": null,
      "outputs": []
    },
    {
      "cell_type": "code",
      "source": [
        "print(str[2:2])"
      ],
      "metadata": {
        "id": "QNaO6dditKxx"
      },
      "execution_count": null,
      "outputs": []
    },
    {
      "cell_type": "markdown",
      "metadata": {
        "id": "WlhVENIEW-to"
      },
      "source": [
        "## Operators\n",
        "\n",
        "Python language supports the following types of operators.\n",
        "\n",
        "- Arithmetic Operators\n",
        "- Comparison (Relational) Operators\n",
        "- Assignment Operators\n",
        "- Logical Operators\n",
        "- Identity Operators\n",
        "- Membership Operators\n",
        "- Bitwise Operators"
      ]
    },
    {
      "cell_type": "markdown",
      "metadata": {
        "id": "AclBaWvsW-to"
      },
      "source": [
        "#### Arithmetic Operators"
      ]
    },
    {
      "cell_type": "code",
      "execution_count": null,
      "metadata": {
        "id": "fRlRWZ_WW-tp"
      },
      "outputs": [],
      "source": [
        "x,y = 5,3\n",
        "x/=y\n",
        "print(x)"
      ]
    },
    {
      "cell_type": "code",
      "execution_count": null,
      "metadata": {
        "id": "KSnbONLFW-tp"
      },
      "outputs": [],
      "source": [
        "x+y, x-y, x*y, x/y, x**y, y%x, 5**(1/3)"
      ]
    },
    {
      "cell_type": "markdown",
      "metadata": {
        "id": "B4bK6duGW-tq"
      },
      "source": [
        "#### Comparison Operators"
      ]
    },
    {
      "cell_type": "code",
      "execution_count": null,
      "metadata": {
        "id": "8zPNE-_VW-tq"
      },
      "outputs": [],
      "source": [
        "x>20, x<20, x==10, x!=11, x>=10, y<=20"
      ]
    },
    {
      "cell_type": "markdown",
      "source": [
        "#### Assignment Operators\n",
        "\n",
        "![image.png](data:image/png;base64,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)"
      ],
      "metadata": {
        "id": "oA3e7RumYWas"
      }
    },
    {
      "cell_type": "code",
      "source": [
        "z=4\n",
        "z//=3\n",
        "print(z)"
      ],
      "metadata": {
        "id": "MapFrdImNGp1"
      },
      "execution_count": null,
      "outputs": []
    },
    {
      "cell_type": "markdown",
      "metadata": {
        "id": "-SWmJqPaW-tq"
      },
      "source": [
        "#### Logical Operators"
      ]
    },
    {
      "cell_type": "code",
      "execution_count": null,
      "metadata": {
        "id": "OhEiIRgDW-tr"
      },
      "outputs": [],
      "source": [
        "x < 5 and  x < 10"
      ]
    },
    {
      "cell_type": "code",
      "execution_count": null,
      "metadata": {
        "id": "yTlrusGEW-tr"
      },
      "outputs": [],
      "source": [
        "x < 5 or x < 4 "
      ]
    },
    {
      "cell_type": "code",
      "execution_count": null,
      "metadata": {
        "id": "vfUzarxeW-tr"
      },
      "outputs": [],
      "source": [
        "not(x < 5 and x < 10)"
      ]
    },
    {
      "cell_type": "markdown",
      "metadata": {
        "id": "YZV47upiW-tr"
      },
      "source": [
        "#### Identity Operators"
      ]
    },
    {
      "cell_type": "code",
      "execution_count": null,
      "metadata": {
        "id": "oAJGa9PUW-ts"
      },
      "outputs": [],
      "source": [
        "x is y"
      ]
    },
    {
      "cell_type": "code",
      "execution_count": null,
      "metadata": {
        "id": "rKDmcf4nW-ts"
      },
      "outputs": [],
      "source": [
        "x is not y"
      ]
    },
    {
      "cell_type": "markdown",
      "metadata": {
        "id": "xFKysb4wW-ts"
      },
      "source": [
        "#### Membership Operators"
      ]
    },
    {
      "cell_type": "code",
      "execution_count": null,
      "metadata": {
        "id": "EYKZcDbIW-tt"
      },
      "outputs": [],
      "source": [
        "array = [1,3,5,7,9]"
      ]
    },
    {
      "cell_type": "code",
      "execution_count": null,
      "metadata": {
        "id": "vE3Gg0_wW-tt"
      },
      "outputs": [],
      "source": [
        "1 in array"
      ]
    },
    {
      "cell_type": "code",
      "execution_count": null,
      "metadata": {
        "id": "yApR9_LPW-tt"
      },
      "outputs": [],
      "source": [
        "2 in array"
      ]
    },
    {
      "cell_type": "code",
      "execution_count": null,
      "metadata": {
        "id": "5fjJdrV6W-tt"
      },
      "outputs": [],
      "source": [
        "2 not in array"
      ]
    },
    {
      "cell_type": "markdown",
      "metadata": {
        "id": "zvsGivLiW-tt"
      },
      "source": [
        "#### Bitwise Operators"
      ]
    },
    {
      "cell_type": "code",
      "execution_count": null,
      "metadata": {
        "id": "cg1A7k62W-tu"
      },
      "outputs": [],
      "source": [
        "1 & 1,   1 | 1,   1^1"
      ]
    },
    {
      "cell_type": "markdown",
      "metadata": {
        "id": "EIrJTFDLW-tv"
      },
      "source": [
        "## IF Else in Python (Conditional Statements)"
      ]
    },
    {
      "cell_type": "code",
      "execution_count": null,
      "metadata": {
        "id": "IG95Yz1sW-tv"
      },
      "outputs": [],
      "source": [
        "a = 200\n",
        "b = 333\n",
        "if b > a:\n",
        "  print(\"b is greater than a\")\n",
        "elif a == b:\n",
        "    print(\"a and b are equal\")\n",
        "else:\n",
        "    print(\"a is greater than b\")\n",
        "print(\"CUET\")"
      ]
    },
    {
      "cell_type": "code",
      "execution_count": null,
      "metadata": {
        "id": "Z3zsH5-6W-tw"
      },
      "outputs": [],
      "source": [
        "print(\"A\") if a > b else print(\"=\") if a == b else print(\"B\")"
      ]
    },
    {
      "cell_type": "code",
      "source": [
        "name = input()\n",
        "\n",
        "name[0] in \"aieouAIEOU\""
      ],
      "metadata": {
        "id": "h8KoWxxSmgPl"
      },
      "execution_count": null,
      "outputs": []
    },
    {
      "cell_type": "markdown",
      "source": [
        "## Problems:\n",
        "\n",
        "\n",
        "1.   Check if the input number is even or odd.\n",
        "2.   Check if the input string 1st character is any vowel.\n",
        "3.   Write a Python program which accepts the radius of a circle from the user and compute the area.\n",
        "4. Write a Python program to convert temperatures to and from celsius, fahrenheit.\n",
        "5. Take input of age of 3 people by user and determine oldest and youngest among them.\n",
        "\n",
        "```\n",
        "* input= 10 20 30\n",
        "* output= yougest:10 oldest:30 \n",
        "* input= 10 20 20\n",
        "*output= yougest:10 oldest:20 20\n",
        "*input= 30 30 30\n",
        "* output= yougest:30 30 30 oldest:30 30 30\n",
        "```\n",
        "\n",
        "\n",
        "\n",
        "6. A school has following rules for grading system:\n",
        "```\n",
        "  Below 25 - F\n",
        "  ,25 to 45 - E\n",
        "  ,45 to 50 - D\n",
        "  ,50 to 60 - C\n",
        "  ,60 to 80 - B\n",
        "  ,Above 80 - A.\n",
        "```\n",
        "Now, ask user to enter marks and print the corresponding grade.\n",
        "7. Write a program to trace your subject mark. Your program should fulfill the following conditions:\n",
        "```\n",
        "If the subject mark is below 0 and above 100, print “error: mark should be between 0 and 100 only”\n",
        "Students will fail in the subject if their mark is below 50.\n",
        "Students will pass in the subject if they score 50 and above.\n",
        "If subject mark is between 50 and 60, grade student as good.\n",
        "If subject mark is between 60 and 80, grade student as very good.\n",
        "If subject mark is between 80 and 100, grade student as outstanding.\n",
        "```\n",
        "Make sure to print their mark in every statement to prove that the condition is fulfilled. Moreover, name, class, and section should be also displayed along with the marks and their grade.\n",
        "\n",
        "\n",
        "![subject-mark.jpg](data:image/jpeg;base64,/9j/4AAQSkZJRgABAQEAYABgAAD/4RDuRXhpZgAATU0AKgAAAAgABAE7AAIAAAAMAAAISodpAAQAAAABAAAIVpydAAEAAAAYAAAQzuocAAcAAAgMAAAAPgAAAAAc6gAAAAgAAAAAAAAAAAAAAAAAAAAAAAAAAAAAAAAAAAAAAAAAAAAAAAAAAAAAAAAAAAAAAAAAAAAAAAAAAAAAAAAAAAAAAAAAAAAAAAAAAAAAAAAAAAAAAAAAAAAAAAAAAAAAAAAAAAAAAAAAAAAAAAAAAAAAAAAAAAAAAAAAAAAAAAAAAAAAAAAAAAAAAAAAAAAAAAAAAAAAAAAAAAAAAAAAAAAAAAAAAAAAAAAAAAAAAAAAAAAAAAAAAAAAAAAAAAAAAAAAAAAAAAAAAAAAAAAAAAAAAAAAAAAAAAAAAAAAAAAAAAAAAAAAAAAAAAAAAAAAAAAAAAAAAAAAAAAAAAAAAAAAAAAAAAAAAAAAAAAAAAAAAAAAAAAAAAAAAAAAAAAAAAAAAAAAAAAAAAAAAAAAAAAAAAAAAAAAAAAAAAAAAAAAAAAAAAAAAAAAAAAAAAAAAAAAAAAAAAAAAAAAAAAAAAAAAAAAAAAAAAAAAAAAAAAAAAAAAAAAAAAAAAAAAAAAAAAAAAAAAAAAAAAAAAAAAAAAAAAAAAAAAAAAAAAAAAAAAAAAAAAAAAAAAAAAAAAAAAAAAAAAAAAAAAAAAAAAAAAAAAAAAAAAAAAAAAAAAAAAAAAAAAAAAAAAAAAAAAAAAAAAAAAAAAAAAAAAAAAAAAAAAAAAAAAAAAAAAAAAAAAAAAAAAAAAAAAAAAAAAAAAAAAAAAAAAAAAAAAAAAAAAAAAAAAAAAAAAAAAAAAAAAAAAAAAAAAAAAAAAAAAAAAAAAAAAAAAAAAAAAAAAAAAAAAAAAAAAAAAAAAAAAAAAAAAAAAAAAAAAAAAAAAAAAAAAAAAAAAAAAAAAAAAAAAAAAAAAAAAAAAAAAAAAAAAAAAAAAAAAAAAAAAAAAAAAAAAAAAAAAAAAAAAAAAAAAAAAAAAAAAAAAAAAAAAAAAAAAAAAAAAAAAAAAAAAAAAAAAAAAAAAAAAAAAAAAAAAAAAAAAAAAAAAAAAAAAAAAAAAAAAAAAAAAAAAAAAAAAAAAAAAAAAAAAAAAAAAAAAAAAAAAAAAAAAAAAAAAAAAAAAAAAAAAAAAAAAAAAAAAAAAAAAAAAAAAAAAAAAAAAAAAAAAAAAAAAAAAAAAAAAAAAAAAAAAAAAAAAAAAAAAAAAAAAAAAAAAAAAAAAAAAAAAAAAAAAAAAAAAAAAAAAAAAAAAAAAAAAAAAAAAAAAAAAAAAAAAAAAAAAAAAAAAAAAAAAAAAAAAAAAAAAAAAAAAAAAAAAAAAAAAAAAAAAAAAAAAAAAAAAAAAAAAAAAAAAAAAAAAAAAAAAAAAAAAAAAAAAAAAAAAAAAAAAAAAAAAAAAAAAAAAAAAAAAAAAAAAAAAAAAAAAAAAAAAAAAAAAAAAAAAAAAAAAAAAAAAAAAAAAAAAAAAAAAAAAAAAAAAAAAAAAAAAAAAAAAAAAAAAAAAAAAAAAAAAAAAAAAAAAAAAAAAAAAAAAAAAAAAAAAAAAAAAAAAAAAAAAAAAAAAAAAAAAAAAAAAAAAAAAAAAAAAAAAAAAAAAAAAAAAAAAAAAAAAAAAAAAAAAAAAAAAAAAAAAAAAAAAAAAAAAAAAAAAAAAAAAAAAAAAAAAAAAAAAAAAAAAAAAAAAAAAAAAAAAAAAAAAAAAAAAAAAAAAAAAAAAAAAAAAAAAAAAAAAAAAAAAAAAAAAAAAAAAAAAAAAAAAAAAAAAAAAAAAAAAAAAAAAAAAAAAAAAAAAAAAAAAAAAAAAAAAAAAAAAAAAAAAAAAAAAAAAAAAAAAAAAAAAAAAAAAAAAAAAAAAAAAAAAAAAAAAAAAAAAAAAAAAAAAAAAAAAAAAAAAAAAAAAAAAAAAAAAAAAAAAAAAAAAAAAAAAAAAAAAAAAAAAAAAAAAAAAAAAAAAAAAAAAAAAAAAAAAAAAAAAAAAAAAAAAAAAAAAAAAAAAAAAAAAAAAAAAAAAAAAAAAAAAAAAAAAAAAAAAAAAAAAAAAAAAAAAAAAAAAAAAAAAAAAAAAAAAAAAAAAAAAAAAAAAAAAAAAAAAAAAAAAAAAAAAAAAAAAAAAAAAAAAAAAAAAAAAAAAAAAAAAAAAAAAAAAAAAAAAAAAAAAAAAAAAAAAAAAAAAAAAAAAAAAAAAAAAAAAAAAAAAAAAAAAAAAAAAAAAAAAAAAAAAAAAAAAAAAAAAAAAAAAAAAAAAAAAAAAAAAAAAAAAAAAAAAAAAAAAAAAAAAAAAAAAAAAAAAAAAAAAAAAAAAAAAAAAAAAAAAAAAAAAAAAAAAAAAAAAAAAAAAAAAAAAAAAAAAAAAAAAAAAAAAAAAAAAAAAAAAAAAAAAAAAAAAAAAAAAAAAAAAAAAAAAAAAAAAAAAAAAAAAAAAAAAAAAAAAAAAAAAAAAAAAAAAAAAAAAAAAAAAAAAAAAAAAAAAAAAAAAAAAAAAAAAAAAAAAAAAAAAAAAAAAAAAAAAAAAAAAAAAAAAAAAAAAAAAAAAAAAAAAAAAAAAAAAAAAAAAAAAAAAAAAAAAAAAAAAAAAAAAAAAAAAAAAAAAAAAAAAAAAAAAAAAAAAAAAAAAAAAAAAAAAAAAAAAAAAAAAAAAAAAAAAAAAAAAAAAAAAAAAAAAAAAAAAAAAAAAAAAAAAAAAAAAAAAAAAAAAAAAAAAAAAAAAAAAAAAAAAAAAAAAAAAAAAAAAAAAAAAAAAAAAAAAAAAAAAAAAAAAAAAAAAAAAAAAAAAAAAAAAAAAAAAAAAAAAAAAAAAAAAERhd2EgUGVuam9yAAAFkAMAAgAAABQAABCkkAQAAgAAABQAABC4kpEAAgAAAAM4NgAAkpIAAgAAAAM4NgAA6hwABwAACAwAAAiYAAAAABzqAAAACAAAAAAAAAAAAAAAAAAAAAAAAAAAAAAAAAAAAAAAAAAAAAAAAAAAAAAAAAAAAAAAAAAAAAAAAAAAAAAAAAAAAAAAAAAAAAAAAAAAAAAAAAAAAAAAAAAAAAAAAAAAAAAAAAAAAAAAAAAAAAAAAAAAAAAAAAAAAAAAAAAAAAAAAAAAAAAAAAAAAAAAAAAAAAAAAAAAAAAAAAAAAAAAAAAAAAAAAAAAAAAAAAAAAAAAAAAAAAAAAAAAAAAAAAAAAAAAAAAAAAAAAAAAAAAAAAAAAAAAAAAAAAAAAAAAAAAAAAAAAAAAAAAAAAAAAAAAAAAAAAAAAAAAAAAAAAAAAAAAAAAAAAAAAAAAAAAAAAAAAAAAAAAAAAAAAAAAAAAAAAAAAAAAAAAAAAAAAAAAAAAAAAAAAAAAAAAAAAAAAAAAAAAAAAAAAAAAAAAAAAAAAAAAAAAAAAAAAAAAAAAAAAAAAAAAAAAAAAAAAAAAAAAAAAAAAAAAAAAAAAAAAAAAAAAAAAAAAAAAAAAAAAAAAAAAAAAAAAAAAAAAAAAAAAAAAAAAAAAAAAAAAAAAAAAAAAAAAAAAAAAAAAAAAAAAAAAAAAAAAAAAAAAAAAAAAAAAAAAAAAAAAAAAAAAAAAAAAAAAAAAAAAAAAAAAAAAAAAAAAAAAAAAAAAAAAAAAAAAAAAAAAAAAAAAAAAAAAAAAAAAAAAAAAAAAAAAAAAAAAAAAAAAAAAAAAAAAAAAAAAAAAAAAAAAAAAAAAAAAAAAAAAAAAAAAAAAAAAAAAAAAAAAAAAAAAAAAAAAAAAAAAAAAAAAAAAAAAAAAAAAAAAAAAAAAAAAAAAAAAAAAAAAAAAAAAAAAAAAAAAAAAAAAAAAAAAAAAAAAAAAAAAAAAAAAAAAAAAAAAAAAAAAAAAAAAAAAAAAAAAAAAAAAAAAAAAAAAAAAAAAAAAAAAAAAAAAAAAAAAAAAAAAAAAAAAAAAAAAAAAAAAAAAAAAAAAAAAAAAAAAAAAAAAAAAAAAAAAAAAAAAAAAAAAAAAAAAAAAAAAAAAAAAAAAAAAAAAAAAAAAAAAAAAAAAAAAAAAAAAAAAAAAAAAAAAAAAAAAAAAAAAAAAAAAAAAAAAAAAAAAAAAAAAAAAAAAAAAAAAAAAAAAAAAAAAAAAAAAAAAAAAAAAAAAAAAAAAAAAAAAAAAAAAAAAAAAAAAAAAAAAAAAAAAAAAAAAAAAAAAAAAAAAAAAAAAAAAAAAAAAAAAAAAAAAAAAAAAAAAAAAAAAAAAAAAAAAAAAAAAAAAAAAAAAAAAAAAAAAAAAAAAAAAAAAAAAAAAAAAAAAAAAAAAAAAAAAAAAAAAAAAAAAAAAAAAAAAAAAAAAAAAAAAAAAAAAAAAAAAAAAAAAAAAAAAAAAAAAAAAAAAAAAAAAAAAAAAAAAAAAAAAAAAAAAAAAAAAAAAAAAAAAAAAAAAAAAAAAAAAAAAAAAAAAAAAAAAAAAAAAAAAAAAAAAAAAAAAAAAAAAAAAAAAAAAAAAAAAAAAAAAAAAAAAAAAAAAAAAAAAAAAAAAAAAAAAAAAAAAAAAAAAAAAAAAAAAAAAAAAAAAAAAAAAAAAAAAAAAAAAAAAAAAAAAAAAAAAAAAAAAAAAAAAAAAAAAAAAAAAAAAAAAAAAAAAAAAAAAAAAAAAAAAAAAAAAAAAAAAAAAAAAAAAAAAAAAAAAAAAAAAAAAAAAAAAAAAAAAAAAAAAAAAAAAAAAAAAAAAAAAAAAAAAAAAAAAAAAAAAAAAAAAAAAAAAAAAAAAAAAAAAAAAAAAAAAAAAAAAAAAAAAAAAAAAAAAAAAAAAAAAAAAAAAAAAAAAAAAAAAAAAAAAAAAAAAAAAAAAAAAAAAAAAAAAAAAAAAAAAAAAAAAAAAAAAAAAAAAAAAAAAAAAAAAAAAAAAAAAAAAAAAAAAAAAAAAAAAAAAAAAAAAAAAAAAAAAAAAAAAAAAAAAAAAAAAAAAAAAAAAAAAAAAAAAAAAAAAAAAAAAAAAAAAAAAAAAAAAAAAAAAAAAAAAAAAAAAAAAAAAAAAAAAAAAAAAAAAAAAAAAAAAAAAAAAAAAAAAAAAAAAAAAAAAAAAAAAAAAAAAAAAAAAAAAAAAAAAAAAAAAAAAAAAAAAAAAAAAAAAAAAAAAAAAAAAAAAAAAAAAAAAAAAAAAAAAAAAAAAAAAAAAAAAAAAAAAAAAAAAAAAAAAAAAAAAAAAAAAAAAAAAAAAAAAAAAAAAAAAAAAAAAAAAAAAAAAAAAAAAAAAAAAAAAAAAAAAAAAAAAAAAAAAAAAAAAAAAAAAAAAAAAAAAAAAAAAAAAAAAAAAAAAAAAAAAAAAAAAAAAAAAAAAAAAAAAAAAAAAAAAAAAAAAAAAAAAAAAAAAAAAAAAAAAAAAAAAAAAAAAAAAAAAAAAAAAAAAAAAAAAAAAAAAAAAAAAAAAAAAAAAAAAAAAAAAAAAAAAAAAAAAAAAAAAAAAAAAAAAAAAAAAAAAAAAAAAAAAAAAAAAAAAAAAAAAAAAAAAAAAAAAAAAAAAAAAAAAAAAAAAAAAAAAAAAAAAAAAAAAAAAAAAAAAAAAAAAAAAAAAAAAAAAAAAAAAAAAAAAAAAAAAAAAAAAAAAAAAAAAAAAAAAAAAAAAAAAAAAAAAAAAAAAAAAAAAAAAAAAAAAAAAAAAAAAAAAAAAAAAAAAAAAAAAAAAAAAAAAAAAAAAAAAAAAAAAAAAAAAAAAAAAAAAAAAAAAAAAMjAyMToxMDoyOCAxMjoxNjowMQAyMDIxOjEwOjI4IDEyOjE2OjAxAAAARABhAHcAYQAgAFAAZQBuAGoAbwByAAAA/+ELHmh0dHA6Ly9ucy5hZG9iZS5jb20veGFwLzEuMC8APD94cGFja2V0IGJlZ2luPSfvu78nIGlkPSdXNU0wTXBDZWhpSHpyZVN6TlRjemtjOWQnPz4NCjx4OnhtcG1ldGEgeG1sbnM6eD0iYWRvYmU6bnM6bWV0YS8iPjxyZGY6UkRGIHhtbG5zOnJkZj0iaHR0cDovL3d3dy53My5vcmcvMTk5OS8wMi8yMi1yZGYtc3ludGF4LW5zIyI+PHJkZjpEZXNjcmlwdGlvbiByZGY6YWJvdXQ9InV1aWQ6ZmFmNWJkZDUtYmEzZC0xMWRhLWFkMzEtZDMzZDc1MTgyZjFiIiB4bWxuczpkYz0iaHR0cDovL3B1cmwub3JnL2RjL2VsZW1lbnRzLzEuMS8iLz48cmRmOkRlc2NyaXB0aW9uIHJkZjphYm91dD0idXVpZDpmYWY1YmRkNS1iYTNkLTExZGEtYWQzMS1kMzNkNzUxODJmMWIiIHhtbG5zOnhtcD0iaHR0cDovL25zLmFkb2JlLmNvbS94YXAvMS4wLyI+PHhtcDpDcmVhdGVEYXRlPjIwMjEtMTAtMjhUMTI6MTY6MDEuODU5PC94bXA6Q3JlYXRlRGF0ZT48L3JkZjpEZXNjcmlwdGlvbj48cmRmOkRlc2NyaXB0aW9uIHJkZjphYm91dD0idXVpZDpmYWY1YmRkNS1iYTNkLTExZGEtYWQzMS1kMzNkNzUxODJmMWIiIHhtbG5zOmRjPSJodHRwOi8vcHVybC5vcmcvZGMvZWxlbWVudHMvMS4xLyI+PGRjOmNyZWF0b3I+PHJkZjpTZXEgeG1sbnM6cmRmPSJodHRwOi8vd3d3LnczLm9yZy8xOTk5LzAyLzIyLXJkZi1zeW50YXgtbnMjIj48cmRmOmxpPkRhd2EgUGVuam9yPC9yZGY6bGk+PC9yZGY6U2VxPg0KCQkJPC9kYzpjcmVhdG9yPjwvcmRmOkRlc2NyaXB0aW9uPjwvcmRmOlJERj48L3g6eG1wbWV0YT4NCiAgICAgICAgICAgICAgICAgICAgICAgICAgICAgICAgICAgICAgICAgICAgICAgICAgICAgICAgICAgICAgICAgICAgICAgICAgICAgICAgICAgICAgICAgICAgICAgICAgICAKICAgICAgICAgICAgICAgICAgICAgICAgICAgICAgICAgICAgICAgICAgICAgICAgICAgICAgICAgICAgICAgICAgICAgICAgICAgICAgICAgICAgICAgICAgICAgICAgICAgIAogICAgICAgICAgICAgICAgICAgICAgICAgICAgICAgICAgICAgICAgICAgICAgICAgICAgICAgICAgICAgICAgICAgICAgICAgICAgICAgICAgICAgICAgICAgICAgICAgICAgCiAgICAgICAgICAgICAgICAgICAgICAgICAgICAgICAgICAgICAgICAgICAgICAgICAgICAgICAgICAgICAgICAgICAgICAgICAgICAgICAgICAgICAgICAgICAgICAgICAgICAKICAgICAgICAgICAgICAgICAgICAgICAgICAgICAgICAgICAgICAgICAgICAgICAgICAgICAgICAgICAgICAgICAgICAgICAgICAgICAgICAgICAgICAgICAgICAgICAgICAgIAogICAgICAgICAgICAgICAgICAgICAgICAgICAgICAgICAgICAgICAgICAgICAgICAgICAgICAgICAgICAgICAgICAgICAgICAgICAgICAgICAgICAgICAgICAgICAgICAgICAgCiAgICAgICAgICAgICAgICAgICAgICAgICAgICAgICAgICAgICAgICAgICAgICAgICAgICAgICAgICAgICAgICAgICAgICAgICAgICAgICAgICAgICAgICAgICAgICAgICAgICAKICAgICAgICAgICAgICAgICAgICAgICAgICAgICAgICAgICAgICAgICAgICAgICAgICAgICAgICAgICAgICAgICAgICAgICAgICAgICAgICAgICAgICAgICAgICAgICAgICAgIAogICAgICAgICAgICAgICAgICAgICAgICAgICAgICAgICAgICAgICAgICAgICAgICAgICAgICAgICAgICAgICAgICAgICAgICAgICAgICAgICAgICAgICAgICAgICAgICAgICAgCiAgICAgICAgICAgICAgICAgICAgICAgICAgICAgICAgICAgICAgICAgICAgICAgICAgICAgICAgICAgICAgICAgICAgICAgICAgICAgICAgICAgICAgICAgICAgICAgICAgICAKICAgICAgICAgICAgICAgICAgICAgICAgICAgICAgICAgICAgICAgICAgICAgICAgICAgICAgICAgICAgICAgICAgICAgICAgICAgICAgICAgICAgICAgICAgICAgICAgICAgIAogICAgICAgICAgICAgICAgICAgICAgICAgICAgICAgICAgICAgICAgICAgICAgICAgICAgICAgICAgICAgICAgICAgICAgICAgICAgICAgICAgICAgICAgICAgICAgICAgICAgCiAgICAgICAgICAgICAgICAgICAgICAgICAgICAgICAgICAgICAgICAgICAgICAgICAgICAgICAgICAgICAgICAgICAgICAgICAgICAgICAgICAgICAgICAgICAgICAgICAgICAKICAgICAgICAgICAgICAgICAgICAgICAgICAgICAgICAgICAgICAgICAgICAgICAgICAgICAgICAgICAgICAgICAgICAgICAgICAgICAgICAgICAgICAgICAgICAgICAgICAgIAogICAgICAgICAgICAgICAgICAgICAgICAgICAgICAgICAgICAgICAgICAgICAgICAgICAgICAgICAgICAgICAgICAgICAgICAgICAgICAgICAgICAgICAgICAgICAgICAgICAgCiAgICAgICAgICAgICAgICAgICAgICAgICAgICAgICAgICAgICAgICAgICAgICAgICAgICAgICAgICAgICAgICAgICAgICAgICAgICAgICAgICAgICAgICAgICAgICAgICAgICAKICAgICAgICAgICAgICAgICAgICAgICAgICAgICAgICAgICAgICAgICAgICAgICAgICAgICAgICAgICAgICAgICAgICAgICAgICAgICAgICAgICAgICAgICAgICAgICAgICAgIAogICAgICAgICAgICAgICAgICAgICAgICAgICAgICAgICAgICAgICAgICAgICAgICAgICAgICAgICAgICAgICAgICAgICAgICAgICAgICAgICAgICAgICAgICAgICAgICAgICAgCiAgICAgICAgICAgICAgICAgICAgICAgICAgICAgICAgICAgICAgICAgICAgICAgICAgICAgICAgICAgICAgICAgICAgICAgICAgICAgICAgICAgICAgICAgICAgICAgICAgICAKICAgICAgICAgICAgICAgICAgICAgICAgICAgICAgICAgICAgICAgICAgICAgICAgICAgICAgICAgICAgICAgICAgICAgICAgICAgICAgICAgICAgICAgICAgICAgICAgICAgIAogICAgICAgICAgICAgICAgICAgICAgICAgICAgPD94cGFja2V0IGVuZD0ndyc/Pv/bAEMABwUFBgUEBwYFBggHBwgKEQsKCQkKFQ8QDBEYFRoZGBUYFxseJyEbHSUdFxgiLiIlKCkrLCsaIC8zLyoyJyorKv/bAEMBBwgICgkKFAsLFCocGBwqKioqKioqKioqKioqKioqKioqKioqKioqKioqKioqKioqKioqKioqKioqKioqKioqKv/AABEIAS4CKQMBIgACEQEDEQH/xAAfAAABBQEBAQEBAQAAAAAAAAAAAQIDBAUGBwgJCgv/xAC1EAACAQMDAgQDBQUEBAAAAX0BAgMABBEFEiExQQYTUWEHInEUMoGRoQgjQrHBFVLR8CQzYnKCCQoWFxgZGiUmJygpKjQ1Njc4OTpDREVGR0hJSlNUVVZXWFlaY2RlZmdoaWpzdHV2d3h5eoOEhYaHiImKkpOUlZaXmJmaoqOkpaanqKmqsrO0tba3uLm6wsPExcbHyMnK0tPU1dbX2Nna4eLj5OXm5+jp6vHy8/T19vf4+fr/xAAfAQADAQEBAQEBAQEBAAAAAAAAAQIDBAUGBwgJCgv/xAC1EQACAQIEBAMEBwUEBAABAncAAQIDEQQFITEGEkFRB2FxEyIygQgUQpGhscEJIzNS8BVictEKFiQ04SXxFxgZGiYnKCkqNTY3ODk6Q0RFRkdISUpTVFVWV1hZWmNkZWZnaGlqc3R1dnd4eXqCg4SFhoeIiYqSk5SVlpeYmZqio6Slpqeoqaqys7S1tre4ubrCw8TFxsfIycrS09TV1tfY2dri4+Tl5ufo6ery8/T19vf4+fr/2gAMAwEAAhEDEQA/APfdOvLaw8J2V1f3EVtbxWcTSTTOERBtHJY8Cqf/AAn/AIO/6GzQ/wDwZQ//ABVXNOs7a/8ACdla39vFc28tnEskMyB0cbRwVPBrwnwJpcmoWenaZN8PNNudIvb27guNeeCOWVUy/TAzFtOAGbI4AHavay/A0MTRqVKja5bdYrRpvru9NlqROTjY+hbW7t760jurG4iubeVd0c0Lh0ceoI4IqWvKfFc2peFPA/hb/hXHiKH7BHdQ6enmRx3KXYdtqs0gHABVgdgGcnpirtnqXi3wt8Q9D0TxH4gh1+115LjaRYJbNavEm/jaTuB6c81Dyxyg6lOa+1ZO6laOr6WTtrv5b6C57LVdEz0OW8toLmC3nuYY57gsIYncBpSoydoPJwOTipq8b+IekeIrj4zeFPsPij7H9ra6+wf8S+OT7BtgG/qf3m/n73TPFdXrGr618OfhvqereINW/wCElvbdgYZDZpbAbiqKpVDjAY5J64onlq5KLpVFKVRK0db3cnHqrdNdd72urNvmfNy2O5or5/Xx58S4yuoQ23iW8kOH/s2Xwksdsc9VEqyGTHocE12vxO13xNY/De38V+HtUl0J4YY5biwmskkdzIUAVjIMoUye3PtW08krQrU6TnH33ZO7sn2el9e9mvMUailsel0VxGkWvxEn1my1XVNT0uCwmP8ApOiJDu8iMjgrOBl5M4yOE647V29eVXoqjJR51L06eWy/C67MqMuZXCiuM+K2oa1o/wAP7zVvDmq/2bc2JWVm+zpN5qZ27PnBC8sDnB6Y71z11qvjjwlf+HdR17xFaatZ6zqENlNp0enrCtuZRwySA7mwR/F1rrw+XTr0lUjOOraSd7tpJtbW2fewpT5eh6pRXmPxJ8W6jZa5DpPhnXdQi1BIfMnsNK0FdRmCk8OxZgqjHbrznuKyvD3jTxXrngDxck2oT2Or6APMjvbrTEhmdAhk2yQElVY7SOOgIPNbU8nrToRr8ySdt+a6Tdk/h2u+lw51zqHV/wCVz2OivC9K1n4lanc+G7X/AITK2ibxBpz3pk/suIm1VADgDGHZsjOcAc4qxcfF7X2+HvheS0snn1vXHnjeW0szOyrC5VnSHI3OeDjOBzW8shxCkownGV3bRvT4tXdLT3JbX281eVVi1f8Ara/6ntlFeK+FfG3jyDxRYWuqWHiPV9Ou5hFcS6h4aFibUHgOGjZgQCcncOmea9N8XWniS80VI/Buo2un6gJ0ZprqPepjH3lxg8njt+I61xYnLp4atGlOcbS63dvnpdfcVGalfyNHU9X03RLM3es6ha6fbBgpmu5liTJ6DcxAzVPTPF/hrWrr7Lo3iHStQuMZ8m0vY5Xx64Viaw/i3ZwXfwg8RC+ghuGh0+WVDJGGCSKhw65zgg9D1FcPrngXwsn7PtvrkOlWWmarZaPDfwalZwJDOs6xqykuoBbLcHOc59cGvLvZSb2Vvxv/AJGlruKW7/4H+Z7ZRXkni7x3qVv4O8MJYa/dWPiHU7FLlrTTtEGo3NzmMFisZZVQAknnr26GofhR448U674k1rwz4kn1Bp7eyW6trvU9HSwuU3Hb80KsVK5IIPfBzVNPmce1/nYlNcql3t+J7DRXzlpnxn1zwzd3uieMteOo6jJqc2nNcfZIoRpKIQouiqriRWLg7TgfIeTXTeE/GuuxfBa+8U+MPGKRveXDRabePpaMYwHKLtij2+YzFSQD069BS6cy2/z6euv9WY+tn/W/+X9aHs9FfP3hv4keNrHx9odjrlzrt7p2r3f2VhrHhmPTUXcPlaJ0cljnHB7e9fQNO2lxX1sFFFFIYUUUUAFFFFABRRRQAUUUUAFFFFABRRRQAUUUUAFFFFABRRRQAUUUUAFFFFABRRRQAUUUUAFFFFABRRRQAUUUUAFFFFABRRRQAUUUUAFFFFABRRRQBiw6d/a3ge2sftl3ZefZRp9os5fLmj+Ucq2Dg1yFp8FrLT7T7LYeM/GNrb5Y+TDqqomWOScBMckkmuvh1ay0LwPbanqs3kWdtZRvLJsZtq7RzhQSfwFcz/wvT4c/9DF/5I3H/wAbr18D/aXs2sJGTjfW0bq/3MiXL9oW7+EGkXXhfSNBTWdctbPSHaSA290iM7ltwZ/kwWU52kAYyau6r8NrLV/E2la5ca5rqXWlKi26R3ahOOGJBUnLjhsEbhXT6Vqlnrek22paZN59pdIJIZNpXcp74IBH4irdYyzDGxlaU2mub/yb4vv6iUINabfoc94r8Fad4uWze8uL6xvLF2e1vtPnMM8O4YYK2DwQOeKp6V8NdC0621CO7a+1mTUoRBdz6rdNPJMg6KScAYJyCACK3rzW9OsNWsNMu7pY7zUS4tYSCTLsXc3QYGB64q/WaxWLp0lTUmo7r7+nldel/MppNnnZ+DOkGH7I3iDxM2lgbV0s6o32ZU7IFxnb+NX/ABN8L9K8T6VZaVLqutWGm2dututlZXmIpFXG3eHVt5GBgn0rtaK0/tTGc8Z+0d1qvXv6+e4uSK6HN+F/B3/CLzTyDxFr+riZAuzVr7z1jweqjaMGukoorjrVp1p89R3ZSioqyMDxl4RtfG2hf2TqF9qFnbNIHk+wzCMygA/K2VIK85xjqBWLrfwrsde0zR7K98Q+IVXSOYJY71RI7g5WRyUOXXoGGCK7mit6OOxNGMY05WUW2vV6MTinucfrnw103WtX/tSHVda0i+kiWK4n0u9MDXSqML5nB3YHfiseP4JaJbf2kthr3iOzh1NNl1DDqACyepOUJYnnO4n7zDvXQeMvHdv4KjjmvdF1q/t2jaSS4060EscAXH+sYsAvWuisrpL6wt7uEMI7iJZVDDkBhkZ9+a7FjMxoUIyU2oPRbdP8unboTaHNbqcTYfCXS9Pl0WSDXNeL6KWFuWu1y0bEExNhOU+XG0YGM0ln8HfDlr4Z/sOa41K8gjuDc2k09yPNspD3hZVXZzzjGCeTmu9orB5pjX/y8ff8W/1f3sahFdDhbH4TaVBqlpf6prfiLXJbKVZrcapqTSLE6nIYABe4+lbvi7wlYeNNFTTNVmuoYEnScNay+W25egzg8c//AKiK3aKyljsTOpGq5u8dvL0GoxV7GD4u8JW3jHwxLoV7f6hZW02BI9jOI5HUcFCSCCp7gjmuSs/gbocS20Gq+IPE+t6dbFTHpmp6n5lr8v3f3aqowOw6e1el0VxrR3RXSxyXiv4c6V4rv7XUDe6po2pWsRgjv9HujbzeUTnyycEFc84xWVofwa0bw94uh8R6frfiH7cqhbgS6hvW8/67ZXLduMgcDiug8W+O9B8EQ27+ILmWJrreLeKG3kleUqAWACg4wD3wKv8AhzX7TxR4csta01ZVtb2PzIhMoVtuSOQCcdKI90D7M5fUPg/4X1PWvEmp3a3LT+IrYW10N67YgNvzR5XhsorZOeQOKv3Pw30C88BWPhKdbg2OnrH9lnWXbPFIn3ZVcAYfJJzjHJ4xWZrfxi0LSNYvNPttM1zWjp7bNQuNJsDPDZN3Ej5GCOc4zjB7jFdnpOrWOu6RbanpNyl1ZXUYkhmTowP8j2weQaSV42W2n/A/4APSWu+v6X/S551d/AbRr+S2uL3xV4uuNQtJPMg1CXVt88XsrFMKOhyADx1r06GLybeOLe8mxQu+Q5ZsDqT3NPoph1uFFFFABRRRQAUUUUAFFFFABRRRQAUUUUAFFFFABRRRQAUUUUAFFFFABRRRQAUUUUAFFFFABRRRQAUUUUAFFFFABRRRQAUUUUAFFFFABRRRQAUUUUAFFFFAFHQ/+Re07/r1i/8AQBXjfw4h8a3OkadBCumt4Plvr1L5VP8ApBjLSBhJu7bunl89M8V6xDpNlrvge20zVYfPs7myjSWPey7l2jjKkEfga5n/AIUX8Of+hd/8nrj/AOOV7eXYvDUKFSnWveTX2VJKyavrKOuunaxE03axgeNGtZPAXhO++Hmv6hplgt/DY2hs5nWNo3fYS6N8z7SnAbrk5zmr0Vrqfgf4oeG9Mi8S6xrFnry3K3MWq3Am2NHHvVo+Bt57V0N78KfBmo6Pp+lXmjeZZaaHFpF9qmHl7zluQ+Tk+pNT33w18J6lrNlqt7pPm3tikSW8v2mUbBGcoMBsHHuDnvXUsxwns/ZNycf3m8Ytvm+Ft3u2nq9tdjNwk18l95wnxE8Ki++MvhPOv63a/wBqNcjNve7PsmyEf6jj5N2Pm65zW54g1E/Db4da4NF12917VrRVmI1S9W5ntxIyoGIwCEHJAIxnNdh4k8JaF4vsUtPEenR30Mbbk3FlZD7MpDD8DzUOg+B/DXhmzntdE0a1torhPLmypdpV/uszZLDk8E4rL+0qM6FGFa79nZONlaVpN/Fe+zta3nctx9/mR4iD8SodMTxFanWld0WYXt14rspLFs9/JKhdp9N3HrXa/FabU7n4R2/im21fUdI1C2toZTDpd/thkaVowwYoTvAydpDY56nNb4+DPw/F+bv/AIRq381m3FfNk8vP/XPdtA9sYq/r/wANfCPiYWY1nRo5lsYfItkilkhWKP8AuhY2UYruqZvgp4ijVUbKDu7QV2v5dZu66dLdERGEle/5/wDAKGj+D/EiaxY67qvjO9mus5u9PiQfYWjI4jSM8qQcfvDljjoM13Fc54X+H/hnwZPcTeGtM+xSXKhJT9olk3AHI++xx17V0dfPY2uq1S8XdLb3VH8E38tWXCLitTkPif4iv/DHgee90qSKC5kmitxczLlLYOwUyEdOM9+M469K5jWvAerWPhW41HR/ibrCXckalrvUtSAs9pI3MMKdnGcEHjpmvULu0t7+zltL6CO4t5lKSRSqGV1PUEHqK42D4M/D+3vhdx+G4DIG3bZJpXTP+4zFce2K7sDjqNCkoyvFp3doxlzLSyd2rWt577DnFv8Ar8S18S2D/CXxAyuJFbTnIdTkN8vUVraTeQaf4Hsry7fy7e306OWV8Z2qsYJP5CsvxD8MPB/irUUvtd0cXNxHEsKMtxLGFRc4UKjAcZPap/DXw98L+EJLl/D2li0a7QRz5nklDqO2HYjuaxdTCfU1S5pcyd7cqtrZWvzeW/L8hJS5k+3/AADxLXtX8Uf2PN4v0OXxfBpjZmtb3UPENtHEfm4zabPmHooPPFeq+LtT1u++Fun3Oh6hb2Gq6ilsV33KQNMXUM0UTvwHPOPoamPwa+H5nnl/4Rq33XAIcebJtGeu1d2E+qgY7Vbl+F/g+fwxB4el0cNpdvObiKD7TL8shzk7t+7ueM4r1sRmeX1XScYtckr/AArVdnebvZryT8iIxmpXfmcD4YXUdD+IGh23iDVfGOnNctKFs9Yvo763u32EBRIjDaRnPKkEgdO9/wAdW/ijV/HU0GlX2qXWlWsEe+18O6zDaXNrIeSZVcZbcOQOOK7Hw78M/B/hTUPt2haJDb3QBCzPI8rLng7S7Hb+GKg1v4TeCvEesz6rrOii4vbggyyi6mTdgBRwrgdAO1R/amEeLVZp2UbfAt732501p152/loEYSUWv6/L9Cn8Jr37TouqQS6xq2pXVtqDpLHq6gXFp8qgRkhmDDjO4EAkngdK1rWwZfiXfXv/AAlbzq9mi/2B5ikW/T97t3ZGcddo6nk8CtbQvD+k+GtNXT9BsYbK1U7tkQ+8fUk8k+55qOLwxo0HiifxHFYourXEIglutzZZBjAxnA6DkDPAry62KpTr1akbpSVlpHy37bdNV56suMWoWf8AWpPrf/Iv6h/16y/+gGuW+DX/ACRvwz/15D+ZrU8XfD/wz47W0HirTPt4sy5g/wBIli2bsbvuMM52jr6VT8LfCvwb4L1V9S8M6P8AYrt4jC0n2qaTKEgkYdyOoHavLjpe/W34X/zNHra3S/42/wAjkdW8QR2l7qfgr4MaZDca1eXMk+p34Yta6fJIfnkkc5y/BwgzjGMHG2u88CeE4/BHgnTvD8Nw119kQ75mGN7sxZjjsNzHA9K5qX4A/DSeZ5ZfDW55GLMft9yMk8n/AJaV2nh/w/pnhfQ7fR9CtzbWFtu8qIyPJtyxY/MxJ6k96I6Rt10/D/IJay02/r8TSooooAKKKKACiiigAooooAKKKKACiiigAooooAKKKKACiiigAooooAKKKKACiiigAooooAKKKKACiiigAooooAKKKKACiiigAooooAKKKKACiiigAooooAKKKKAMWHUf7J8D2199ju73yLKN/s9nF5k0nyjhVyMmuOt/jbp93YNfWvg/xhNaJu3XEemK0a7c7ssJMcYOfTFdvp15bWHhOyur+4itreKziaSaZwiINo5LHgV4X4AvDFb6ZdXXxE0m10aC+u3udCuJ4oWaNmceuZQxOdr4AzkZr6DK8HQr4epUqwu4tW+LW6btonrp1stfQzqSatY930DWrfxH4fstYsUljt72ISxrMAHAPqASM/jWjXhvxFvvCPibwD4P1eyK6TG2oxxWQMq20ltB5m2UqqttAXapzzt46Zq41j4a+H/xc8KW3ha9jsoNWjnXUY2v2kWYFMwswdjgs33T3PSm8pjKLknKMnz2i47cl205X7abb6eZPtGl30TPT9S8TWOl+I9H0S5Exu9YMot9igqPLTc245446da168V+KPhTwn/wtXwxfeIbeKGy1V7hdTuJ7p4o3KQgRZbcAmDjpjPfNXdS1Tw94d+G/iPTPg7cRS3tpEtzKtlLJceWrkK0iyEsCQoJ4PGM1LyynUo0JUHLmmlduPupuTjrK7tbTprvpeyrmanboeu0V8pjS1i0xNbtfE3giyv2RZf7Rh1fUDfBvUxlmO49xs/Cu/8AjC+h6z8HdO1PWb2xuNfFnDNZPHcMhl8wx+Y8cZ2llIGeV4HYV01MhUK9Kkqjam+W/Lqn6Xs131TXYmNXm6HttFebeE/CfhS91y11zT/FkuueIbT57u8t9SVzMrDHlvGpKrFnooAxgDJxXpNeDiqMKE+SMm+91bX/AC7PT0RcJOSuFFc18RLqC0+H+qtc6y2iK8XlLfqrMYmYhRwvzck4yOmc14bpuneHND1zQJriHRb25OowZufDWvyzzO+cgyQSbiy7sE7cH0PY+jgMr+uUZVOZpptJKN72V920vkrvy2FUnyK59L0V8/fEt9U1r4qXuja3d6Ja6VDbxyWFvr13c21tMMAs6tEVDOGyPmPbA6GtL4VXF9pPiDWNI0/XtAv4Rp7XFvpekXVzcxwyKQAUaUEYO7BAfqRx6byyRxwir+01spWtpZ/3r799LdLidT3+W3ke31U1XUoNH0e81K83fZ7OB55Ngy21QScD14rxLwrp/wAO/EGiR6v4619H8UszG7k1DVHtZrWUMfkRN67Qvbj/AArZPhrw/q37Pl1Zwag/iWLTI7u4t73bJEWuF8xt2M5bBYjkkHrzUzyqlRqKNSUtJKL9yy1vqnez262bvdLQcJ8zVup6no+qQa3ollqtmHFvewJcRCQYYKyhhkeuDUGuX2q2ENs2i6N/azyXCxzJ9qWDyYzndJlvvY4+UcnNeS/D6H4U+HdI8O639rsYvEMlvCj+XfSSyieRArAwqx28kjlQB7VP8Z7bwU8iao93YHxNbXdrEw+3/vY4xICcxb8AbSTkr05qo5ZT+vqglLlbaV4db26SWi01v8jNVH7Nye9r/h/Xc9morj/Fnig3Xw51zUPAmoWupXttAdj2Uyz+WeMn5SfmC5IHsK8sv7L4b2PgY+INA8TynxX5IlgvY9Rke9nuCPuvFu/ibg5UcHr3rmweVyxEbzbTcuWyjfX+9qrLXfV76aGkp2tY+g6K8P8AHNjpWreKvh/L4snj0/V72Dy9UCXhgdEMROwjI2KXLrnAJyRmtTwvFong344z+F/Dd3Ha6ZcaT5j2JvDIBdiToAzEh9mTt6456VpLKY+w51NuXK5W5dLRbT96/wA1pr5C9p1tpp+J65Wb4g1n+wNDn1L+zdQ1Pydv+i6bB5075IHypkZxnJ56A1zvju28Lz654XfxPqlxY3UV/u02OGRlE8vy/K2FPH3ecjrjPOK0PH3im28I+Dr7UJbq3gumiaOySeZY/NnIwigsQOvJ9ACTwK8etT9nRjUV9b9LLR20fX9HobR1nZmX4C+LOgfELUb/AE/SrfULK9sADLb6hEsbkZIOArN0PBzjGRXcV8wwalq/gC+8E6/qHha30OxsYvslzff29bXJ1KCYgu4RDuchnMny7uvpzX0xZ3ltqNnFd2FxFdW0yh4poXDo6nuGHBFQ1p+BCepNRRRUlBRRRQAUUUUAFFFFABRRRQAUUUUAFFFFABRRRQAUUUUAFFFFABRRRQAUUUUAFFFFABRRRQAUUUUAFFFFABRRRQAUUUUAFFFFABRRRQAUUUUAFFFFAGXp1nbX/hOytb+3iubeWziWSGZA6ONo4Kng1T/4QDwd/wBCnof/AILYf/iamhub2z8D21xpVh/aN5HZRmK085YvNbaON7cL9TXC6d8VPGGraFJrGn/DczWEfmb5RrkQx5ZIf5SmTgqe3PavTweHxlWm5UJWSdn78Y6vbeS3/QmTWlzvJ/CPhu5s7e0ufD2lS21ru8iGSyjZIdxy21SuFyeTjrT5/C+gXV5Dd3Oh6bNc24VYZ5LSNnjC/dCsRkY7Y6VR0XxtpeoeG9G1PVbm00iXV4Vkgtbm6UMxOPlUtt39R0HcVp6dr+j6xJLHpGq2N+8P+tW1uUlKfUKTj8axmsZTb5ubS/e2+uu24k4tJrqTahplhq1obXVbK3vrckEw3MSyISOhwwIosNMsNKthb6XZW9lAOkVtEsaj8FAFc14g+JOieHfF+l6DeXdmGvDKLmaS8RBY7U3L5gPTdkAZx+NdHpur6brVsbjR9Qtb+BW2GW1nWVQ3plSRnkcVNSjiaVGMppqEtV27foO6vbqVB4R8Ni/N8PD+lC7Zt5uPsUfmFvXdtzmpdT8N6Hrckcms6Np+oPEu2Nru1SUoPQFgcCmxeKNAn1M6bBrmmy3wbabVLuMy59NgOc/hUmqeING0Pyv7a1ax07zs+X9ruUi34xnG4jOMj86L4rnive5um97eQWjqN0vw7omhySPouj6fpzygCRrS1SIuB0B2gZrSqmNY0xtV/sxdRtDqGzzPsgnXzdn97ZnOPfFXKwqOo5c1S933GrdCvfafZ6pZvaanaQXltJjfDcRCRGwcjKkEHkA1R07wr4e0i6+06ToOmWM+MebbWccbY+qgGruoajZ6VYyXup3UNpbRAb5p5BGi5OBliQBkkCuW8H/E/wAPeKtHtLmTUdP0+9upGjXTpb6MzAhyqjbwSWABAx37100qWKlQlOmnyJ2dtrvy9F/WgpOK+I6bUtH03WbcQaxp1pfwq24R3UCyqD64YEZo07SNN0iEw6Tp9rYxHqltCsan8FArkJvGWraR8UJtG8RzaNa6E9g97b3W50kRVdUAkZ2CDknoPTmuysNSsdVtFutLvLe9t2OFmt5VkQn6qSKK1HEUacVJ+40mrba/hcV4uVuqKV/4U8Papefa9T0HTLy54/fXFnHI/wD30QTWpFFHBEsUKLHGgwqIMBR6AVmz+KNAtdSGnXWuabDekgC2ku41kyeg2k5rUrCo63LFVL26Xv8AgVpczLPwzoOn3zXlhomnWt0xy08NpGjk+7AZqG98HeGdSvJLvUfDuk3dzKcyTT2MTu5xjliuTwK2az9U1/R9E2f21q1jp3mfc+13KRbvpuIzVwq4iU/ck3LybuDS6jtL0TStEheLRdMs9Pjkbc6WlusQY9MkKBk1FD4Z0G31Q6nBomnRX5YsbtLSMSknqd4Gc/jSHxNoI0x9ROt6d9hjcRvdfa4/KVjjCl84B5HGe4p9z4i0Sy02DULzWLC3srjHk3Mt0ixy5GRtYnByOeKdsTzP4rvTrr5eYly9BL/w3oeq3sd5qmjafe3UQAjnuLVJHQA5ADMCRgnNA8N6GNY/tYaNp41Ldu+2fZU87OMZ343Zxx16VymreMNc0T4paZpGonR4/D2pRTSx3GXE0Yij3MXYsEA3H0PHpXX6Zrela1E8mjanZ6hGhwz2lwsoU+5UnFbVaWKo04ybfLKN1Zu1m2reWq2FeLk0S3WnWV9Nby3tnb3Els/mQPNErmJv7ykj5T7iodW0LSNet0g13S7LUoY23pHeW6TKrYxkBgcHB61geJvGlpYyRWukeJfC9veRXSrew6rfhCkXO8AK2Q/TGePWupgu7e5s47u2nimtpEEiTRuGRlIyGDDgjHOa56lCrCnGU1o9irq9jPv/AAv4f1WztrTVND029trRdtvDcWkciQjAGEVgQowAOPSr9nZ22n2cVpYW8VrbQqEihhQIiL6BRwB9Kpaf4m0HVrtrXS9b069uEyWhtruOR1x1yqkmrOo6pp+kWv2nVr62sYM4825mWNc+mWIFZulUUuRxd30tqGnQtUVQsdd0jUyg03VbK8LoZF+z3CSblBALDB5AJAz71y+n/FjwxeeJtX0ubVdNtbfTxD5V7LqEQjuy6ksE5x8pGDgnr2rang8RU5uSDfLq9NtbfmLmSV7nb0VHBPDdW8dxaypNDKoeOSNgyup5BBHBHvUlczTTsytworHl8YeGoGuBP4h0qM2r+XOHvYx5T5I2tlvlOQeD6GtKC7trq0S6triKa3dd6zRuGRl9Qw4I96uVKpBXlFr5Cur2JqKybXxX4ev78WNjr2mXN23S3hvI3kPf7oOaS88W+HNPu5bW/wBf0u1uIADLDNexo8Y4+8pOR1HX1FV9Xrc3LyO/owujXorPsdf0fU7uS103VrG7uIlDyQ29ykjop6EqDkDkUzUfEuhaRdJbatrWnWM7jKxXN2kbMPYMQTS9jVcuTld+1gujTopEdZEV0YMrDKsDkEetV7bUbK8uLi3tLy3nmtWCTxxSqzQt6MAcqfY1nyt3dthlmivMNV+J3iy2+IF74U0b4e/2pcW0P2qOT+2oofNgLbRJhkwMnjbnNdH4M8eQ+K7nUNNvNNuNF1vS2Vb3TbplZkDDKurLw6H+9x+RBKXvK6B6OzOsornH+IngqN2R/GGgKynDKdThBB9PvVtrqNk+mjUVvLdrFovOF0JV8ox4zv3ZxtxznpR0uHWxYorN0nxHomviQ6FrGn6mIseZ9jukm2Z6Z2k4qrN428K25uBceJtHiNrJ5Vxvv4l8l8kbWy3yng8H0PpQBuUVFa3Vve2sdzZTxXFvKu6OWJw6OPUEcEVjnxx4TU3AbxPowNr/AMfAOoRfuedvzfN8vJA570BubtFedeJ/HWt6Z4w8Kf2HJod94Z1+6jtPtCs8s5cklmRlbZtwBg885rrIfFOi6ldXGm6Jruk3eqxK+LVLxHdGXg7kU7gAeDxxR0v/AFoHW39amzRXm/gn4kyzQavB8RtS8P6Vf6fqj2CGGcwRTFVUnb5rZblvbtxXoUt5bQWbXc9xFHbKm9pncBAvruPGPejpcOtiaisrTPFXh7W7t7XRtd0zULiMbnhtLyOV1HTJCkkVq0AFFFFABRRRQAUUUUAFFFFABRRRQAUUUUAFFFFABRRRQAUUUUAYsOrWWheB7bU9Vm8iztrKN5ZNjNtXaOcKCT+Ar568E634L0+bStZ1bxtqVtd6ffXNx/ZTwTS25DFwuwKmELBgScnOSMCvpHQ/+Re07/r1i/8AQBV6vYwGYU8JRnTlFvn3aklpZq2sZb3ev3ETjzaHhHxF8Y+HfFvw48KatrlnHaSX+orIInVpXS3STbOBIqggEbSQME8YBxVzWtQ8IeGfjL4JGgRWulrNFKLoWdoYhJHMgEG4Ko3Zb8R3xXtdFdEM2pQgqcaclH39OfT39F9n7K73u9dCHTbWr1tbb8TyP4p6doWmePvCviLXtItm0gSXCardNYiZWJiCxeaApLc9Mg4xxS6rq1l4m+G/iHS/hLpM9qBCsiz2un/ZYbnLDzEj4Us+wEdPQDNet0VjDNFGnSUotyp2teXu6S5tY213tvt0Lcfe5kfKElj4fm0dbFvFgW/VVVtNg8ERpexuP4fMGDuB77/xrv8A4wavoi/CHT7DXXM3iOexgks3vbFkuPvJ5hPDeUxAO5d3tzXuFFd1TP1Ur0qsoP3HzbxWvqoLTve7a6mcaXL/AF/wTzDwDa/DHXbqF/CwXUdV0thcyX00cy3DSMCC7yOFL5OeDkDsBxXp9FFeFi8Q8RU57yt05pcz++y6+RpCPKrFXUtPtNV06Wz1G0gvLeQfNDcRh0YjkZB46gGvC/h9rvgbwt4ZtdP1/QBP4vsZpS9rHoxlvN3msU2uUxkArj5hivfqK6MJjlQozoTTcZNPSXLqrrs9HfXbZajlHmseN+INQ8K6/wDtAaPYa7DHc+Vphh+yXdszBbh2DorKQVJ2MTzkD61U8KapZP40+I2g+BZ47Sa4tlbS7eGExRpMkbJIVBAVCHKjtnqMgV7fRXWs2gqXslB25VGzldXUua9uXq1a3a+pPI+bm81+Gh8nWmn6Ta6N/Z/iHxPHpWrbWWfTbrwZHPdBj1xMQWbPUMWB+lfQ3wySaP4caTFcTX8zRxsivqFqbeYoHIXchZsfLgDk5GDXV0U8yzl4+l7Nxtrf7PntaEX16tkxpcsrhXgfxC1Dwj/wtPUZdQ1uHTtQtoIoJoNY0IajbTfKGHl4yycNzwMk8V75RXDl2NWCquo03dW0aXbvGS/A0kuZWPI/A2m22ufC3xHaDwzZxwzTTyWzRWzpBfOU+SaOKYkpyAABgAjjHQcV4n8Z+Hr74A2vhqOK4uda0+3t454zYv8A6A6MoZmdlAXoVyCT82O5r6Ror0aWcxjXdWdNv31NLm2a01bTvfyt92hCg0l8/wATwD4geKvB/iT4heDTcCbV9NtIJZr2GK2kJVHjR42KlQWXgMQOgBz6VsaPd+Gtd+KOhXnwqsDFBbCUavdWdo1rbGEr8qOpVQz7sEce/OOPZ6Kl5vTVGNKnCS5YuKvO696921yq7101WyvewvZa/d+BxHxB8J+HH8F+ItSfQNLa++wTy/ajZRmXfsJ3b8ZznvnNcf4p07WtT/Z08MQ6ELh41tbJ76K2iEsjwCMZwhI34O07e+OeM11ev+B/FPiG6vre48eywaJesyvp8Olwh1hPWMTZ3dOM4rs9O0+30rS7XT7FPLtrWFYYkznaqjAGfoKKeOWEpUmpqpKMua3vWSta3vJa+l0U1eW3f8bHzA8GiXEtodE8ZPe6jbzJJFBovglILlHB4+ZChOO43H8a9K8aNpOm/FJNW+I1hNeeHv7PWOwmktmntbebd+83xgHDHjGQf049eorWtnvtZxbg7JNbxT1ts4wjbbs933IjStfX+l8zy3wVP4A1L4iNqngSxu98mntbyy2lgYLCMBg3zZRT5hwOmQQK56WLwN4M+K3iaPxpoljbafeJatpSSaT50TYQiTywqEA7iM9Mmvc6K5o5qo1JO0uWUVH4/e0aafNy26W+Ha5fJpZmP4W1a01rw/Bdabp11ptoMxw29zbeQQi8AqnZSOntWxRRXjVJRlNyirJ/P8S0rKx4lo6+A9Y+O3imK8sbC7KwL5UU1kWTzUDfaG2ldu7IGWPJ7E5NRfD7xXbw+AvHUXhW0XV2s7+4uLHTPJfyzbSYCfKQMrw5KDnAIwMivcqK92ebwnDklBtWgknK69zy5V8S7NW11I5Pe5vO/wCFj5J1y808aZb6nput2FxcwXMMs9tpnhRLRLJgwPNxtD4B4HXJrttZ1nwL4o+NcFyiWl7b3OiMqmSybEt02ShYMoyfLIwzDA45yBX0BRXZPiCE7P2bTSkk1JL4rb2gr2t/mRGk117fg79z5n8Hah4c0i5+GuoaeYbWUve2uo3CQNuedkAVXOMuMyJjqBntg1nQ6emmXV9B4+8SxaLrUlzI0sWo+E49Qa4JP345yGLKe3QDt619U0U/9Y/fcvZvXfWLfxSktZQa+1bborWF7H3bXPPfgrA1r4Fkt1utRuraO8k+zPf6f9kOwhT8ib2ymSSCMdSMDFXvB1z4Xm8Y+Ko/D+l3FpqcV0F1OeWNgs8nPKksRjOT0Gc5xzmu0orw6+N9tUrVGmnPs7dU9Ukk/wANdTSMLRUTwrUPiT4T8O/tIare6zqv2a3h0VLCR/s0r7ZxLuKYVSenOenvXR+Cr0+Mvi5qvjXS7WePQE0pNOtru4haI3jeZvLorYO0dMkD+ePUqK86OiV91f8AG9/zZpLVvzt+Fv8AI+R9R174V694nntJ7a10PwxpkrTAQWLyX+sS5JI87aTHGTkbSwOCOn8HqHj+az13wV4I1iz0m9uPAsci3Go6Zaw/OsAQeVujQ8ohHzAEivaKKFpFLtZ/d/Xy6Desm+9/x/r5ngcV14R8TfELwvc/BjTPJurK8DanfWGntaWyWhB3xy5VQzNxjg/WjQl+HetftA+MI77T9OvCkCmGKawLIJIw32ltpXbu3AZYjJ5wTk175RRtt5/j+gv+B+Dv9581+F7+TxH8HviBoPgC4llmi1WWeztLZXjb7DI6nbHkDG5VkG3r1GOecj4kax8Kr/4ZrYeENB8jXLVogwj014ZbTDAP58hUbu68lvmI+tfVZ6cV5pe/DHxN4gmW28Y/EGfVtE89Z302HSobXzNrblVpFJJXIGR39qF8S7e7+H9f1cd7Xl6/j/X/AA5ynxje1bVvA3gzwneQ6PrCXqS2yQ25RLZGVlVxhdo+bPA574qP4O634N8L6xJ4U1rS4tO8b2872892yNctfNyzMswBKghclSVHTqc1710ooV1fz/4H+XzItol2t+v9eR88eCLz4ba/ffETW9btrHUSl7LeC4u7F5SloQArqGQ7fmLdAG/Sk8M+MZl/ZbgXS7KDW5bO5NjfJfWr3ENnEZCwd48fvFVCnAzjI9CK+iKKVvd5V2S+7/NF31v5t/efIUWs6F4f8b+FtftPE1tqGnW2oA3V3YeE10yKBSPmXeihpDjPy4PGTX11DMlxbxzQtujkUOjYxkEZFPoqr6WJtrcKKKKQwooooAKKKKACiiigAooooAKKKKACiiigAooooAKKKKAOX1PUNS0j4WvqWiLate2empOi3YYxkIgZgdpBztDY564rjtC+NH234Uaj4h1K2hj1mwYRGziVgskkn+pIUkttbI7/AMLV1PiKaWH4OXYtrG7v5ptJEEdvZwmWVmkjCAhRyQC2T6AE15roXhG0mstH8YahoXiOCbQLe2t7zRf7MPmahPEgVJkUsNwXd1I6L25z9NllDCVMI5YiP21Zrd6L3fSW1+jdzKo5Jrl31/T/AIf5HaeCPiVNefDo+K/Hs+m6ZbyXLRQm2SQAAHbhlJY7twbp2rofDPxD8K+MLqS28O6xHdzxLvaIxvG+31AdQSPcdM15JoMnjPT/AIVadp2naR4h0yK31Cb+1Tb2W29aF2Lr5Cvgn72CRgggdRmm6HFq+lfFLQ9b/sXx9f6b5UtuZdZH2iZC428qMeWgJBO484JHSu3EZRhajryi0mnLlSkrWWyatu/8XW9jP2jilbX/AIex67cfEPwraeKn8OXWrpDqkalnhkikVUAj8wkyFdgAQZzmqMnjHTvGnhzVk8BeJ4ob+zXLXC23mGLByf3cgAYEAjdyOfauI+JV4NZ+I2g/bfBHiLVtL0Oaf7WI9LaWK53Kuwx4OHUMoJzgcd+ldvJrVpL4KvfEVp4S1a3upIPsv2P+zQt86g7VGwHJQbsjngZNefLA0aNKjVjFuUrbuLipX6q2qaV7Pbq2bKT9py9DF8N/FnSNN+Hvh+/8ea2I9R1KCSTf9lZjJtkK5xEmB2HQV6VDMlxBHNC26ORQ6nGMgjIr518HeHdd+HS6B4ol8O3+vfbYWgurE2Lvd6bh2w0Yx8oI7HGc4zzkfQWlX/8Aamk2199kurPz0D/Z7yPy5Y89mXnB9qnO8Jh6FTnw2sW5a3Vr3eiildW73s91oZUZScUpdl+W5brktd+KXgzw1qrabrOuxQXi43xJFJKU9mKKQp9jXW14Vf3E9t4u1y7sPD/xC0a6nvHDHSLZbm0u9uVExWRQMt14yMd65crwdLFTkqt7JdGlr80/wTNZtxjdHsOm+JdH1bw8Ndsb+J9LKu32p8ogCEhid2MAEHrXNJ8Z/h9JJMi+JIAYQSxaGVQcf3SVw30Ga5+58L+J9a+BUGlXel2kOpwzJOdOiVLdbmJJd+xlT5EZhyQOM+nZ+r+KovEfh9vD1x8LPEtwCFC2ctsLa2DKQQBOGAVQR1A/Cuyll2FcpbySk17s4q0Vaz1XvX/7dWm5HO7L+vkdz4l8beHfCFvFN4i1WGyE3+qUhnd/cIoLEe+MCpvD/irQ/FWnNfeH9RhvbdDhymQyH0ZSAy/iBXCarHqnhX4mTeLbrwvfa5Z31hDbx/2couLjTnUfMipxlWPJYH19an8J2uo3vj/WPG7+H7zQ9Om08QLZTIFub2RW3ea0Q+62BtAJyc1lLAYdYb2ietk780bN/wAvLvdd79L2tqPmlzW9DZtfi54GvNOvb6HX4hb2JQTvJDKhBbdtChlBcna3CgnitRfG/hpvC6eI/wC2bVdJf7tyzbQT/dwed3H3cZ9q8l0rWUg+Kmu+LdU+HXiy5+1LANOY6MWktyqbZCQWwpOFwQScZ6ZOd/4o+CrzVLbQNS8OWN5FZ2E8lzd2GlOtrdZkAJlTggyAg5HU59yR11crwcMRTpScoqVndyi18N3HRLW+l3ZeWl2lN626HY+HPiR4R8W3ps9A1qG5uQCRCyPE7AcnaHUFsD0zR4m+IvhXwrc/Ydc12GyvJF+WMRtK6ZHBZUBx684zXlWl6HPqnjDRLq20v4lXjWV4kpn8Q3ccMduu4bmAdTuGOqggkcA10mmT6j8O/E3iNtT8I6vrf9r6g9zb6npVutw0kTdIpBkFAvI545PHclXK8JCraDb0vy80VJu9t7W21+G/y1FGpK39f1/w5p/CbxJqmvyeIYdU8QJr8VjdpHa3sdvHCsiFM5CoP5k16NXknwie/sPFfia1v/CWp6HHqV0byDdbEW0Sgfc8zgbjuzgDHXpjFet15uc04wxslBJJpbWtsr/DpvfbQql8Ovd/mc5438VaX4W0F5NV1j+xnuw0Frd/ZWuPLlKkhtig5x1weDirfhW/XUPCOn3o1X+11kgDG/8As3kef6t5f8PTpWd418UtoFoLVPD+u6u15DIqtpVl56xHGPnORjOePoa534S+ILmHw1pfhm/8MeIdPuLO1PmXV5p5ityQc4Dk5yc8DFUsI5Zd7WMdU+8dVZ7acytZdWnvYblaaX9dDQPxr+HohEp8Rx7TIY8fZptwIx1XZkDnrjHvxXaWV7balYw3lhPHcW06B4pY23K6noQa8r8CanNbXPjjUb3whr0DXdzJexCbTCsk8RAAiXJ+Zs5O0cc9a2fgiL22+GttpuqaXqGnXNjNKjJfW7RbwzlwUB5K4YDoOQa3zDL6FGlKdG6cXFayTvzK+lktnZdb36CUnzWfdr7j0KvP/iN8U9P8C6hpdgZYTd3FzC10ksUjeVaMzB5QVGCRt4GSfY16BXB/FfTNRvdH0W90uwm1A6TrNvfz29uA0rxoTu2L/EeRxXBlkaE8XCOIV4vzt6a2Zcr8rtvY0dM8Y6T4/wBJ1GDwPr+y7hQL9r+xufs7Nna2yRVDdDxXJeCfjFosHhy1t/HHiaFtaaeZHY25XgSsqlvLXanAHXHHPvXSab491HU5Z5k8Ea/a6db20k0kt5CsU7uoyI44MkuW5wcjn61wnh43dr8CPEOnS+EdbS/me4jMB00iSdpi2xwvVgoK5PbHGa9ijg6Ps506tOy5oW96Dkr3TvLl22bVl09TO7dtfz7HrmteI9I8O6R/ams38VrZEqBMcsGLdMYznPtWb4Z+IfhXxhdSW3h3WI7ueJd7RGN432+oDqCR7jpmuCurzxcvwl8KR6RYa7YRQRpbawltaj+0FSNAmYkfnDEE7uuNp6ZFc/ocWr6V8UtD1v8AsXx9f6b5UtuZdZH2iZC428qMeWgJBO484JHSlSyehKhUcpe+ua1pK3u30atu7aWltqTKq0k7dvz/AEO68XfGHR/CvjzTtCuLqFYAZP7VkeCVmth5YaLbtGG3EjON2Pauw8NeK9F8X6a9/wCHbz7ZbJIYmk8p48MACRhwD0Irk/iLBqNj4y8JeJ7PSL7VbPSJLkXUOnxiWcebGFUqmRkZ610PhjxPqPiO5uGuPDGo6NYIimGbUSscsrHqDEMlccck81x4jD4d4KnVow1t7z5478zXw2TvazVnoraOzb0bkp+R0dZXiHxPo3hTTvt3iHUIrG3LbVZ8kufRVAJY+wFatebfFoLLcaEknh/xFfiOWSZNQ8PE/aLFgABgbSDuz3I6cVwYChDEYmNKd7O97WT0V+un9aJvQtuybN/QfiZ4R8T3E0Gh6wt1LDA1xInkSoVjUgFvmUeoqfSfH/hnXPD99rml6l5+nafu+0z+RIvl7V3H5WUMeDngGuN+Hh8Q3XjaW8nsNXbShZeS154jsIbe9Vw2QiMg3Oh6kNxnnr1bZaprPgzxJ4qsh4Q1rVZdW1F7yxms4QbZlZAAHlJwnI5yDivWq5bhvaTpUrtpRa9+Pf3k24rVL0t2aMoTb1e1/wBP6RN8QvGd9L8O7fxl4C8SfZ7CKUI4NirfaQZRH1lXKbTu7c/rXRaZ8VPBWrawulWPiG2lvWbYqFXVXb0VyArE9sE57V5BINbb9nmHwl/wh/iI6m12wI/s19gAnEuSfvBSGwDjqD6ZrqfE2oX/AIv8Hr4N034c6tYXrCONJbu3WKzsipBLpMCc49gCRn6H0amWYb2aoyWinNKScE1DS0paXkt+3qtERzy5k/Lz7s7fxv498P8AhaFtO1XXv7G1C7t2a1m+xyXHlnkB9qqQcHseuKteBPEth4m8Mxz6frf9uPbN9nub77I1t5koAJPlkDHDDpxW/bRvDaQxyyeY6Iqs+PvEDk15d4F0+41fw38R9Osrj7NcXeu38MU2SNjMigHjnqa8OlTw9XCSWqcXG7umtXbblUkrdOZm2t4vv/l/wDo7r4veA7PVTp1x4kthcBtpKI7xg+8iqUH58V0t9remabo7atfX9vBp6oJPtLSDYVPQg985GMdc8V892Phu/wBJ0MaFq2n/ABPW7RDG9tpN0j6fJ/usBgKfTBxnHNdfc+D9Xi+HHhHyfD91dLod8bm40O9u45pZI9zY+ZVVGIBBC4HBx16+picpwNOUFCo7N2d3HVWbutrXtbW6V9X3yjUk27o7DTfi74F1e6jt7DxBFJPLMkEcbQyozu52qAGUZ5PUcDvWV4u+MOj+FfHmnaFcXUKwAyf2rI8ErNbDyw0W3aMNuJGcbse1Q3nidfF93pdv/wAK08RzT2V5FcwvqUH2KK3ZT/rA+75toyduMHFWviLBqNj4y8JeJ7PSL7VbPSJLkXUOnxiWcebGFUqmRkZ61jRwmEhiIwqU2uaM9HOO9ny6pdel0tbb2adXk07M6zw14r0Xxfpr3/h28+2WySGJpPKePDAAkYcA9CKfF4n0afxRP4divkbVreETy2u1sqhxg5xg9RwDnkVR8MeJ9R8R3Nw1x4Y1HRrBEUwzaiVjllY9QYhkrjjknmo7W/ZviXfWX/CKPAqWaN/b/lqBcdP3W7bk4z03HoeBwa8qWGjGpUi4tWV0uaLttu9nvskn9zLUnymT8U/FOsaDb6Hpvh65ttPu9c1BbMaldqGjtBjOcHgsegB461n+FfFGuaP8Tn8C+LPENn4immsjd217DbLbyxsD80UkaEqPl+Yd8D3rc+Jc+kr4aS18QeEtV8U2V1Lsa20uz+0PGQCQ5wyle43A55rhPhd8OGt/Hv8AwlcXhc+E9ItLZ4NO06aQyXMzP96WYszEcZAUnjj0yfOh8Tv5/lp+PYufwq3l+ev4Gv40ufGWmX13fah8S9A8JWIaQ6dZtZxytdRqM/O0pDb+QCEB6jHpXX/DnxJfeLvh7pOuarara3d3EWkjQEKcMQGUHkBgAw9jXF+J/Fltqxn0rxl8IfEGqTQvJHA0GnJeQFScB0nyNhYAE45X1OK6X4SaLrXh/wCHFjp/iMPFcxtIYrd5fMa2hLExxFu5Uce3TtRD4Xfyt/XcJbr5na0UUUAFFFFABRRRQAUUUUAFFFFABRRRQAUUUUAFFFFABRRRQAUUUUAUdD/5F7Tv+vWL/wBAFXqo6H/yL2nf9esX/oAq9QAUUUUAFFFFABRRRQAUUUUAFFFFABRRRQAUUUUAFFFFABRRRQAUUUUAFFFFABRRRQAUUUUAFFFFABRRRQAUUUUAFFFFABRRRQBzXifwX/wk15Dcf8JJ4h0jyo9nl6Tf+Qj85yw2nJ7Zq/4a8M6b4T0ZdN0iN1i3mSSSV98k0jfed2PVjWtRXRLFVpUlRcvdXQXKr3CiiiucYUUUUAFFFFABRRRQAUUUUAFFFFABRRRQAUUUUAFFFFABRRRQAUUUUAFFFFABRRRQAUUUUAFFFFAFHQ/+Re07/r1i/wDQBV6qOh/8i9p3/XrF/wCgCr1ABRRRQAUUUUAFFFFABRRRQAUUUUAFFFFABRRRQAUUUUAFFFFABRRRQAUUUUAFFFFABRRRQAUUUUAFFFFABRRRQAUUUUAFFFFABRRRQAUUUUAFFFFABRRRQAUUUUAFFFFABRRRQAUUUUAFFFFABRRRQAUUUUAFFFFABRRRQAUUUUAFFFFABRRRQBQ0QhfDmnk9BaRk/wDfArjj8c/h0rEHxDyOv+g3H/xuuy0P/kXtO/69Yv8A0AVerpoSw8b+3jKXa0lH84yv+Anfoc5qPxA8M6V4Ys/EN/qflaXfFRb3H2eVt5IJHyhSw4U9QKz9H+LvgfXtXt9L0nW/tF5ctsii+yTruOM9WQAdO5rs6KuM8JyNShK+tnzK3ldcmvnqr+Qve6P+vvOP1z4r+C/Desz6VrWs/Zr2Db5kX2WZ9uQGHKoQeCO9XdI+IHhnXtCv9Z0nU/tFhpwY3U32eVfLAXcflZQTxzwDXR0USnhPZpKEubS75lbz05NPLV28x638jz//AIXp8Of+hi/8kbj/AON1W8Y+Hdd8SeLYb+y1vWNM8PR6M0nm6ZqBt91wGLKCnU5U9cdsZFek1heLofElzo3keETpQuZSUlOqeZs8sqQdvl87s468V2YfEUadaLw0eVu6bnJSWvXSMbfiJJvST0/pnmnw80HxRPN4L8SReIdd1Kxu4p5NWivdTLwxnYVj2xkgkFj/ALWCAeK3774rX+k+N7jw3qfhG6Fy0TS6cLS5W4e9G/ah2quIwQGYlm+UKc1p/DXQvFnhnRItG8SvosljZwiO0bTzKZSckneXAHfsK5+48L/E/wD4WDJ4ptZfCPnizawijka52+T5m8EgDO/p0OPavVqVMNisXV9vyOMU+V3cb6tx29bPTZLrqYwUo0130/4J1mleKtbvfDupXeoeErvT9TsGK/YJbmPZPwCCk5whXB5PQYI5rmtC+Mn2/wAU2ej6vo1rY/bpTBBLaa3bXxEnYOkZygPTPPPFbfi/wlrPjT4eRaVqN5Z22qb45p1gDm1mdDkxnJD+WePcYBrh7n4V+M5NQ0rVbG28D6Ze6ZdLNHBYWUkMcmOheQLvbn+Hgc5zmssJSyyrCftuWLbaWsvd00s76pvunbqxzc0vd/ryO98TeOpdK12PQPDuh3HiDW2h897WKZYUhjzgM8jcLnsP5ZGYfDvjzUdU8Yf8I1rnhifRb9bA3r77tJ027woCsnBzk88YxjFQ634T8TReJh4n8Iajp0OqXFoltfWl/G7W0205DBl+dcZP1q7oNn4/bUjd+KdU0VIEiZEsNMt3KSOfuu0knzDHoOOa5HDBrDe6ot8u7clLm9F7tu2nqym5N/d+n/BMOy1aWf4z2qa94L/szUpbSeKz1P8AtUTeZBG2f9Uo2jOc88jNbfj/AMb3vgiHTrmDQJNWtbq4FvK8NyqPEzEBAqEEuW+bAGOnJ5rl7rw38V7zxXp/iCWTwaLuwglgiRWuvLZZMZJGM544wRWp428N+N/E3h/Qre0k8Px3tpcx3l6ZGmEZmjIKCPAJ2dc556YNdUqeFliKDqSg42tJc0rLfu7pWt1tfoK8vet8vuX6/gW9G8f6lL4qtNC8VeFptAn1FJHsHN5HcLPsGWB2fcOOcHNRX3xF1K41y+0/wX4TuPESabIYb65F2ltHHIOqJvHzkdwMf1qHxD4X8Zar8QPDOu2suhLbaOpMiSNMHZpF2zYABBGPu8jnrWVq1pqvw/8AEGof8I34r8L2FnrM7Xsln4inMbwyMcM8W0jcCR34GMe9KnQwVWUXCMXJx+G8uVPmd9nzfDZrW17+gNyX4f1950Pw/wDiBe+O7jU2bw5LpdlYzNbiee5VnaVSMo0e0FCAQT1HbNdvXmPwLiuP+EZ1y7uboX32zXLiVLxU2rc8IpkUehYGvTq8zNaVKjjJ06MbRWnXt56/1sVTbau/M4vxB431XQ/Hek6CPDXn2WqSCOHUmv0jXIGXGwr1A5AJBbtQPHGrSfFCXwnb+GvOt4I0mm1FdQT91Ew4Yx7cg5425yRzjFU/i3qHh3/hEL221PWrOx1azQX+nqZ1Fwk6ZMbImcnJG3p0Jqx8KdPceFDr2oXUF7q2vSG8vbmFlZc9FjBXjCAYx2O6u1UsPHALEzpa25ftay3U97aK+m1+lnopN83Knv8Ahbf9P6WtWX4lavqV7djwV4NuvEGn2UrQzX5vY7ZGdfvCIMCZAPUd/wADRqvxV8rwB/wlWgaFLqVvBK0V/bz3K20lkV4IcEMSckDA9c1WtPB/jvwh9o07wNqmhy6LNM80MWrRSCW0Lkkqhj4YZOfm/Kr0fwy2fDXWPDcuqNPfazJJc3d+0QUPO5B3bB0X5QMZraUcrhKLai480dnO7j9pzXRrpy216NB77l/Wxe8VeN7nw1c+HQujfa7XWbyK0e4+1BPszyEbfl2kvxuPb7vXmqvjz4iXfgTUtPa70A3Gi3UscMupi8CmF2JyPKClmwq7uOvTrXN674L+J/iG30g3upeGI30e9iuoLeFJxHM0fRpHILZ7bVwCGPPArV+IPhfxz4n1HTBo8vh6Ox027gv4vtTTiVp485DbQQUye2D70UcNgI1KUakoNe9ze9L5a9+1tO6Yrzs/T8Ta8PeMdX1nXfsmoeDtT0mxniaa0vbhlbeARxKg/wBSxzwpJJ5rrqxPDH/CVfZJv+Ez/sf7Rv8A3P8AZPm7NmP4vM5zn0rbrw8Xye1ahFJLs2163ZpG9rs8x+LtrevqXhVrHXtY0sX2qR6fMmn3jQqyPklsD+MY4JyPakuLbWfht4m0ExeItU1zRdXvF0+4t9WnE0sUrg7JEk2g44OR/PPGl8SPC/irxJf6HJ4al0eOLS7tb7/iYNKGaZM7R8gOUweeh96itvCPi3xD4i0zUfiBf6SLbSJvtFrY6OkmySYD5XdpOflz0HFe9Rr0lhKcak48qUuaO71vy9L32s76GU03J2XTT1/qw/xf8QPEHhnU79LTwY19plhAk0mpTaklrEQw5A3rhiCMYUk9OORVvwx8QTqvw/uPFviLSX0CyiDSIJJvNMsQAxIPlU8kkAY5wCOorB8f+CfG/inxha3llPoFxodgVkttN1J5gkkm3l5VRfmIOcDdjHbls7Nt4V8S+IvB+uaL8Rb6wl/tF8W/9lqQlsmAQBuUE4YZGcn3rOVPL/qlJvl5ny8zTlzJddG2m+r0SWyuXeXtPIz2+KWt21kNa1PwDqNr4bYB/t/2qN5kjPR2tx8wHc88Dnmrvij4j3uhazottpfhuTW7PWos2d1bXiqZH2ltoQjpjaSxIABJ7VnXHhX4l6no7+G9U1/Ql0iSM28uoQW0n2yWLGCCh/dgkcHB4qfxB4K8S/294Ubwo+jx6V4cjCxJfNL5rEr5bZ2DBGzGOnOc8VoqeXe0XMofa0Up2tb3W23fmv8AK26RF6nK35fj5Gt4Y8c3eq+IbjQPEmgSaBq8NsLtIGukuEkh3bdwdcDIPaskfFHU9RNxfeF/Bd9rOg2zsj6kl0kTSbT8xihYbpBxxjGfapj4V8VP8ZT4nkk0Y6QbM6eYt0vnmAnfnGNu/f7429s1y9zHrPw7t7rw1o3jjwrZ6SgeSFdWlIvrNHy21EBw/XIyOc9KKWGwVWf7uMXJqL5bz5VvzbXldaWTb3e+iKvJO3S/4f8ADjtd1tfij8DdY1zWPDv2C3tUe405vt3m73QMpfChSMHcMMMHrV7wr8Sr+/8A7K0Lwj4Zk162s7G1jvdRS8EMcD7FDL8yYYqOcBsnnHSqXhbw54i1f9m7TtF0M2EU+oLMJm1HzFHkSSSHcu0E7jlSMgjBq5a/DbxV4P1GxvPh1eaVaK9kkeqWV/LKbeedVx5iqq5HrnKn25IPdU+oqNXDSa92c+SLcuVWstdb62dtbN76GPvyUZLs/uv/AF8iv4hiPhX48w3/AIZ8PTarqWp6TK8tvFcbBJJ5ijezuSqKFXHA6445rufB3jKTxLcalp+paTJo+r6W6Ld2TzLMFDruRg68MCAayJfDfjGX4sWXiQyaGNOgtBZvGGm84xthpCBjbu3g45xjqM1Bofg7xbB428U6nq15pUNnr8HlB7B5fPgKKUiZdwwDtYk8nkDHFefXeGr4dKpKPPGEbSu2783w2vbSN+l9tTWz5213X5alDXPjLe+HtSnh1TwxaxW9u373/iobQ3IXOMiANuJxztzXp9ndRX9jBd2zbobiNZY29VYZB/I14i/wW8S/8I3NoUUPgyOJY2WLU/sEjXsxznLuwOwn1XOO1eseDbHWdM8J2Vh4jaxa8tYxCDYFzGUUBV+/znA57ZrLNKOXxoxlhWuZOzs3qujs27ffoEZT5tdjbcssbFF3MBkLnGT6V5C3xu1iCG/nu/AVwkGmXv2K8eLUkk8uUnARRsG854wvA455r1593lt5eN+Pl3dM+9eM/wDCtPHc2ieILS6ufDol1TVE1WMxyT7VmEisynK8JheByc96yymOClzfW1F6xtdtbvW1muncupzcvu7/APAf62O38JeOLrxFJrFjqGgTaXrOkhGmsDcpLuEilo8SDAycdDjHFcwfjZJY6xFba94ftLK2adYJJINftbqaJmOMmFDuwD19BT5/h14r1LWPFMl7qWmWdt4lsIIriW0MrSxTRxhflBAHlklwQSSVI6HNc9qHwb8VahocVjFa+CNNe1aMwy2VlIss+0/8tJmUsPU4zk8V6dChlDqN1ZRtLl0vL3bxV7O+vvXVmna2rsZSdTl93fX/AIB6J8RfGuo+BdHTVbTw/wD2tZJn7VL9tWD7Pkqq8FSWyW7DjFQ6X4+1DWtZs0t/CGqDQL8lINXfAycZ3NDjcsZHR2xnI45rO8feGfHnjDwbDocUvh2L7TCv9ouzTriVXDDyTg/LwPvDNdH4WXxujzr4x/sDyhGBb/2V527d33+Z26dK872eEp4FSajKpeSfvSvbSzte1738rbp3uW3JyVtP6/q55ToviTTPhb4n8Y6VoWlvfXUuo20OnaRDK5klGwliGIc4Gc859K9Xi8Wvpvg19f8AHGnnw4ImxNCZvtXlgsFU5jXnORxjjvXnzfCHX9Tk1/W9YudMtvFF1cRXOmXmmzzIts6DBBLLkKRjI+b8K9G8Ix+LIdLaPxvNpU92hVYpdND4dQOWfcB8xP8AdAHtXXmk8HVjGrFqU/d53zPmdoxXu7q3dtN38iYKSl5Xf5vf9DCtfjX8P7y7htrbX980zrHGv2K4G5icAZMeOprU8S/Enwn4P1JLDxFqv2O5kiEqx/ZpZMoSQDlFI6g11FFeI54LnTVOXL1XOr/fyafczX3ur/r7zm/DPxB8MeMZrmLw5qf2x7VA8w+zyx7Qeh+dRnp2rDPxz+HSsQfEPI6/6Dcf/G69AoojPBc7cqcrdFzq673fJr9yt5h71t/6+85zUfiB4Z0rwxZ+Ib/U/K0u+Ki3uPs8rbyQSPlClhwp6gVn6P8AF3wPr2r2+l6Trf2i8uW2RRfZJ13HGerIAOnc12dFTGeE5GpQlfWz5lbyuuTXz1V/IPe6P+vvOP1z4r+C/Desz6VrWs/Zr2Db5kX2WZ9uQGHKoQeCO9XdI+IHhnXtCv8AWdJ1P7RYacGN1N9nlXywF3H5WUE8c8A10dFEp4T2aShLm0u+ZW89OTTy1dvMet/I8/8A+F6fDn/oYv8AyRuP/jdd7DMlxBHNC26ORQ6nGMgjIp9FTXlhpW9hCUe95KX5Rj+olzdQooorlKCiiigAooooAKKKKACiiigCjof/ACL2nf8AXrF/6AKvVztxo9jr/wAOo9N1aD7RaTWMXmR72XdtVWHKkHqAeteC+CXSDwFD4d8aRfadA12Ca70mUyMghuoywMRII6kBgOhJ75OPZwOWRxlGVRTs4tK1r3TTd1qrtJN200W5EpcrS7/8D/M+nKK8h8H38Xgn4B6VqWlTaTYT3WJZJNWnkWKRyTuwFDMWwowqjsTS+APi9feJfFyaBfzaJfPcwSSQXOlR3MaxsgztdZlBORk5HTHvTnk2ItVnS96FNtN2ttu+q/EiNVOMXLS/6nrtFeISfFL4iWtpq13Npfh2eHSNU/s2cRGZWmlLBQI8t0BIJLY4PTrXQ2fxR1DRdO8Ur45srNb/AMOrAz/2Yz+VP5w+RBv5BzgE9Ofbl1MkxcFdWltomm9Wl/7dH7yvaK9v6/rQ9OorwD/hoTUIZBeTT+G7m1yGOnW6Xq3QB/h8xo/LJH5V7bFqjap4XXVdCRZ3urP7RZpKdocsm5Ax7ZyM1hjMpxeB5XXjZS0+f9fIcakZuyZpUVkeF7jXbvw5azeK7K3sdVYHz4LZ9yLycYOT2x3P1rXrzqkHTm4Np27ar5MpO6uFFeZfHzSrK++Gkl3dQ+ZPZ3MJgfew2F5FRuAcHKkjmszxd4M0r4ZaFF4r8DedpVzY3EJuLYXUrxXsbuEMbqzH+9kH29cEerhsvpV6VOXtGpzbily6XVt3zX15l9n/ADInNxdkul/z/wAj2CivPPiV4/vfCMtqlhqnhuzMse901Vrh5eTwRHCpO3g/Me/0qLwL8RNV8ceFdcfT4tMk1nTTshliEwtbglSVbawEgHBGDzx71msqxLwyxVvc7+rt+Y+ePMo9WekUV4vpXxtvbjw1DHqB0qLxDf2811ZhEkFrEke7KzZfcHPlyYC5H3ema6G38da9F8JbTxNrM3h3Tr+8KyRfa3mig8phlRgbnZyBnAzxz2rWrkuLou00k3LlXm9dvLRijUjLY9HrM1Pw3oWtzJNrOi6fqEsa7Ue7tUlZR1wCwOBXm3w9+L154l8ZRaBqc2jX32mF5IrnSI7mNY2QZKus6gnIycjpj3r1yubFYXE5dWUKnuytfTt+Y4zjNOwyGCK2gSG3iSKKMbUjjUKqj0AHSn0UV57berLMrUvC3h/WboXOr6Fpt/cBQglurOOV9o6DLAnHJ4q7Y2FnplnHaabawWdtHnZDbxiNFycnCjgcnNWKK0lVqSioOTsul9BWV7hRRRWYwooooAKKKKACiiigAooooAKKKKACsq98K+HtSv8A7dqOhaZd3fH+kT2cbycdPmIzxWrRVwqTpu8Hb0DcQAKoVQAAMADtS0UVABRRRQAUUUUAFFFFABRRRQAUUUUAFFFFABRRRQAUUUUAFFFFABRRRQAUUUUAFFFFABRRRQAUUUUAFFFFABRRRQBhpZ3eoeBILTTb7+z7qaxjSO68kS+USg52Hg/SuO0/4Punw7vPB+u+IP7UsSA2nsLBYTYyAsd4IYl8lu56ZHQ13+h/8i9p3/XrF/6AKjuPEmh2mpJp13rOnwXzkBbWW6RZWJ6YQnJzXfhcXiqUXTod1LRJu62d7XVvXq+7JaTs30/U4+5+FIl8H+HdLt9ae31Hw8S1nfi1V0LHqWhclT2xzwR1qo/wu8Sy+JtO8QzfEG4m1SzVkMkmmRFCjdVSMMFTIyCeT06YrtNU8XaDo3h3+3r7U4f7L3BRdQ5mQkttGNgOeeOKl8O+JdJ8V6SNT0C7+12ZcxiTy3T5h1GGAP6V2LHZlCm6jXu3abcE1eWsldx63d4/gRyQ0j/Wmx54vwc1htJ1myufGvnHVb1L9pP7KRdlwHDF8B+c4AxwB6Vpf8KpkvNa1q517XjqFlrlnDBfWq2axNJLEihZg4Y7SGBYADHODnFei0VlLOMa7+8te0Yrt2Wnwx26q5XJG9/67nnQ+Hvi8W4sB8TNRGmKAiRrYRC4CDoPtGdxP+1XajTJY/Dn9lxajdeatr9nW+lYPNu27RITxlu+fWtCiuWtja1e3PbTXSMVr52Sv8xxiou6Mjwvo95oPhy107UtXuNZuYQQ97cjDyZJPPJPGccknjrWvRRXNUqSqTc5bvXt+Q0klZHJfETwbe+OdATSbXW/7KgMokn/ANEE/mhSCo5YFcMAeDzWUnw31nVbu1/4TnxnP4gsLSVZ47BLCO0jd16eZsJ3gehr0Kiu2lmOJo0lSg0kr292N1fdqVrp+aZMoRk7s4bXvh7f3fjCbxJ4Y8SyaFqF1CsF0zWMd0HVeBt3/c4AzjrimeDvh5qfhLxTqOqP4rn1K21LD3NvcWib5JAMBzLnPGTgAAYIHauk13xb4f8ADKj+3tYs7BmXesc0oDsvTIT7xH0FaltcRXdrFc27b4pkEiNgjKkZBwfatJY3GrD8kvgkuW7itUunNa7t0106CcYuWu+55Ld/s+6Tdadr0I1HZcanfLdW1x9lybJQzHywNw3Ah2BOR2OOK63xP8PINd0vRYdO1B9Lu9CINhcCBJkTChfmib5W4UY6YIqS8+Kfgmw17+xrvxDbR3ofy2Xa5RGzjDSAbFIPXJGO9daDkZHIrfEY/NIuE67kusbruknurNWVu33sOWDbXX/M8z/4Vf4jfxVpniK58f3FxqVkGRnk0yLY0bfeVEDAJkZBPJ5B4xXplFFeficZWxXL7W3u6KyS03tol/wCoxUW2uoUUUVyFBRRRQAUUUUAFFFFABRRRQAUUUUAFFFFABRRRQAUUUUAFFFFABRRRQAUUUUAFFFFABRRRQAUUUUAFFFFABRRRQAUUUUAFFFFABRRRQAUUUUAFFFFABRRRQAUUUUAFFFFABRRRQBzl3e3Om/DGa+sBm5ttIMsIxn51hyP1Fcv4A+H/hPU/hzpt3qOkWeqXep2q3F3e3MayzPI4y/7w5IIJI4Ixj1rvNEAbw5p6sAQbSMEHv8AIK4+b4P6KJpf7J1jX9EtJmLS2GmaiYrd89RswcA+gxXrYPEwhQlSc3Tbad0t7X0dmn5omSbafb/gHR+DdH0rQPClppfh+7N5YW29I5jKshJ3ksCygDIYkfhXPfCH/kWNV/7Dd7/6MrTuvh9pzeGLLQdF1DVfD9nZvvQ6RdmGR85yGYglgSc896zvDnwptPC+pQ3dh4o8TSRxzNM1pPqAMEzt1LoEG7JOT71r7XDTo1uaq+abvqtXa+9tLu/yM7SSiktjnPHXjLWf+EqubDwj4g1eQ2e1Lm00bw0l+bdsfxyO4GT6DpjHUGuk+G3i3V/FXw+uL+8gWTVbWaa22vH5Pmug+XcuTsJyARnAOak1L4WaTf6zdaha6rrmk/bZPNvLXTb8ww3Lnqzrg8nvgimaJ8KNG0DR9Z0mx1LWDp+rRPFJbS3QZIA4ILRjbw2DjJyTgZzXVVxGWzwcaUdJLl15Vf8AvXatfyvf1uO0/aX6X/A86l8YePorV7jWfFF34du2cKbbUvDOyzjJbHFyoc7fRiMHv616P8SdW8Uadoti/hGKaQTTBbu6s7MXk0EeOGSEkB8n8hVG3+DGlJbR2d54k8UahpqAKdOutUzbso6KUVRxx0BFbPir4ead4quNLnbUdU0mXSldLV9KuBAUDBQRnaccKBxitK+My+eIpSilZc1/cVttFZJN697289UTGM1e/wCZzXw78Q65f+MJrDV/Fn9pxJYmT7Fe6OdPulcuPm2bcMoAIyGPJ5HQ12fiK08TXOoaO/hrUrSztYrndqSXEW8zxcfKvBwevcdRzxg0vDnw903w9qx1V7/VdZ1LyzEl3q14biSJDyVXgAA/TNXfEXg/T/E2oaPeX813HJpFz9pgFvNsDNxw3HI47YPXnk1wYjEYWeMVSnZRt/JG17P7KsvnZW36DjGSi0/zN6iiivFNjifitpWnXHw817ULiwtZb2HTpFiuXhVpEHXAYjIGeeK6Pw+u7wppi5IzZRDIOCPkFY3jD4f2/jSbN7r+vWNuYPIktNPvBHBKMk5dCpDHnH0Ap3h3wJH4dsb20i8ReIL+O6gEC/b77zTbAAgGL5RsPP6D0r1pVKEsDGm6nvJ3tZ9bK1/lciz50/66HB62unad4cm+Ffw40/8AtnUZwyXs8+Gjswx+aWaTAG8dh1GB3AU+reH9MbRfDem6XJObh7K1jt2mPVyihc/jiuC0z4HaZosLw6P4t8W6fFI290tdSWJWbpkhYxk8da9FsLT7BpttaG4nuvIiWPz7l90kmBjcxwMsepPrW+Z4mhUpqnQm5K7bbTu5Pdvp6JfO5MYvmu0WKKKK8I1CiiigAooooAKKKKACiiigAooooAKKKKACiiigAooooAKKKKACiiigAooooAKKKKACiiigAooooAKKKKACiiigAooooAKKKKACiiigAooooAKKKKACiiigAooooAKKKKACiiigAooooAo6H/yL2nf9esX/AKAK5+/+KvgjS9cbSL7xDbRXiPsddrsiN0IZwpVSMc5PHet3R5Fi8M2EkjbUSzjZiewCCvI9HsNR0fwRqU/hG78N+JfBtwZ7iZNQD21wyEndGz/dJHI3Pg9OgwK9bLsLQrqTrX0slZ2V3f7TTV9NE7X7qxMm1ax7HpmpWmsaXbajp0vnWl1GssMm0ruUjIOCAR+NWq8Q8S+OL6DwJ4JsfA1jLplrrUZjVBdpFJEsYCiFJ5QQpJPDnk4GOTUWgS/EDwv4u0hL+HUodPvblYbmHXvE1reGRWOMxDCMGGc4XOcYxXX/AGHNwdTnjH4rRk1zPlbXffS2l1fsZe1SSe+l9D3SivLCmo+P/iB4g0q78U6hoVposqQ29jpNwIJ5sruMrsQSVOeBjH8zreHPD+pWmreJdH1Lxnc6lBPbQx2a/bQb6zTa4aRsKArEnhsHO0Z6VxVMBGlD36i5kk2rPZ267PR3f5mnNrp6HXaXrena014NMuluDY3LWlxtBHlyrjcvI5xkcjip9Qu/sGm3N59nnufIiaTyLZN8kmBnaq92PQCvEfh74Givj4olm8Y+JtPTT9duIXNtqgiWUKFPmS/Ly57txnFeneKNKh8VeF0uNO8RalZwwo1xFdaNfCPzwFOAXAIZe/Fa4rA4fD4pU4zbjdX0emif4hCUpOzXf8zd0q//ALU0m2vvsl1Z+egf7PeR+XLHnsy84PtVuuT+F95c6h8MNCur+4muriW23STTOXdzuPJY8muL8OWmo/EqDUtc1Txrq2jS291LDHpulXawJYojEATDB3E4yScce3TP6gnVrc0uWNN2b1fVpaLXpv8AqTGd4Rl3PYKK8R1DxBrevfAvWtRm1y7ivtBv5IYdT0ybyBfqjBQ529VIfoMcqDWhqllrXge88Lawni3WtVl1XVLeyvba+mDW7rKDuKRgfIRjjBro/sdr3ZVEpXlFKz1cUnv5p9QdTS9u/wCG569RWN4vtjd+EdQgGuHQN8X/ACEw4X7NyDuySMenUdetXNFhNvoVjC1+2pFIEU3jEE3HA+fI45615Hs17L2l9b2tZ/ffb5bml9bF2sfxL4r0XwhpqX/iK8+x2zyCJZPKeTLEEgYQE9Aa2K5b4karcaT4C1FtPinmvrpPstrFbxmSRpJPl+VRySBlsf7NXhKUa1eFOSum0tHb8bO33D06mh4Z8XaH4xsJLzw5frewRSeU7CN0KtgHBDAHoeuK2a8K8Dala+FfiRZW+neHde0PRNYtIrCU6tYfZ1a7jB8twckEuAwI6lmzXutdeaYKOEr2p35JK6va/mnbS6ZlTm5LXcKKKK8s1CiiigAooooAKKKKACiiigAooooAKKKKACiiigAooooAKKKKACiiigAooooAKKKKACiiigAooooAKKKKACiiigAooooAKKKKACiiigAooooAKKKKACiiigAooooAKKKKACiiigDO0eNZfDNhHIu5Hs41YHuCgrmG+DXw/d4GPhq3zbrtTEsgB5z8wDfOfds1uxakNH8DW+oNaXV4LexjcwWcfmSv8o4VcjJrkbP436JdWKajL4f8TWmlN11ObTc26jOMl0ZuM8cA16mCp5g4OeEckr2fK7a9tHr5ETcdpHbal4b0bV9EGj6jpltPp6qFS2aMBUAGBtx90gdCMYrC0f4T+B9Bvo7zTPD1ulxGweOSZ3mKMDkEeYzYIPIIrrLa5hvLWK5tZVlgmQSRyIch1IyCD6YqSuWOLxNKLpxqSSe6u0vmg5YSS0Ob8S/D3wr4vnSfxDo0N3Og2iYM0b47AshBI9iaseG/Bnh7wjC8fhzSoLHzBh3XLO47AuxLEexNblFJ4vEOl7F1Hydru33bFcqbvY5HVfhZ4K1vWn1bU9AgmvZG3PIJHQOfVlVgpPuRzU2u/Dbwj4kt7GDV9Gjkh0+Mx2sUUskKxKcZAEbKOwrqKKtY/Fpxaqy93b3np0010+QnGL3Rynh34Y+EPCerf2l4f0j7Jd7DH5n2mZ/lPUYZyO3pTdc+FvgvxHqh1HWNBgmu25eVJHi3n1YIwDH3Oa6wkhSQMnHA9a5LwR40vvFN/rVhq2hf2NeaRLHFLF9sW43F1J6qoHQDpnrW8MRj6nPio1ZXild82tm7Lrdq/bbqJqEdLbl7WPAvhrXdAttE1LSYm021cSQ20LNCsbAEZHllf7x/OqGo/CrwZq2n6fY6ho3m22mxmK0T7VMvlqTkjIcE8+uam8f+LL/wX4cbWLLQ/wC1oYWzcj7WsHkp0DcgluSBgDvXSwS+fbRS42+YgbGc4yM1Kr46jShVjUkotu1pdeuid09fK6YWi3Zr/hipquh6drehzaPqlsLiwmQRyQlmGQCCOQQRggc5zxU9hY22l6fb2NhCsFrbRrFFEvRFAwBViiuH2k3Dku7Xvbpfv6lWQVz3ibwJ4c8Yz2s3iPTvtkloCID58kezJBP3GGeg610NFVSrVKM+elJxfdOz/AGk1ZnM+Jvh34W8Y3cF14j0v7ZNBH5UbfaJY9q5zjCMAeTXRwwpbwRwwrtjjUIoznAAwKfRTnXqzhGnOTcY7Jt2XougWV7hRRRWIworkPE3jW/8OeLtE0ttB+0afq06Wy6j9sVfLlYnK+XtJOAAc5AOcV19b1KFSlCM5LSSutU/Lpt8xXV7BRRRWAworM0e+1W9mv11bRv7NSC4aO1f7Us32mMdJML9zP8AdPNadXODhLlf4NP8VoAUUUVABRRRQAUVxniTx5e6d4mXw74X8OT+IdUWAXNxGtyttHBGTgZkYEZPpWh4c8YweIfD95qCWF3b3WnvJDd6cybpo5UGSgA4YkYx65FdksDiI0lVcdHbqr67Nq90n0bVmLmV+U6OivNrj4o63pdumq+IPAd/pnh9nVWvpLyMzRBjhWe3+8vJ5BPFekghgCOQelTiMJWw6TqJWfZprTdXTeqvqtxKSbsgoorgNZ+JOow61qVj4W8J3XiCLR8DUbmO5WFYmxkogIJkYDqBznilh8LVxMnGktu7SXbdtLcbdjv6Kz9B1uy8SaDZ6vpchktbuMSISMEeoPoQcg+4rQrCcJQk4SVmtwTTV0FFFFSMKKKKACiiigAooooAKKKKACiiigAooooAKKKKACiiigAooooAKKKKACiiigAooooAKKKKACiiigAooooAxYLq3svA0FzezxW8EdgheWVwiqNg6k8CvNfhz408J6P8DLS21zWNN3x206z2Lzo0rgu/y+Vnccg9MdDXqGnWdtf+E7K1v7eK5t5bOJZIZkDo42jgqeDUFt4J8K2dylxaeGdHgnjO5JYrCJWU+oIXIr1MLicNDDypVlLWSlpZbJrr6kyT5oyXS/42/wAjzRNM0Wz/AGcdHi+IxurW0tytwLeN9s0rb3aOIA8/MpxjggZ5XGRifCvRvBlv4zsfEEt7p9jqN+zLpOhWN41ybYbCC0z7mO8qTwxAGT34X3bUtJ03WbUW2safa38CsHEV1CsqhhkA4YEZ5PPvVCz8G+GNPvI7vT/DmkWtzEcxzQWMSOh9QwXIr0o51H6vWpyck6jk3Z6a9LPz3e9tFbW+TpaRXY8tu4fDHiT4ieIrX4saksLWU4TS7C8vGtbdbfAxKhDKGZu/P/1maQ+nX/gPx3pl1qD6h4NsiBpV5ezso3hd3lrISCyrIEC885A5zXsGqaDo+tiMa1pVjqIiyYxd2yS7M9cbgcU+fSNNutL/ALMudPtZrDaF+ySQK0WAcgbCMYGB2qP7XhyRjaWnLpdWjytawVtG7fi73LUPf5vO/wDwPQ+e7vRPDeh/BDTPGWk37L4njjt/JvP7RZnEgZd0ITdtwq5GzGQBzXY+N73S9d8eaLY+L9T8rwZd6abiB0uPLtby53dHlUgYC4I5x09efR38I+G5NOj09/D2lNZRuZEtjZRmNHPVgu3APvVPxTod3c+FU0vw1pegS+W6Klpq9uWtFjHYIg4I4xxit/7Xp1q0XK/NedpNq8VK1rPW3LbT1drbkKk1G3l+X9WPKPCOheDZv2gBB4buTqGm6ZpRuLfF28sVrOJF4jfPzKA5OMkZY/hzvieWbWPFPi64hla88FtqlrJq8+mOkkpQJ8rKeQVBznHevXvBHgTUtJ8R3Gv+IRosF01mLG3sdEtjFbQxb9xPzckk47f/AFuqt/C/h+zsrmztND02C1uwBcQRWcapNjpvUDDfjXTUzqlh8S5pupaMY3bvs0276a9n311J9m5J9Nf0t+p5n4ruPBen/s+6rZ+DdQsv7PkRViRbvexldlfadzFg5AJ2nkYPAxWVrum+FfA0ng7xB4b1RYr++1K3W7vZNTaQ3Vs2RK75YqVHdgAAa9cHg3wwLE2Q8OaQLRpBKYPsMXllwMBtu3GcHGetOuPCPhu8t7e3u/D2lTw2qlLeOWyjZYVPJCgrhR7CuGjm1KkuW82nKTldr3lJJWffVX1KdNuNnbZ/f3PKfipfab4i8Z/2FNaaJHJY2iSm+8QarPa28iuchY0idd5/2uemO3Nj4C61EJ/EGgvqenyJb3KtZW1pcSPEE2nf5IlJcoCBz6nPevVtR8P6Nq4hGraRY3wg/wBV9ptkk8v/AHdwOPwpLbw9otlqR1Cz0ewt71l2G5itUWQrgDG4DOMAD8KmWa0JZe8HyvZW1uk07317+VrXsN05Oal/W1jRrxj4s6R4Z1H4reDo9Ynhia6M0V+ftZjYwhcxq3zDaGYsuRgnJGfT2esy/wDDWhapfJeanoun3l1GAEnuLVJHUA5GGIJGDXm5bjFg6/tW3tJab6pr8N/VGklzRa7nztpdpo3h2PTdcsb82+o2fi5dPmdr0/6LY73HlspbCoQpOW64PNbHjy70nxh4z1VWtfDVr/ZjrA0/iPWLmE3OF+9FDE6/LzwQDuznvXtcng7wzLHMkvhzSXSeUTSq1jERI4z87fLy3zNyeeT61Nd+GtCv7qK5vtF0+5uIQFilmtUd4wOgBIyMe1e88+pOsq7UuZJq99Vdp9N1ute99zL2Ts0v61f/AAPuPNPhDremax8KdS03xJq1nNbW0s8EyyXZUR2rYAyWYOqcsFJwccdq5TwH4f8ABGrN4g0vW/EkEejrrU0enaONTWJJc7Qk2d2+XgKF5I+U9cmvdI/C3h+JbtYtC0xBejF0Fs4x9oGc/Px83PPOarReBfCUEySw+FtFjkjYMjpp8QKkcgg7eDWH9sUYyryp88faNNWa0ff181rYPZy5UuzPOPilFNo1v4I0Dw5qK3mt2moRm1W/nV5m+VlR5OhIzxnGOKh+Dlr4SstUnk1OaS38diaSK+i1Cfy5GkcksIkBCupxnIBP4EV65c6FpF7qcOpXmlWVxfW+PJupbdGljwcja5GRgkng1EPDOgjV/wC1RomnDUd+/wC2fZI/O3dM78Zz75rFZtB4J4VpptO7Vk2227PvHXbuEqXvJrpb+v8AI1Ky/Ei6NJ4eu4PE89vBpc6eVcNcz+ShVuMF8jGenWtSq2oabY6tZtaapZ297bOQWhuYlkRiDkZVgR1rwaUlGpGTbVn03+XmbnlHwt1Pwf4c8R+K9N0zV9LtbGS/hWwja/VvNHlj7jMxL/MccE88Unxfg0/V/FWm6fd69o6fZ7VpZdH1q7ntLeUM2FkEsZA35BABPavQ4vAvhKCZJYfC2ixyRsGR00+IFSOQQdvBq1qfhjQNauVuNY0PTdQnVdiy3VpHKwXOcZYE45PHvXvf2nQWOWLjzXtZ7XvZK9/z2d9mZKDUXHv/AJ3POPgx/YttrviKy0ez+zyItuXNpqX26yKgNtEUhAIOS2VYk+noPW6rafplhpNqLbSrK3srcHIitoljQH6KAKs15eYYpYvESrJNXtu7vRJbsdOPIrBRRRXCaHmfj200mx8TnXLPx/beEdaW0ENyriKczw5JXMDEEtnoRnpxWX8ICdB8N+J/Fmt3d5/ZV5c/aIru+QmaaJAczFVycMTwBnp34J9OvfDmh6lfpfajo2n3d3GAEuJ7VHkUDoAxGRWiVVkKsoKkYII4Ir23mcfqf1azd7Jv3U7J3sna/pdu3RGbheab6f5WPDPitP4Z1fTpde0rx39uukkgmh0EagLi1uGUgBPs6ncCe59c9M17Qt+sOhjUdSX7Gkdt59wr/wDLEBdzA/Tn8qqWnhHw3YXwvLHw/pdtdKcieGyjRwfXcBmtWSNJY2jlRXRwVZWGQwPUEVli8ZSrUqdGKdoX1dr2dtNF5bu44x97mZR0PXdN8SaPDqmiXS3dlPny5VUrnBweCAQcjoRXnPhDxRovgrUvGuneJ7+30y6j1ie/VJ22meGRQymMHlzgYwMnp616fZ2Vrp1nHaafbQ2ttGMJDBGERB7KOBVbUfD+javPFNq2kWN9LD/qpLm2SRk5zwWBxz6VnQxGHg6lOUX7OXmrqzuulvJ6eY7NpX3X9fqcp8GLC50/4U6Wt5GYnnMtwqt12PIzKT9QQfxru6OlFcuKrvE151mrczb+9hFNKzCiiiucoKKKKACiiigAooooAKKKKACiiigAooooAKKKKACiiigAooooAKKKKACiiigAooooAKKKKACiiigAooooAztHlSHwxYyyuEjSzjZmY4CgIMk1xdv8Tda1ZTqHhvwLqGp6CrHGofa44XlVSQWjhblxwccjPtXSXGnSax8NJNNt32S3mkmBGJwAzQ7Rn2ya4nwv8UfD/hLwnp2geK0vdH1fTbZLV7OWzkdpmRQuUZVKsGxwc9/xr2cBh1UoynCl7Wd0uXXRWetotP57LruRJ2t0X/DHb+EvFcPifwTa+I54BpsU6O7pLKCIgrEEliBx8uc4FaGl6/o+ueZ/YurWOo+VjzPslykuzPTO0nFeZeOb6/8AEvhbw1rWteHtSg0FL15tX0pQWm8oZ8p3UYO0Y3Fe2fbNZyXPhbxH448Nz/CPTvKurO8VtRvbGxa2t0tSDvSTKqGZu3B+tdX9lQqRlU1jrLa0ows3aMpX620fo1fYz9o0u+n3+h6tL4w8NQNcCfxDpUZtX8ucPexjynyRtbLfKcg8H0NadtcwXltHcWc0c8Eg3JLE4ZXHqCODXi+jr4D1j47eKYryxsLsrAvlRTWRZPNQN9obaV27sgZY8nsTk1k+Gr59f+Fvj3RPAs8jzJqcs9nbQK0ZFm7KdqZAxuVZBt69sc1c8lhyrlco/A25LRKfn5P9exXP71vO34X/AOAe1Hxj4YVrgN4j0kG2/wBeDfRfuucfN83y8kDnvT7nxZ4ds7S2urvX9Lgt7sFreaW8jVJgOpRicNjPavnz4gar8NLz4bmy8LaJ5GtW3lbgmnvFLa4YBvOkKjd3XktyR9a7P453PhTS/hymiPbWdvqhhRtMhSz5jXzF37GC4TIByMjNarJKbqUYWmnUk1ZpXSVve66a39E/USqN/dc9aGsaY2q/2Yuo2h1DZ5n2QTr5uz+9sznHviqt74r8O6bdm11HXtMtLgHBhnvI0fPptJz3FcN4Btfhjrt1C/hYLqOq6WwuZL6aOZbhpGBBd5HCl8nPByB2A4rzTxBqUWu6nq7azLp2hayZpVXRYPCSXl1KBnDNM6/eP94NjvxWWGyanWxEqT5o8qV7xad3touZ2tre2nVh7T3bn0hfalZaZp732o3cFraRgFp5pVRBngfMTjkkD8a5fwf8T/D3irR7S5k1HT9PvbqRo106W+jMwIcqo28ElgAQMd+9YnwivdJ8WfB2z0q5EOpmzj+z3dvcwbkVgxZFIYYbA2kYzjiuO+H2u+BvC3hm10/X9AE/i+xmlL2sejGW83eaxTa5TGQCuPmGKUMqgoV6MoylUhJLRdPe1t2dld9NNdRe0coRmup7hDrmk3GrS6Xb6pZS6hCCZLRLhGlQDHJQHI6jt3FLZazpep3Nzb6bqVpdzWrbbiKCdZGhOSMMAcqeD19DXmviTUtG8GfF3TPFOr2x0vTr7SZIprtbNiWnLqwWTYpO/aO/p7VS+GfiTRbr4ueNWsoZLFL6K3ubeGW1aJpERT5km3HGS4bnBO7OOtYPKb4aWIgpNKCle2l+ZRkvlv5dSnO2nmvuZ01n4k8YWfxOtPD/AIij0M2F/DcT2z2KzeaqRkbQ5c4zyM4B71295fWmn2zXF/cw2sCkAyzyBFH4nivGNV+LPgq5+K2gazDrW6ws7K5inm+yzDYz7do27MnOD0Fb3xO8VRXXgvR7vTbeyutE1OYNNql/pzXUVnHj5ZPJK53HJAJGOMHqK3r5XWqVqEZUnDnWujWt5d+tktN30QozV5a/1ZfqegaXr+j655n9i6tY6j5WPM+yXKS7M9M7ScVgeIPiTonh3xfpeg3l3Zhrwyi5mkvEQWO1Ny+YD03ZAGcfjXi/hHWdI8PfFzRL1dcS8025glt/tlv4eXTYpGbhUCxrmT5tuSRxxzXd/FPTtC0zx94V8Ra9pFs2kCS4TVbprETKxMQWLzQFJbnpkHGOK2eT0aGNjRqc0ozhJx0afMk9NUne62tu0mhKo5RlbdHp+n61perWb3elalZ3ttGSHmtp1kRSBkgspIHFY2geJG1vxLqUVprPh7UNLjjRrVNOuvNuV/vGUAlQM9MVleG/GPgttI1STw/pr2Og2UP2m4vI9LMFrKCPm2gKCzADn5emOtcDoHxE+HWg/FPVNR0y7ttP0e40yGGM2unyRo0oclvkWPOcY5xXJRyurNV4xpTulp7t+q0dtpW/C43UtFarc9yvb6002ze71G6htLaMZeaeQIi/VjwKi07WNM1i2a40jUbS/gU7WltZ1lUH0ypIrzT4kNZDxj4e1vxTZz6h4NitnZgkLSxQ3DH5ZZkHJXacDIPP1xVPw0+h6x8VbDVvhnYNa6JFaTR6xcwWjW9rPx+7RUIGXDcnA6etRDK4ywvtm3s3e3upq/ut3+J2+9rTqN1LSsvL537HpH/CbeFfIWb/AISbR/KZzGH+3xbS4AJXO7ryOPetkSoYvNDqY9u7fnjHrn0rwbwK3w3v7rxzf3lhp1xb291JcxGTTyyw2mAAUUp8vzFuAA36VN4X8Q6Nc/swXUOs3d89va77K6NomZYd837sDdgEBXTvjHHXiunEZKou1Pn0lCLvH+dX09NvO6BVPes/P8D1yDxj4ZuroW1r4i0madnEYijvomYsTgLgNnOeMVS+IniW78IeAdS1zToIZ7m1VCiT5KfM6rkgEE/e9RXiOiXWgnXNBt9AGj+L5oL6F9lr4el0+6hA/wCWhlTCHaeSHyD1PqPb/iJaWF98PNZttYvjp9lJbnzboRNL5IyCG2Ly3IHAqMRl9HBYyhGSbi2rppptXXSylr6a9LhTnzto0fDGqTa34T0rVbqFYJr20ineNCcKWUEgZ571qVR0SGC38P6dDZyebbx2sSRSEEb0CAA4PIyKvV4Nbl9pLlVldlQvyK5y/j/xZf8Agvw22sWWif2tDC3+kj7WsHkp/e5BLc4GAM81hW3xM1mzuNObxf4Ln0TTtSmSCC+j1CO6UO/3d6qAVB9TTvjhrFjpnws1K1vZ/Km1BRBbLsY+Y4YNjIGBwCcnArnfAumQ/ED7HNqPj648SWWiyQzDTo9M+xRxygZQOcfvAMfp719Fg8Jh3l31mvT0u05e/e1la1vcvd296y+dzOpJppJ6v0PUtS8S6Fo0wi1fWtOsJCAQl1dpESPoxHpV+C4hurdJ7WVJoZFDJJGwZWB6EEcEV4F461SHUfH2qWviCbTPDklvIIrIS+F11K51FAOH3upGD2AIx0PStL4R+JtMtvhb4k03ULi6aTS2up7i3itzFNHAR/Cv3VbIf5QeDU1cjcMHHERbcvdurO1pdU7WfTZvs7Mr2i9pyfI9Vl8ZeGIbqS2m8R6RHPGSHie+iDIR1yN2RWle6hZ6bZtd6jdwWlsn3pp5AiL9WJxXy9BN4WXQ4rHQ59K8USuU8vSrnw5JBfMNwOz7TD1YD+LJBx3HFenfGW80BoPDVv4kvbjRpmke4gkewW9t4yqqGSaIn5/vADAPetK+Rwp4ilRi5e9zX9130V7qNub8GuzZMat7npOm+I9D1mUxaRrOn38gUuUtbpJTtBAJwpPGSPzrSrxX4VXWn3PxAml0XT9M1C2/s8xvrel6ZLp6RneD5bxsdhJwDlRnj06e1V4+ZYSODr+yjfZPXR/duvmk/IunPnTIrq7t7G1kur2eK3t4lLSSzOERAO5J4ArC8J65ca22pyS6poOo28dyVtW0e4MuyI/dEpyQH+nFW/FOraHovhy5u/FTRLpWBHOJoDMjBjgAoAcgk+leTfDz4h+BdH8W+JYLS+hs7TU9Qh/s6KCykRHGwLwqphfm9cV0YPAVMRhKtSFOTatZpXW6ur97O78gnNRau/6sz1y58UaBZXc9rea5ptvcWyb54ZbuNXiXjlgTkD5hyfUetW7DUbLVbRbrS7y3vbdjhZreVZEP0ZSRXkPiE+DdS/aOsbHVrWzuZfsBhmiltCwkumIMe/5cOfLPU5A4HUCrPwy1nQo/i3400fQHjgs5GhktbSGBo4w0alJiq4AXDFR2z2zW9TKorC+1jzcygp6rSzdtH+N+yE52k15pfeevUUUV8+ahXmUPxM8XXviDVdJ034eG6m0qVUuca1ChUMMoeVwcrzgE46GvTa8Q8O/E7whofxO8b3eqav5EF7cW4t3+zTNvMcZV+FQkYbjnGe1e1leG9vCs1R9o4pNL3t+ZL7LXRt/L1M6jslrbX9Gem+FfGmn+KNHub1Ek0+WxkeG+tbzCPauv3g/OAO+f5YIDv+E/8Hf9DZof/gyh/wDiq5LwcyXs3jjxfrFlNZaFqwUxpcRssklvDCVeQqOcMM47mvJbPxB8NNR1U6nrFhb6dpOktt07Q7OxLXN7jH7y4mIw3rtZ/XJP8XpUcmpYitVUYztG3wrms2ruPm09OySu2iHUajfzfzPp+8v7PTrN7vULqC1toxl555AiKPdjwKj07WNM1i2a40jUbS/gU7WltZ1lUH0ypIrzP4itZf8ACXeHNb8VWNxfeDYrVmZUhMsVvcNjbJMg6rtOBwefrVTw0+h6x8VbDVvhnYNa6JFaTR6xcwWjW9rPx+7RUIGXDcnA6etcEMrjLDe2bezd7e6mr+63f4nb72tOpTqa2Xl879j0j/hNvCvkLN/wk2j+UzmMP9vi2lwASud3Xkce9bHnRiDzvMXytu/fuG3bjOc+leD+BW+G9/deOb+8sNOuLe3upLmIyaeWWG0wACilPl+YtwAG/SqmkXNz4h/Z70i3sftepW2laoF1qzttwle1EjN5Y/vAK0ZwM8emDjrq5HBStFyjaUU3JW+JN/htrbVrYXtGvx/D/M9qHjbwqbdrgeJtH8lHCNJ9vi2qxyQCd2M8Hj2NYNx4t120+K+m6JN/ZMmgapbS3FtPFvM4VIwxLNnZgt0wDxXlniy/+G/iDWvCMPgzSLdn/tm2iu5IdOMEPlMwBikDKA5PHY8BufXY+J6TeJ/ijpPhnwZqSWOq2en3MMgCNGsQaMMIw2MAMnGV6Zrpo5RRhOMZqS5ozb518FlpLTz6/ImVRtfd+L2PWD4itdc029TwVrGjajqcUWY1N0JY0Y9DJ5ZLBaw/A3xEttZ8M2dx4p1LSNP1W4mljFsk4iD7JGQFFdixztrl/hX4y8Bados1lbafHoWr2FvI2ox+S0rssXLv5yg7xnJAzkcgDGM8loC+BZ/gX4j1K8s7KbU1kuEa6ltGeVJZGbyArFcrkbenA745qI5TCKqUZ05pKcEnyq/vXXpa9tr9O41NySd7P/gfofQ95fWmn2zXF/cw2sCkAyzyBFH4niq2l6/o+ueZ/YurWOo+VjzPslykuzPTO0nFeQ6x4tN38F/CUkcVpeWNwkcGpapqOnteR2LxoFZzEVO5t24BsEcH1BrlvCOs6R4e+LmiXq64l5ptzBLb/bLfw8umxSM3CoFjXMnzbckjjjmsaWQSnQqSbfNHmsrN35b6baN22bT62YpVkkn3t+L/AEPpeiiivlzoCiiigAooooAKKKKACiiigAooooAKKKKAKOh/8i9p3/XrF/6AKvVjW/8AaH/CE2/9i/Zv7Q+wx/Z/te7yt+wY37ecfSvN9L8dfEq+8Iy+KHg8IDTbdpfNid54ZW8tirAMzFQSVOMmu/C4CpiYOcJJWaWrtq9vvsyZSsew0Vztl430mTwNZeKdVmTSrK6gWX/SWxtLDO0f3jwcYHI5xUHh/wCJfhDxTdPbaHrcNxOilzE0bxOwAySquoLYHPGazeCxNpS9m7Rdm7NpNd3sClFpO++x1NFcJH8a/h7K6qviOMFmKjfbTLgj1ygwPc1vaB428O+J9KudR0PVIrm1tc+e+1kMQAzllYAgYB5xzg06uAxdGPNUpSiu7i1+gc0W7JnM3vw68Ra9KLbxX46m1LRjMsr6fDpkVv5m1tyqZFJJXgZ9a9D6Vxmn/F3wLqurRabZeIYXupmCRq8UiKzHoA7KFyenXrWn4o8deHPBf2b/AISXUfsX2rd5P7iSTdtxn7inH3h1rpxFPMK04UalJp62iocvq0klfbV26CXLdyTOgornIvH3he58Tnw5b63btq2CBAuT8w6ruxt3D+7nPHSuQ8M+N7vw7deLo/iF4kF5a6Nd28Ed2bJY/wDWKTjZEpJ5x69Kyp5diJxk+VppJpNO8k3ZOOmurX6XBzirf10v+h6lRWZ4f8R6V4q0hNU0G6+1WbsyLL5bJkg4PDAH9KbpfifRta1TUdN0u+S4vNMk8q7iCsDE3PHIwehGRnkVyuhVi5Jxfu76PTpr2101K5la5q0UVW1HULbSdLutQv5PKtrWJppXxnaqjJP5CsoxcnZbjLNFeZ2viv4k61po8QaJ4c0hNIdfNgsLueQXtxH2YEfIpYcgH9eK1tP+LXhW70/Rpry8ksbjV2McFrLBIziQPsZCVUgENxzj1r0Z5XiY/Cua2jUXzNPezt6Py0fYz9pHfodtRWLc+L9DtPFlr4auL7Zq93GZIbbyXO9QGOdwXaOFbqe1cj4u+MOj+FfHmnaFcXUKwAyf2rI8ErNbDyw0W3aMNuJGcbse1Z0MvxWImoU6bbactnql1X5Lu9NypSUU7npFFY3h3xbofizSpNS0C+F1ZxOY3lMbxhWABPDgHoRzXPS/Gn4exXUlu3iSEvGSCUglZT9GCbT+BqYYHFznKEKUm47pRd166aBzxte+h3VFcR8T/iLbeAPDf2iJoZNUuR/oNvNG5SXDLvyV6YVs8kZq94Y+JHhXxjfPZeHtU+13UcXmvH9nlj2rkAnLqB1Iqv7PxX1dYpU3ya62dtLfhra/dPsJzinZs6miuO1f4s+CNC1aXTdU16OG7hfy5IxBK+xvQlVIHX1rT1vxv4d8PaFbazqupxx6ddMqwXMaPMshZSwxsB4IBOelQ8Dily3pS97bR6+mmvyK5le1zeorlNJ+J3g3XdcGkaVr1vcXzEhYwrqHI7KxAVj9CaueJvHPhvwesX/CR6tDZNLykZVnkYeuxQWx74xSeCxSqKk6cuZ7Kzu/luLmi1dM36K8w+HvjC+1/wCImt2S+Jo9f0dbVbq0aO0SHyd7n5DgbiVHHzcnritTS/HGla98Sv7P0fxb5qwwSRS6L/ZrrmVGO6Tz2UdOm0cHFdNXLK9KcoPXlipNpS0TV9fdun6pLzJVSLV/kd3RWD4j8beHvCM1nF4j1JbFr5isBeN2ViCAclQQoG4cnAqDw58RPCniy/lsvD+sxXdzECzRbHjYgdSN4G4e4zXKsHiXS9sqcuTvZ2+/YpySdmzpaK5jxF8SPCXhTUUsNe1qG1umAPkhHkZQem7Yp29e+Km8PePfDXivUbqx8Paol9PaDdMEicKBnGQxUKwz6E03g8SqXtnTlyb3s7W9dg5op2udDRRXOeN/FWl+FtBeTVdY/sZ7sNBa3f2Vrjy5SpIbYoOcdcHg4rKjSnWqKnTV2+yb/BXZR0dFY/hW/XUPCOn3o1X+11kgDG/+zeR5/q3l/wAPTpXOH41/D0QiU+I49pkMePs024EY6rsyBz1xj34reGBxNScoUoOTi7Oyb/S6262ZPOuVSZ3dFQWV7balYw3lhPHcW06B4pY23K6noQanrkaadmVuFFFUdbk1GLQ7uTRPspv0iLQfbN3lbh/e284+lOMeaSj3GtXYvUV5HoHjb4nat4Pi8Vx6T4cv9OaN5TZWzTx3TqjEELncuflPHOfrxXaH4ieHIfBFl4rvr02ul3gULI0TuVc5+QhATkEEenFejXyzE0ZcqSk78vu6+92stb/n02Mo1IyOoorjtD+LHgrxHrMGk6LrX2m9uCwii+yzJuwpY8sgA4B6mrniX4h+FfB9zHb+ItZitJ5BuWEI8rgepVASB7nGaweAxaqqi6UuZ625Xe3e1rlc0WrpnS0Vgy+OPDcXhNvEp1WGTR0xuuolaQKSQACqgsDkgYxkd6yrP4u+BL/UrewtfEVu9xc7fKBjkVSW6AsVCg+xIOeOtKOBxc05RpSaW+j0tvfToDnFK7Z2dFY/iTxZoXhGxS78R6jFYxSNtTcCzOe+1VBY4zzgcVjWHxY8E6vqVnp2ma9HPeX3FvGlvLkkkgA/LhTx0bH6ilTweJqU/awpyce6Ta0318huUVuzsaiuo5pbOaO1n+zzPGyxzbA3lsRw208HB5xXmXhnxvd+HbrxdH8QvEgvLXRru3gjuzZLH/rFJxsiUk849elWfG/jC51L4Wz+LPh74j+zQ2bFmf7CH+0AMFKYlXK4JznHau3+ysRGvGnpZuKUrS5LySaV+XzWlvwJU0/XX8Hb9C3afD7XLvWtPvfGXjObXodNnF1bWqafFaoJQCAzFCS2M8D/AOvXfVyGg/E/wjrupw6PY69BcakygeWEZQ7AchWICt3+6TV3xN498M+DpYovEmqpZSTLvjTy3kZlzjOEUnrUYmnj69WNKpTfNbSKhbTyikvvsKDhbmR0VFZXh7xNo3ivTft/h6/jvbbdsLICCrejKQCp9iBWrXnVKc6cnCas10ejLTTV0FFFFQMKKKKACiiigAooooAKKKKACiiigAooooAKKKKAMa3v/wCy/BNvffZbq8+z2Mb/AGe0j8yWTCDhF4yfavDfC3wvsfFvhi/juPDur6H4ngle5iv9StnS3nJkYohRyVYYwG+Xj37++6H/AMi9p3/XrF/6AKvV6uCzOrgaco0dJNp3v26NbNau6ZMoqVrnhXiaw8T+N9B0DUZtB1rTp/D07xahYWRFrJIdqjzrQkEMBt4HvgZ+9VbTtFn1HxZot7baV8TL5rC7SUy+ILqOJIFBBYgOp38dVBBI4Br36iu2OezhT9nGmkle2r0Tvdee7/J3M3ST3Z86TW+pah4b8YqfBuvLJf6/HqSJNpbBpoPNU7MfxMBuJHIGTzXSwXPieDxh44u/DXh7Ure81bT7SbTJbqz2RRskQ3IzN8okAfAXkblIPSvZqKJ55zpp0lZ9G219j/5BfiV7P3r3/q7f6nzN4i07xFquixSw2PxI1C9hniluk1JQttuDDJigXJbnpjp1r0H4ta3ea98Nf7L0zwt4imudXhjmRV04t9m2yKxWbBJRsA8YNesVieGfFdj4q/tf+z4riP8AsnU5tMn89VG6WLG4rgnK/MME4PsKJ52p1KVR0l+7d1q/L9UhRp8rbT6WMDwPd6LqNpFp9l4H1TQ4tJUS2/8AamliEByCC0bEkl8Zyepzyea8rvvC2t+IvEHiPxtbaHqKCzvobq20TV9PfbfqE2sPLGcsMcYz1r6OorHD5xLDVZ1KcdZWWrb0vd7/AM3fddA9knFRe3/At+pz/g/xLL4m0kz3GgapocsJVHt9RtzFk7QTsz95R0zgfQVB4av2ufEviGA+FH0YQXAH9oGNVGpdf3mQoJ6dctweoPFdPRXmyrU7z5YWUttXpqn8/mWouyTYVl+JdFXxF4W1LR3l8kX1s8IkxnYWGAcd8HnFalFYQnKnNTjutSjy3SvGfinw7oFv4evvAmr3etWcK20E1pGGspwo2o5mz8gIGSCOPbPFK+8E63onwl02H7K2o6pa6xHq97b2fzM370u6xj+IgEDHfBxXr9Fess15JKVOmo+8pPfVq/notXov8jJU1bl6bfoeNap4i1fX/id4O1mPwT4ktdMsJZ43lns8SbpU2ZZATsRSQdxPI3Y6V0PxFg1Gx8ZeEvE9npF9qtnpElyLqHT4xLOPNjCqVTIyM9a9EopPMoqdOUKaSjGUbXeqlzX+fvMrlve73OKi8Wanrmha3PN4I1SGxhsmaCC9YRz3rbTuiES5ZcjjPOc9K8rgi1j+w4tJ8MaF44jkYoU0vXtPhuNNTDA7C8qghB2PB78V9E0VeGzSGG5uSkrNp2u2tO6d7/h5WFKDkrXOK+KOiap4j+FGpadYWyy6jLFE/kRtwzK6swUnGehx60mieO9T1rUrOztPBGvWkBO26utUiW1WBQOqgkmTnjAxXbUVxwxcVh/YTpqVm2tWrNpJ7PXZW/UbjtqeAarH4y1S51K38RQ+PH1ZpJVt4NEdLfTPL52KZOdwx1JGex5qwlxqzfs2P4dbwt4i/tJQLLyjpz5JLmQOB97ywBtzjrgYr3eivUeeXjCPskuWUZK11qv0/q5Ps/f5r9/xPHPHd7cz+H/AzaT4R14/Y7+3vngt9NO+2ii4aMqv3GOeF6EdxWhd/wBoeEPidq3ii78L6nr1lqttAtrcadCJ7iy2rhojGSCATySOPr29TormWaJQVP2elpJ6vVSalv0s18+oez0tft+B414Qv7+D4y6tq0/gjWtKs9ZtUWJhZ5UMo3F5SPlRm29OTkjPXNJqPjW8vPiRoviCLwL4yFpYWlxBKjaQfMZpMYIG7GOOckV7NRVvNaUqvtJUfs8vxPa3L+Qezbvrvr+X+R5X8UtTuNa8J+HjbeFtdvFuL+G9mtV04yPDHG2WSVATtYhuAeDg80niu+u5Pi14JvbPw1rkltZJJ9onhsCURZ02KpYcDYeWBxgeteq0VlSzKNKEYKnolNbv7at+CHKDfXpY8l06bUvh14k8RpqPhLVddXWb57u31DSrYXBdG6RS5I2Bffjk/WrPwJV10PxKZbAaaW1+4P2NcYg+VPkGOPl6celdZ4n8F/8ACTXkNx/wkniHSPKj2eXpN/5CPznLDacntmr/AIb8N6d4U0ZNM0iN1hDtI7yOXeV2OWdmPUmunEZhRqYOUf8Al5Plva9vd9Xb7l92wuR82m17/f8A8Oa1ct418UtoFoLVPD+u6u15DIqtpVl56xHGPnORjOePoa6mivEozhTqKU48yXS9jXXoeafCXxBcw+GtL8M3/hjxDp9xZ2p8y6vNPMVuSDnAcnOTngYrP8CanNbXPjjUb3whr0DXdzJexCbTCsk8RAAiXJ+Zs5O0cc9a9bor0Z5jCUqslTt7S19X3u/v/AzjDlSV9v8Ahjz34Ii9tvhrbabqml6hp1zYzSoyX1u0W8M5cFAeSuGA6DkGvQqKK4cXiPrOInXtbmbdvUqMeVWCs/Xr06doF7draXV6Y4WIt7OLzJZO2FXua0KKwg1GSbVy07O54n4E8Wa14c+G9l4ch8B+J5tXhjkSNpdPMVsXZ2YbpGI2j5uSRW7LYah8Pvgpp1gugHxNq1sR5dtFbGdIp2ZpBIQATtQ9xyTjpnI9Por2K2aRqVHNUkk5c8ld6vXr0Wr27mMKfKkr7Hivw71G6tfE1rcal4Q8T3ev6sxTU9c1SxaCO2XbkJGOQEBAGPlzwfRRqQzaj8PvHXiLUNQ8KarrsOs3Pn22paTALmVEwB5LrkFVXsc4NerUU6uaxqVJSdPSSs1d9HdW7W0SS0stgVPS1/M8i0vTtV0rw3448QTeHb2zi10D7HodnGJZ0JQoZCi9CxYMw6gA+nOPrMd9L+zbY6HZ+E9bTUW8q3NummsHSSNldpWUfMFbBw2MkmvdaKuOcNTVR01dSjLd/ZVkv+Dux8n6/ieVa0NStPGuiePx4a1LVdPbShbPYJBm9sJC27eIiepB2nByOenej4U1KTWP2hbvU28O3eiLLoDERXcQjmmxMg8x1HQnG3BJOFFeneI9C/4SLSvsP9q6npX7wP8AaNMuPJl4zxuweDnkVneFvAmneFry5vorvUdT1G6QRy3+p3JnmKDkJuwAAPYenpWkMxofVZKa9/lcFa+17q+tvw+V9SXTa0Xl+Fv8jxe+8La34i8QeI/G1toeooLO+hurbRNX099t+oTaw8sZywxxjPWu08Z+KL/xV8HdSt7fwZ4jtb658u1Fm+nsWVuHLADkxjaRuwOccV61RSqZ17WdOU6a/dtcur0Stp57Xu9RqnaXMnvf+vkeOeO725n8P+Bm0nwjrx+x39vfPBb6ad9tFFw0ZVfuMc8L0I7ip/H9x4nl8XbLlPFsfh1rZDaDwrGvnNKfvec33kx0x0xj3r1yisaeaqnyWpJ8vNu7/E76dmu/qHs9LX6JfceO/B2PVtG8V+IbDV9F8RwrqEqXEN5qa+aCFU58yYYBc7h0B6Edq9ioorix+L+uV3WceVtLbyVioQ5FYKKKK4SwooooAKKKKACiiigAooooAKKKKACiiigAooooA//Z)\n",
        "\n"
      ],
      "metadata": {
        "id": "osDFqxMfOSoh"
      }
    },
    {
      "cell_type": "markdown",
      "metadata": {
        "id": "VaLQhe6BvkUJ"
      },
      "source": [
        "## Loop statements"
      ]
    },
    {
      "cell_type": "code",
      "metadata": {
        "id": "B-cunP1ruR8i"
      },
      "source": [
        "# While loop\n",
        "x, sum = 5, 0\n",
        "\n",
        "while x>0:\n",
        "    sum+=x\n",
        "    x-=1\n",
        "print(sum)\n"
      ],
      "execution_count": null,
      "outputs": []
    },
    {
      "cell_type": "code",
      "metadata": {
        "id": "4nome1-KxdLk"
      },
      "source": [
        "for letter in 'Python':   \n",
        "   print('Current Letter :', letter)\n",
        "\n",
        "fruits = ['banana', 'apple',  'mango']\n",
        "for fruit in fruits:    \n",
        "   print('Current fruit :', fruit)\n",
        "\n",
        "for index in range(len(fruits)):\n",
        "   print(index)\n",
        "   print('Current fruit :', fruits[index])"
      ],
      "execution_count": null,
      "outputs": []
    },
    {
      "cell_type": "code",
      "metadata": {
        "id": "sbFY3o5SwLKO"
      },
      "source": [
        "fruits = ['banana', 'apple',  'mango']\n",
        "for fruit in fruits:    \n",
        "   print('Current fruit :', fruit)\n",
        "   for f in fruit:\n",
        "     print(f)"
      ],
      "execution_count": null,
      "outputs": []
    },
    {
      "cell_type": "code",
      "metadata": {
        "id": "-zw8ZQytHOeE"
      },
      "source": [
        "list = [[1,[2,4],5,7,9], [2,4,6,8,10]]\n",
        "\n",
        "for l1 in list:\n",
        "  print(l1)\n",
        "  for l2 in l1:\n",
        "    print(l2)"
      ],
      "execution_count": null,
      "outputs": []
    },
    {
      "cell_type": "markdown",
      "metadata": {
        "id": "dNqpTv9GXIJi"
      },
      "source": [
        "### For Loop"
      ]
    },
    {
      "cell_type": "code",
      "metadata": {
        "id": "Zo1S6DkNXRKs"
      },
      "source": [
        "for i in range (5):\n",
        "  print(i)"
      ],
      "execution_count": null,
      "outputs": []
    },
    {
      "cell_type": "code",
      "metadata": {
        "id": "6QsRCC9nXYvO"
      },
      "source": [
        "for i in range (2,8,3):\n",
        "  print(i)"
      ],
      "execution_count": null,
      "outputs": []
    },
    {
      "cell_type": "code",
      "metadata": {
        "id": "GK-XtVkNXkdz"
      },
      "source": [
        "for i in range(1,10,2):\n",
        "  print(i)"
      ],
      "execution_count": null,
      "outputs": []
    },
    {
      "cell_type": "markdown",
      "metadata": {
        "id": "aaPREb07ybTd"
      },
      "source": [
        "### Break statement"
      ]
    },
    {
      "cell_type": "code",
      "metadata": {
        "id": "NOuATOhlyMaf"
      },
      "source": [
        "for letter in 'Python':    \n",
        "   if letter == 'h':\n",
        "      continue\n",
        "   print('Current Letter :', letter)\n",
        "  \n",
        "var = 10                    \n",
        "while var > 0:              \n",
        "   print('Current variable value :', var)\n",
        "   var = var -1\n",
        "   if var == 5:\n",
        "      break"
      ],
      "execution_count": null,
      "outputs": []
    },
    {
      "cell_type": "markdown",
      "metadata": {
        "id": "8SxC95pZy08I"
      },
      "source": [
        "### Continue statement"
      ]
    },
    {
      "cell_type": "code",
      "metadata": {
        "id": "pUxNowFXykhn"
      },
      "source": [
        "for letter in 'Python':    \n",
        "  if letter == 'h':\n",
        "    continue        #skip the remaining code inside a loop\n",
        "  print('Current Letter :', letter)\n",
        "  print('CUET')\n",
        "  \n",
        "var = 10                    \n",
        "while var > 0:             \n",
        "   var = var -1\n",
        "   if var==5:\n",
        "     continue\n",
        "   print('Current variable value :', var)\n",
        "\n",
        "   "
      ],
      "execution_count": null,
      "outputs": []
    },
    {
      "cell_type": "code",
      "metadata": {
        "id": "Zncjie48c1Lj"
      },
      "source": [
        "flag =0\n",
        "for i in range(2,30):\n",
        "    flag=0\n",
        "    for j in range(2, i):\n",
        "      if (i%j==0):\n",
        "        print(i, \"Not Prime\")\n",
        "        flag=1\n",
        "        break\n",
        "    if(flag==0):\n",
        "      print(i, \"Prime\")"
      ],
      "execution_count": null,
      "outputs": []
    },
    {
      "cell_type": "markdown",
      "metadata": {
        "id": "Lt-4enq8bF9A"
      },
      "source": [
        "## Pass statement"
      ]
    },
    {
      "cell_type": "code",
      "metadata": {
        "id": "o33sXi5gbJY-"
      },
      "source": [
        "for i in range(10):\n",
        "  if i%2==0:\n",
        "    continue          #present in the program, but don't execute command or code \n",
        "  else:\n",
        "    print(i)\n",
        "  print('CUET')"
      ],
      "execution_count": null,
      "outputs": []
    },
    {
      "cell_type": "markdown",
      "source": [
        "##Probelms:\n",
        "1. Using a nested for loop generate the following pattern:\n",
        "\n",
        "```\n",
        "* \n",
        "* * \n",
        "* * * \n",
        "* * * * \n",
        "* * * * * \n",
        "* * * * \n",
        "* * * \n",
        "* * \n",
        "*\n",
        "```\n",
        "2. Write a Python program to get the Fibonacci series between 0 to 50.\n",
        "\n",
        "3. Write a Python program to check whether each alphabet of the input string is a vowel or consonant.\n",
        "\n",
        "4. Write a Python program to create the multiplication table (from 1 to 10) of a number. Go to the editor\n",
        "\n",
        "\n",
        "```\n",
        "Input a number: 6    \n",
        "Expected Output:                                                   \n",
        "6 x 1 = 6                                                               \n",
        "6 x 2 = 12                                                              \n",
        "6 x 3 = 18                                                              \n",
        "6 x 4 = 24                                                              \n",
        "6 x 5 = 30                                                              \n",
        "6 x 6 = 36                                                              \n",
        "6 x 7 = 42                                                              \n",
        "6 x 8 = 48                                                              \n",
        "6 x 9 = 54                                                              \n",
        "6 x 10 = 60\n",
        "```\n",
        "5. Write a Python program to construct the following pattern, using a nested loop number.\n",
        "\n",
        "```\n",
        "\n",
        "input(1 to 9) = 9\n",
        "Expected Output:\n",
        "\n",
        "1\n",
        "22\n",
        "333\n",
        "4444\n",
        "55555\n",
        "666666\n",
        "7777777\n",
        "88888888\n",
        "999999999\n",
        "88888888\n",
        "7777777\n",
        "666666\n",
        "55555\n",
        "4444\n",
        "333\n",
        "22\n",
        "1\n",
        "```\n",
        "6. Display numbers from -10 to -1 using for loop\n",
        "7. Reverse a given integer number and find square root.\n",
        "\n",
        "\n"
      ],
      "metadata": {
        "id": "QUfL6R2TVC0h"
      }
    },
    {
      "cell_type": "markdown",
      "metadata": {
        "id": "9nF6GehwW-uZ"
      },
      "source": [
        "## Python functions"
      ]
    },
    {
      "cell_type": "code",
      "execution_count": null,
      "metadata": {
        "id": "9JFh_spzW-uZ",
        "colab": {
          "base_uri": "https://localhost:8080/"
        },
        "outputId": "71d66ee6-5f81-4903-e1e6-f8d4e1ba7533"
      },
      "outputs": [
        {
          "output_type": "stream",
          "name": "stdout",
          "text": [
            "Adam roy\n",
            "Smith roy\n",
            "Rebecca roy\n"
          ]
        }
      ],
      "source": [
        "def name_function(fname):\n",
        "    print(fname + \" roy\")    \n",
        "\n",
        "name_function(\"Adam\")\n",
        "name_function(\"Smith\")\n",
        "name_function(\"Rebecca\")"
      ]
    },
    {
      "cell_type": "code",
      "execution_count": null,
      "metadata": {
        "id": "EdDmL3C9W-uZ"
      },
      "outputs": [],
      "source": [
        "def name_function(fname, lname):\n",
        "    print(\"My name is \" + fname + \" \" + lname)"
      ]
    },
    {
      "cell_type": "code",
      "execution_count": null,
      "metadata": {
        "id": "v_trw9g0W-uZ",
        "colab": {
          "base_uri": "https://localhost:8080/"
        },
        "outputId": "361a15f8-7678-46e0-8913-33a44206030b"
      },
      "outputs": [
        {
          "output_type": "stream",
          "name": "stdout",
          "text": [
            "My name is Adam Smith\n"
          ]
        }
      ],
      "source": [
        "name_function(\"Adam\", \"Smith\")"
      ]
    },
    {
      "cell_type": "markdown",
      "metadata": {
        "id": "y8-ZLagXW-ua"
      },
      "source": [
        "#### Keyword Arguments"
      ]
    },
    {
      "cell_type": "code",
      "execution_count": null,
      "metadata": {
        "id": "qihZQZMmW-ua",
        "colab": {
          "base_uri": "https://localhost:8080/"
        },
        "outputId": "703874e2-8547-45bf-a0ab-5a05b874b78a"
      },
      "outputs": [
        {
          "output_type": "stream",
          "name": "stdout",
          "text": [
            "My name is Smith Adam\n"
          ]
        }
      ],
      "source": [
        "def name_function(fname, lname):\n",
        "    print(\"My name is \" + fname + \" \" + lname)\n",
        "    \n",
        "name_function(\"Smith\",\"Adam\")"
      ]
    },
    {
      "cell_type": "code",
      "execution_count": null,
      "metadata": {
        "id": "d0jSmT4BW-ua",
        "colab": {
          "base_uri": "https://localhost:8080/"
        },
        "outputId": "a27beb1b-9dd2-470e-e089-52af84cda02d"
      },
      "outputs": [
        {
          "output_type": "stream",
          "name": "stdout",
          "text": [
            "My name is Adam Smith\n"
          ]
        }
      ],
      "source": [
        "name_function(lname=\"Smith\", fname=\"Adam\")"
      ]
    },
    {
      "cell_type": "markdown",
      "metadata": {
        "id": "Q5r-fy4EW-ua"
      },
      "source": [
        "#### Arbitrary Arguments, *args"
      ]
    },
    {
      "cell_type": "code",
      "execution_count": null,
      "metadata": {
        "id": "7vXV2KYUW-ua"
      },
      "outputs": [],
      "source": [
        "def name_function(*names):\n",
        "    print(\"First-Name: \" + names[0] + \" Last-Name: \" + names[1])\n",
        "\n",
        "name_function(\"Adam\", \"Smith\")\n",
        "name_function(\"Avishek\", \"Das\")"
      ]
    },
    {
      "cell_type": "markdown",
      "metadata": {
        "id": "MdONOfRcW-ub"
      },
      "source": [
        "#### Arbitrary Keyword Arguments, **kwargs"
      ]
    },
    {
      "cell_type": "code",
      "execution_count": null,
      "metadata": {
        "id": "7_cyyS8UW-ub",
        "colab": {
          "base_uri": "https://localhost:8080/"
        },
        "outputId": "8e8c4115-fef3-4b8b-e0f2-b529ade5b03f"
      },
      "outputs": [
        {
          "output_type": "stream",
          "name": "stdout",
          "text": [
            "His last name is Dey\n",
            "Full name: Ashim Dey\n",
            "His last name is Das\n",
            "Full name: Avishek Das\n"
          ]
        }
      ],
      "source": [
        "def name_function(**names):\n",
        "    print(\"His last name is \" + names[\"lname\"])\n",
        "    print(\"Full name: \"+ names['fname']+ \" \" +names['lname'])\n",
        "\n",
        "name_function(lname=\"Dey\", fname=\"Ashim\")\n",
        "name_function(lname=\"Das\", fname=\"Avishek\")"
      ]
    },
    {
      "cell_type": "markdown",
      "metadata": {
        "id": "bhsEUNb7W-ub"
      },
      "source": [
        "#### Function with Return Statement"
      ]
    },
    {
      "cell_type": "code",
      "execution_count": null,
      "metadata": {
        "id": "JAB-OSAvW-ub",
        "colab": {
          "base_uri": "https://localhost:8080/"
        },
        "outputId": "f9439281-3100-49f4-c083-70bb9096c687"
      },
      "outputs": [
        {
          "output_type": "stream",
          "name": "stdout",
          "text": [
            "15\n",
            "25\n",
            "45\n"
          ]
        }
      ],
      "source": [
        "def my_function(x):\n",
        "    return 5 * x\n",
        "\n",
        "print(my_function(3))\n",
        "print(my_function(5))\n",
        "print(my_function(9))\n"
      ]
    },
    {
      "cell_type": "markdown",
      "metadata": {
        "id": "cLWu6regdATr"
      },
      "source": [
        "#### Multi Return Value"
      ]
    },
    {
      "cell_type": "code",
      "metadata": {
        "id": "pjDtSp-wdmUn",
        "colab": {
          "base_uri": "https://localhost:8080/"
        },
        "outputId": "9bc8eeed-fa57-4d3a-9a3d-546ef654af07"
      },
      "source": [
        "def my_profile():\n",
        "  name = \"Ashim\"\n",
        "  address = \"CUET\"\n",
        "  ID = 123\n",
        "  return (name,address,ID)\n",
        "profile = my_profile()\n",
        "print (profile)\n",
        "x, y, z = my_profile()\n",
        "print(x,y,z)"
      ],
      "execution_count": null,
      "outputs": [
        {
          "output_type": "stream",
          "name": "stdout",
          "text": [
            "('Ashim', 'CUET', 123)\n",
            "Ashim CUET 123\n"
          ]
        }
      ]
    },
    {
      "cell_type": "markdown",
      "metadata": {
        "id": "kwW-fimdW-ub"
      },
      "source": [
        "#### Pass anything inside function"
      ]
    },
    {
      "cell_type": "code",
      "execution_count": null,
      "metadata": {
        "id": "yBPGHi15W-ub"
      },
      "outputs": [],
      "source": [
        "# not only single variables, list, dictionaries, etc can also be passed\n",
        "def print_list(any_list):\n",
        "    for i in any_list:\n",
        "        print(i)"
      ]
    },
    {
      "cell_type": "code",
      "execution_count": null,
      "metadata": {
        "id": "t2qvc_mhW-uc",
        "colab": {
          "base_uri": "https://localhost:8080/"
        },
        "outputId": "2ffcae8d-683a-4e79-9c91-134de35e9399"
      },
      "outputs": [
        {
          "output_type": "stream",
          "name": "stdout",
          "text": [
            "5\n",
            "2\n",
            "8\n",
            "2\n",
            "7\n",
            "1\n",
            "6\n",
            "3\n"
          ]
        }
      ],
      "source": [
        "num = [5,2,8,2,7,1,6,3]\n",
        "print_list(num)\n"
      ]
    },
    {
      "cell_type": "markdown",
      "metadata": {
        "id": "mYA-eoQZf3Sv"
      },
      "source": [
        "## Error Handling"
      ]
    },
    {
      "cell_type": "code",
      "metadata": {
        "id": "q8mhWfzrf97L",
        "colab": {
          "base_uri": "https://localhost:8080/"
        },
        "outputId": "885dd9c7-7767-4fde-d3ce-3c7d6437b609"
      },
      "source": [
        "try:\n",
        "  my_num = input(\"Enter a number:\") \n",
        "  number = 1/float(my_num)\n",
        "\n",
        "except ValueError: \n",
        "  print(\"That’s not a number!\")\n",
        "\n",
        "except ZeroDivisionError: \n",
        "  print(\"You can’t divide by zero!\")\n",
        "\n",
        "except:\n",
        "  print(\"Oops,what’s happened?\")\n",
        "\n",
        "finally:\n",
        "  print(\"....Program Execution complete.....\")"
      ],
      "execution_count": null,
      "outputs": [
        {
          "output_type": "stream",
          "name": "stdout",
          "text": [
            "Enter a number:0\n",
            "You can’t divide by zero!\n",
            "....Program Execution complete.....\n"
          ]
        }
      ]
    },
    {
      "cell_type": "markdown",
      "metadata": {
        "id": "_H9EtkvMbv2X"
      },
      "source": []
    },
    {
      "cell_type": "markdown",
      "metadata": {
        "id": "UjOl0AiNW-tw"
      },
      "source": [
        "## Python Lists"
      ]
    },
    {
      "cell_type": "code",
      "execution_count": null,
      "metadata": {
        "id": "pW7YejVwW-tw"
      },
      "outputs": [],
      "source": [
        "numbers = [10, 20, 30, 40, 50]\n",
        "names = [\"Sara\", \"David\", \"Warner\", \"Sandy\"]\n",
        "student_info = [\"Sara\", 1, 12.40]"
      ]
    },
    {
      "cell_type": "code",
      "execution_count": null,
      "metadata": {
        "id": "Jof9noNPW-tw",
        "colab": {
          "base_uri": "https://localhost:8080/"
        },
        "outputId": "d73321f7-9f6d-4140-f096-717d3035240e"
      },
      "outputs": [
        {
          "output_type": "stream",
          "name": "stdout",
          "text": [
            "[10, 20, 30, 40, 50]\n",
            "['Sara', 'David', 'Warner', 'Sandy']\n",
            "['Sara', 1, 12.4]\n"
          ]
        }
      ],
      "source": [
        "print(numbers)\n",
        "print(names)\n",
        "print(student_info)"
      ]
    },
    {
      "cell_type": "code",
      "execution_count": null,
      "metadata": {
        "id": "mHO_S-2yW-tw"
      },
      "outputs": [],
      "source": [
        "mixed_list = ['red', 12, 112.12] #the list contains a string, an integer and a float values"
      ]
    },
    {
      "cell_type": "markdown",
      "metadata": {
        "id": "W4roF-G7W-tx"
      },
      "source": [
        "#### List Concatenation"
      ]
    },
    {
      "cell_type": "code",
      "execution_count": null,
      "metadata": {
        "id": "I_9eG6BsW-tx",
        "colab": {
          "base_uri": "https://localhost:8080/"
        },
        "outputId": "91d54ea1-a9a8-4b6d-98f2-8b124c57b58e"
      },
      "outputs": [
        {
          "output_type": "stream",
          "name": "stdout",
          "text": [
            "['White', 'Yellow', 'Red', 'Blue', 'Green', 'Black']\n"
          ]
        }
      ],
      "source": [
        "color_list1 = [\"White\", \"Yellow\"]\n",
        "color_list2 = [\"Red\", \"Blue\"]\n",
        "color_list3 = [\"Green\", \"Black\"]\n",
        "color_list = color_list1 + color_list2 + color_list3\n",
        "print(color_list)"
      ]
    },
    {
      "cell_type": "markdown",
      "metadata": {
        "id": "qxN2BFJdW-tx"
      },
      "source": [
        "#### List indices"
      ]
    },
    {
      "cell_type": "code",
      "execution_count": null,
      "metadata": {
        "id": "A1aZLVmgW-tx"
      },
      "outputs": [],
      "source": [
        "color_list=[\"RED\", \"Blue\", \"Green\", \"Black\"] #circular indexing"
      ]
    },
    {
      "cell_type": "markdown",
      "metadata": {
        "id": "4dg-AmcRW-ty"
      },
      "source": [
        "![image.png](data:image/png;base64,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)"
      ]
    },
    {
      "cell_type": "code",
      "execution_count": null,
      "metadata": {
        "id": "LwLFrmnkW-ty",
        "colab": {
          "base_uri": "https://localhost:8080/"
        },
        "outputId": "a833ee68-4274-4626-f75d-f9bb90729b5c"
      },
      "outputs": [
        {
          "output_type": "stream",
          "name": "stdout",
          "text": [
            "RED Black\n"
          ]
        }
      ],
      "source": [
        "print(color_list[0], color_list[3])"
      ]
    },
    {
      "cell_type": "code",
      "execution_count": null,
      "metadata": {
        "id": "-HzonPheW-ty",
        "colab": {
          "base_uri": "https://localhost:8080/"
        },
        "outputId": "7d2eff6b-82ed-40af-c0a8-cc2658ed2577"
      },
      "outputs": [
        {
          "output_type": "stream",
          "name": "stdout",
          "text": [
            "RED Black\n"
          ]
        }
      ],
      "source": [
        "print(color_list[-4],color_list[-1])"
      ]
    },
    {
      "cell_type": "code",
      "execution_count": null,
      "metadata": {
        "id": "5XXcR_StW-tz",
        "outputId": "db5cee92-66be-452b-c02f-4a4cd7006460",
        "colab": {
          "base_uri": "https://localhost:8080/",
          "height": 236
        }
      },
      "outputs": [
        {
          "output_type": "error",
          "ename": "IndexError",
          "evalue": "ignored",
          "traceback": [
            "\u001b[0;31m---------------------------------------------------------------------------\u001b[0m",
            "\u001b[0;31mIndexError\u001b[0m                                Traceback (most recent call last)",
            "\u001b[0;32m<ipython-input-8-1723c92d258f>\u001b[0m in \u001b[0;36m<module>\u001b[0;34m\u001b[0m\n\u001b[0;32m----> 1\u001b[0;31m \u001b[0mprint\u001b[0m\u001b[0;34m(\u001b[0m\u001b[0mcolor_list\u001b[0m\u001b[0;34m[\u001b[0m\u001b[0;36m4\u001b[0m\u001b[0;34m]\u001b[0m\u001b[0;34m,\u001b[0m\u001b[0mcolor_list\u001b[0m\u001b[0;34m[\u001b[0m\u001b[0;36m3\u001b[0m\u001b[0;34m]\u001b[0m\u001b[0;34m)\u001b[0m\u001b[0;34m\u001b[0m\u001b[0;34m\u001b[0m\u001b[0m\n\u001b[0m",
            "\u001b[0;31mIndexError\u001b[0m: list index out of range"
          ]
        }
      ],
      "source": [
        "print(color_list[4],color_list[3])"
      ]
    },
    {
      "cell_type": "markdown",
      "metadata": {
        "id": "tX4oXGm5W-tz"
      },
      "source": [
        "#### Add to and Edit items of a list"
      ]
    },
    {
      "cell_type": "markdown",
      "metadata": {
        "id": "NbOSPSwLW-tz"
      },
      "source": [
        "![image.png](data:image/png;base64,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)"
      ]
    },
    {
      "cell_type": "code",
      "execution_count": null,
      "metadata": {
        "id": "v0ld3vbfW-tz"
      },
      "outputs": [],
      "source": [
        "color_list.append(\"Yellow\")"
      ]
    },
    {
      "cell_type": "code",
      "execution_count": null,
      "metadata": {
        "id": "ndUfxV18W-tz"
      },
      "outputs": [],
      "source": [
        "print(color_list)"
      ]
    },
    {
      "cell_type": "code",
      "execution_count": null,
      "metadata": {
        "id": "KuMrm2d6W-t0"
      },
      "outputs": [],
      "source": [
        "color_list.insert(4,\"White\")"
      ]
    },
    {
      "cell_type": "code",
      "execution_count": null,
      "metadata": {
        "id": "ZekjjIn8W-t0"
      },
      "outputs": [],
      "source": [
        "print(color_list)"
      ]
    },
    {
      "cell_type": "code",
      "execution_count": null,
      "metadata": {
        "id": "xsw6L_s1W-t1"
      },
      "outputs": [],
      "source": [
        "color_list[4] = \"Purple\""
      ]
    },
    {
      "cell_type": "code",
      "execution_count": null,
      "metadata": {
        "id": "Ri5qiK4bW-t2"
      },
      "outputs": [],
      "source": [
        "print(color_list)"
      ]
    },
    {
      "cell_type": "markdown",
      "metadata": {
        "id": "QdaB_O5wW-t2"
      },
      "source": [
        "#### Remove an item from the list"
      ]
    },
    {
      "cell_type": "code",
      "execution_count": null,
      "metadata": {
        "id": "RybjdR0MW-t3"
      },
      "outputs": [],
      "source": [
        "color_list.remove(\"Black\")"
      ]
    },
    {
      "cell_type": "code",
      "execution_count": null,
      "metadata": {
        "id": "JrlPFT_7W-t3"
      },
      "outputs": [],
      "source": [
        "print(color_list)"
      ]
    },
    {
      "cell_type": "markdown",
      "metadata": {
        "id": "TjvwNhGQW-t4"
      },
      "source": [
        "#### List Slices"
      ]
    },
    {
      "cell_type": "code",
      "execution_count": null,
      "metadata": {
        "id": "o-6hyWf2W-t4"
      },
      "outputs": [],
      "source": [
        "print(color_list[0:2])"
      ]
    },
    {
      "cell_type": "code",
      "execution_count": null,
      "metadata": {
        "id": "Fabm63SpW-t5"
      },
      "outputs": [],
      "source": [
        "print(color_list[0:-1]) #length unknown"
      ]
    },
    {
      "cell_type": "code",
      "execution_count": null,
      "metadata": {
        "id": "41ylYmr-W-t6"
      },
      "outputs": [],
      "source": [
        "print(color_list[0:])"
      ]
    },
    {
      "cell_type": "code",
      "execution_count": null,
      "metadata": {
        "id": "FpH4OuPQW-t7"
      },
      "outputs": [],
      "source": [
        "print(color_list[:2])"
      ]
    },
    {
      "cell_type": "code",
      "execution_count": null,
      "metadata": {
        "id": "gC5Px59oW-t8"
      },
      "outputs": [],
      "source": [
        "print(color_list[::1]) #list[start:stop:step], step specify an increment"
      ]
    },
    {
      "cell_type": "markdown",
      "metadata": {
        "id": "zf5QZHB5W-t8"
      },
      "source": [
        "#### Reverse the elements of the list in place"
      ]
    },
    {
      "cell_type": "code",
      "execution_count": null,
      "metadata": {
        "id": "UTW3UK0iW-t8"
      },
      "outputs": [],
      "source": [
        "print(color_list[ : :-1]) #step specify an increment\n",
        "print(color_list)"
      ]
    },
    {
      "cell_type": "code",
      "execution_count": null,
      "metadata": {
        "id": "4F81BZcNW-t8"
      },
      "outputs": [],
      "source": [
        "color_list.reverse()"
      ]
    },
    {
      "cell_type": "code",
      "execution_count": null,
      "metadata": {
        "id": "ezrWNrY3W-t8"
      },
      "outputs": [],
      "source": [
        "print(color_list)"
      ]
    },
    {
      "cell_type": "markdown",
      "metadata": {
        "id": "gbVNhi5iW-t9"
      },
      "source": [
        "#### LIST methods/functions"
      ]
    },
    {
      "cell_type": "code",
      "execution_count": null,
      "metadata": {
        "id": "Ai_EORW6W-t9"
      },
      "outputs": [],
      "source": [
        "list_num=[5, 10, 15, 3, 25, 7, 4, 15]\n",
        "print(list_num)"
      ]
    },
    {
      "cell_type": "code",
      "execution_count": null,
      "metadata": {
        "id": "lf8gUpiUW-t_"
      },
      "outputs": [],
      "source": [
        "print( max(list_num) )\n",
        "print( min(list_num) )"
      ]
    },
    {
      "cell_type": "code",
      "execution_count": null,
      "metadata": {
        "id": "fRN2CiLZW-uB"
      },
      "outputs": [],
      "source": [
        "list_num.sort()\n",
        "print(list_num)"
      ]
    },
    {
      "cell_type": "code",
      "execution_count": null,
      "metadata": {
        "id": "mcI042i7W-uF"
      },
      "outputs": [],
      "source": [
        "list_num.count(15)"
      ]
    },
    {
      "cell_type": "code",
      "execution_count": null,
      "metadata": {
        "id": "9Qvs6JIlW-uG"
      },
      "outputs": [],
      "source": [
        "len(list_num)"
      ]
    },
    {
      "cell_type": "markdown",
      "metadata": {
        "id": "2tWtOUYlW-uH"
      },
      "source": [
        "#### Nested List"
      ]
    },
    {
      "cell_type": "code",
      "execution_count": null,
      "metadata": {
        "id": "GfKR9a5wW-uI"
      },
      "outputs": [],
      "source": [
        "list_mixed  = [['Hello', 'World'], [0, 1, 4, 3, 3, 5], [True, False]]"
      ]
    },
    {
      "cell_type": "code",
      "execution_count": null,
      "metadata": {
        "id": "W6M-AFeyW-uI"
      },
      "outputs": [],
      "source": [
        "print(list_mixed[0])"
      ]
    },
    {
      "cell_type": "code",
      "execution_count": null,
      "metadata": {
        "id": "Ud96T11dW-uI"
      },
      "outputs": [],
      "source": [
        "list_mixed[1]"
      ]
    },
    {
      "cell_type": "code",
      "execution_count": null,
      "metadata": {
        "id": "38XLLbuAW-uJ"
      },
      "outputs": [],
      "source": [
        "list_mixed[2]"
      ]
    },
    {
      "cell_type": "code",
      "execution_count": null,
      "metadata": {
        "id": "JD1XHq80W-uJ"
      },
      "outputs": [],
      "source": [
        "list_mixed[0][1]"
      ]
    },
    {
      "cell_type": "markdown",
      "metadata": {
        "id": "TyF_H1qpW-uJ"
      },
      "source": [
        "#### Access list with Loops"
      ]
    },
    {
      "cell_type": "code",
      "execution_count": null,
      "metadata": {
        "id": "g4t0Nr_VW-uJ"
      },
      "outputs": [],
      "source": [
        "list_num=[5, 10, 15, 3, 25, 7, 4, 15]\n",
        "for i in list_num:\n",
        "    print(i) "
      ]
    },
    {
      "cell_type": "code",
      "execution_count": null,
      "metadata": {
        "id": "TKxXqnWPW-uK"
      },
      "outputs": [],
      "source": [
        "for i in list_num:\n",
        "    print(i+10) "
      ]
    },
    {
      "cell_type": "code",
      "execution_count": null,
      "metadata": {
        "id": "c5Uq6nfbW-uK"
      },
      "outputs": [],
      "source": [
        "for i in list_num:\n",
        "    print(\"This is \" + str(i)) "
      ]
    },
    {
      "cell_type": "markdown",
      "metadata": {
        "id": "rCA4V0HvW-uM"
      },
      "source": [
        "#### Zip list elements"
      ]
    },
    {
      "cell_type": "code",
      "execution_count": null,
      "metadata": {
        "id": "SxR1yC2DW-uM"
      },
      "outputs": [],
      "source": [
        "list_1 = [10,20,30,30,40]\n",
        "list_2 = ['a', 'b', 'c', 'd', 'e']\n",
        "\n",
        "for i,j in zip(list_1, list_2):\n",
        "    print(i,j)"
      ]
    },
    {
      "cell_type": "code",
      "source": [
        "s1 = {2, 3, 1}\n",
        "s2 = {'b', 'a', 'c'}\n",
        "s3=list(zip(s1, s2))\n",
        "for i,j in s3:\n",
        "    print(i,j)"
      ],
      "metadata": {
        "id": "hfI3EhbuhQdp"
      },
      "execution_count": null,
      "outputs": []
    },
    {
      "cell_type": "markdown",
      "source": [
        "## Problems:\n",
        "\n",
        "1. Reverse and concate two list.\n",
        "2. Remove duplicate items from the list.\n",
        "3. write a funcion to swap elements of two positions in a list.\n",
        "4. Write a function to find sum and average of a list.\n",
        "5.  Write a Python function that takes two lists and returns True if they have at least one common member.\n",
        "6. Write a python program to check whether two lists are circularly identical.\n",
        "7. Write a Python program to find the second smallest and largest number in a list .\n",
        "8. Write a Python program to compute the difference between two lists.\n",
        "\n",
        "```\n",
        "Sample data: [\"red\", \"orange\", \"green\", \"blue\", \"white\"], [\"black\", \"yellow\", \"green\", \"blue\"]\n",
        "Expected Output:\n",
        "Color1-Color2: ['white', 'orange', 'red']\n",
        "Color2-Color1: ['black', 'yellow']\n",
        "```\n",
        "\n",
        "9. Write a Python program to find the item with maximum occurrences in a given list.\n",
        "\n",
        "10. Write a Python program to check if the elements of a given list are unique or not\n",
        "\n",
        "11. Write a Python script to check whether a given key already exists in a dictionary.\n",
        "\n",
        "12. Write a Python script to print a dictionary where the keys are numbers between 1 and 15 (both included) and the values are square of keys.\n",
        "\n",
        "13. Write a Python script to merge two Python dictionaries.\n",
        "\n",
        "14. Write a Python program to sum all the items in a dictionary.\n",
        "15. Write a Python program to get the maximum and minimum value in a dictionary.\n",
        "\n",
        "16. Write a Python program to combine two dictionary adding values for common keys. \n",
        "d1 = {'a': 100, 'b': 200, 'c':300}\n",
        "d2 = {'a': 300, 'b': 200, 'd':400}\n",
        "Sample output: Counter({'a': 400, 'b': 400, 'd': 400, 'c': 300})\n",
        "\n",
        "17. Convert two lists into a dictionary\n",
        "\n",
        "\n",
        "\n"
      ],
      "metadata": {
        "id": "gefyGZNHhtxv"
      }
    },
    {
      "cell_type": "markdown",
      "metadata": {
        "id": "64chCYJqW-uN"
      },
      "source": [
        "## Python Tuples"
      ]
    },
    {
      "cell_type": "code",
      "execution_count": null,
      "metadata": {
        "id": "FFtpKdT8W-uN",
        "colab": {
          "base_uri": "https://localhost:8080/"
        },
        "outputId": "a78fe39a-4741-4471-82a9-bb103924401d"
      },
      "outputs": [
        {
          "output_type": "stream",
          "name": "stdout",
          "text": [
            "('apple', 'banana', 'cherry')\n"
          ]
        }
      ],
      "source": [
        "thistuple = (\"apple\", \"banana\", \"cherry\")\n",
        "print(thistuple)"
      ]
    },
    {
      "cell_type": "code",
      "execution_count": null,
      "metadata": {
        "id": "ZPJ5HEFgW-uN",
        "colab": {
          "base_uri": "https://localhost:8080/"
        },
        "outputId": "e73bb878-cb84-4874-d356-f144cf33d78d"
      },
      "outputs": [
        {
          "output_type": "stream",
          "name": "stdout",
          "text": [
            "<class 'tuple'>\n",
            "<class 'str'>\n"
          ]
        }
      ],
      "source": [
        "thistuple = (\"apple\",)\n",
        "print(type(thistuple))\n",
        "\n",
        "\n",
        "thistuple = (\"apple\")\n",
        "print(type(thistuple))"
      ]
    },
    {
      "cell_type": "code",
      "execution_count": null,
      "metadata": {
        "id": "lvO0bnQMW-uO",
        "colab": {
          "base_uri": "https://localhost:8080/"
        },
        "outputId": "4fed045d-a0ae-4f80-a419-bd079165dc92"
      },
      "outputs": [
        {
          "output_type": "stream",
          "name": "stdout",
          "text": [
            "('abc', 34, True, 40, 'male')\n"
          ]
        }
      ],
      "source": [
        "tuple_mixed = (\"abc\", 34, True, 40, \"male\")\n",
        "print(tuple_mixed)"
      ]
    },
    {
      "cell_type": "markdown",
      "metadata": {
        "id": "LuMmw_DRW-uO"
      },
      "source": [
        "#### Accessing items of Tuple"
      ]
    },
    {
      "cell_type": "code",
      "execution_count": null,
      "metadata": {
        "id": "-Avd9C0wW-uP",
        "colab": {
          "base_uri": "https://localhost:8080/"
        },
        "outputId": "9a7e0da5-7096-4526-b3f2-8d6c1389943e"
      },
      "outputs": [
        {
          "output_type": "stream",
          "name": "stdout",
          "text": [
            "34\n"
          ]
        }
      ],
      "source": [
        "print(tuple_mixed[1])"
      ]
    },
    {
      "cell_type": "code",
      "execution_count": null,
      "metadata": {
        "id": "IeAgbwQ0W-uP",
        "colab": {
          "base_uri": "https://localhost:8080/"
        },
        "outputId": "74d9279f-7bd4-4421-ed21-9424663025ae"
      },
      "outputs": [
        {
          "output_type": "stream",
          "name": "stdout",
          "text": [
            "male\n"
          ]
        }
      ],
      "source": [
        "print(tuple_mixed[-1])"
      ]
    },
    {
      "cell_type": "code",
      "execution_count": null,
      "metadata": {
        "id": "egf8UwMAW-uP",
        "colab": {
          "base_uri": "https://localhost:8080/"
        },
        "outputId": "ab763081-326e-499e-ecff-a78e8a48e685"
      },
      "outputs": [
        {
          "output_type": "stream",
          "name": "stdout",
          "text": [
            "(True, 40, 'male')\n"
          ]
        }
      ],
      "source": [
        "print(tuple_mixed[2:5])"
      ]
    },
    {
      "cell_type": "markdown",
      "metadata": {
        "id": "33E-b8WMW-uQ"
      },
      "source": [
        "#### Add/Edit items of Tuple"
      ]
    },
    {
      "cell_type": "code",
      "execution_count": null,
      "metadata": {
        "id": "mPJWpAFaW-uQ",
        "colab": {
          "base_uri": "https://localhost:8080/",
          "height": 182
        },
        "outputId": "0a19aba5-deb9-4788-fbe9-dd74d17a9cab"
      },
      "outputs": [
        {
          "output_type": "error",
          "ename": "AttributeError",
          "evalue": "ignored",
          "traceback": [
            "\u001b[0;31m---------------------------------------------------------------------------\u001b[0m",
            "\u001b[0;31mAttributeError\u001b[0m                            Traceback (most recent call last)",
            "\u001b[0;32m<ipython-input-7-fab6e6a0102c>\u001b[0m in \u001b[0;36m<module>\u001b[0;34m\u001b[0m\n\u001b[0;32m----> 1\u001b[0;31m \u001b[0mtuple_mixed\u001b[0m\u001b[0;34m.\u001b[0m\u001b[0mappend\u001b[0m\u001b[0;34m(\u001b[0m\u001b[0;34m\"orange\"\u001b[0m\u001b[0;34m)\u001b[0m \u001b[0;31m# This will raise an error\u001b[0m\u001b[0;34m\u001b[0m\u001b[0;34m\u001b[0m\u001b[0m\n\u001b[0m\u001b[1;32m      2\u001b[0m \u001b[0mprint\u001b[0m\u001b[0;34m(\u001b[0m\u001b[0mtuple_mixed\u001b[0m\u001b[0;34m)\u001b[0m\u001b[0;34m\u001b[0m\u001b[0;34m\u001b[0m\u001b[0m\n",
            "\u001b[0;31mAttributeError\u001b[0m: 'tuple' object has no attribute 'append'"
          ]
        }
      ],
      "source": [
        "tuple_mixed.append(\"orange\") # This will raise an error\n",
        "print(tuple_mixed)"
      ]
    },
    {
      "cell_type": "code",
      "execution_count": null,
      "metadata": {
        "id": "7X89uQWxW-uQ",
        "colab": {
          "base_uri": "https://localhost:8080/",
          "height": 35
        },
        "outputId": "2cd53bc0-0362-4053-d940-1528039c935e"
      },
      "outputs": [
        {
          "output_type": "execute_result",
          "data": {
            "text/plain": [
              "'abc'"
            ],
            "application/vnd.google.colaboratory.intrinsic+json": {
              "type": "string"
            }
          },
          "metadata": {},
          "execution_count": 28
        }
      ],
      "source": [
        "tuple_mixed[0]"
      ]
    },
    {
      "cell_type": "code",
      "execution_count": null,
      "metadata": {
        "id": "mkqTV4itW-uQ",
        "colab": {
          "base_uri": "https://localhost:8080/",
          "height": 165
        },
        "outputId": "306217fa-0028-45ab-b384-fb3d44c84720"
      },
      "outputs": [
        {
          "output_type": "error",
          "ename": "TypeError",
          "evalue": "ignored",
          "traceback": [
            "\u001b[0;31m---------------------------------------------------------------------------\u001b[0m",
            "\u001b[0;31mTypeError\u001b[0m                                 Traceback (most recent call last)",
            "\u001b[0;32m<ipython-input-8-7bc554ae4345>\u001b[0m in \u001b[0;36m<module>\u001b[0;34m\u001b[0m\n\u001b[0;32m----> 1\u001b[0;31m \u001b[0mtuple_mixed\u001b[0m\u001b[0;34m[\u001b[0m\u001b[0;36m0\u001b[0m\u001b[0;34m]\u001b[0m \u001b[0;34m=\u001b[0m \u001b[0;34m'def'\u001b[0m\u001b[0;34m\u001b[0m\u001b[0;34m\u001b[0m\u001b[0m\n\u001b[0m",
            "\u001b[0;31mTypeError\u001b[0m: 'tuple' object does not support item assignment"
          ]
        }
      ],
      "source": [
        "tuple_mixed[0] = 'def'"
      ]
    },
    {
      "cell_type": "markdown",
      "metadata": {
        "id": "nbPx5lkEW-uR"
      },
      "source": [
        "#### So why using tuples?"
      ]
    },
    {
      "cell_type": "code",
      "execution_count": null,
      "metadata": {
        "id": "ikwBXVjiW-uR",
        "colab": {
          "base_uri": "https://localhost:8080/"
        },
        "outputId": "480c6202-4368-4dc1-c73f-817288d63894"
      },
      "outputs": [
        {
          "output_type": "stream",
          "name": "stdout",
          "text": [
            "20000000 loops, best of 5: 14.7 nsec per loop\n",
            "5000000 loops, best of 5: 72.9 nsec per loop\n"
          ]
        }
      ],
      "source": [
        "!python -m timeit \"x=(1,2,3,4,5,6,7,8)\"\n",
        "!python -m timeit \"x=[1,2,3,4,5,6,7,8]\""
      ]
    },
    {
      "cell_type": "markdown",
      "metadata": {
        "id": "AiQ-JTlWW-uR"
      },
      "source": [
        "## Python Dictionaries"
      ]
    },
    {
      "cell_type": "markdown",
      "metadata": {
        "id": "F58bb38cW-uR"
      },
      "source": [
        "![image.png](data:image/png;base64,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)"
      ]
    },
    {
      "cell_type": "code",
      "execution_count": null,
      "metadata": {
        "id": "Jg_tHU6IW-uR",
        "colab": {
          "base_uri": "https://localhost:8080/"
        },
        "outputId": "d37c6d9f-c829-4d81-dc66-57edf2ffbccc"
      },
      "outputs": [
        {
          "output_type": "stream",
          "name": "stdout",
          "text": [
            "{'name': 'Ford', 'age': 25, 'job': 'Dev', 'city': 'New York', 'email': 'bob@web.com'}\n"
          ]
        }
      ],
      "source": [
        "person = {\n",
        "    'name': 'Ford',\n",
        "    \"age\": 25,\n",
        "    'job': 'Dev',\n",
        "    \"city\": 'New York',\n",
        "    'email': 'bob@web.com'\n",
        "}\n",
        "print(person)"
      ]
    },
    {
      "cell_type": "code",
      "execution_count": null,
      "metadata": {
        "id": "aJPQ2hoSW-uR",
        "colab": {
          "base_uri": "https://localhost:8080/"
        },
        "outputId": "d51edd42-9465-4cc7-fefd-880f95db98a0"
      },
      "outputs": [
        {
          "output_type": "stream",
          "name": "stdout",
          "text": [
            "John\n",
            "{'name': 'John', 'age': 25, 'job': 'Dev', 'city': 'New York', 'email': 'bob@web.com', 'height': 5.6}\n"
          ]
        }
      ],
      "source": [
        "print(person[\"name\"])\n",
        "person['height']=5.6\n",
        "print(person)"
      ]
    },
    {
      "cell_type": "code",
      "execution_count": null,
      "metadata": {
        "id": "8C03VmV3W-uS",
        "colab": {
          "base_uri": "https://localhost:8080/",
          "height": 36
        },
        "outputId": "f9314471-d7d9-4e1e-9284-050c4646752c"
      },
      "outputs": [
        {
          "output_type": "execute_result",
          "data": {
            "text/plain": [
              "'John'"
            ],
            "application/vnd.google.colaboratory.intrinsic+json": {
              "type": "string"
            }
          },
          "metadata": {},
          "execution_count": 14
        }
      ],
      "source": [
        "person.get(\"name\")"
      ]
    },
    {
      "cell_type": "code",
      "execution_count": null,
      "metadata": {
        "id": "ySAquT2aW-uS",
        "colab": {
          "base_uri": "https://localhost:8080/"
        },
        "outputId": "f53d2dda-4cf7-4657-9beb-c87caffaa8a9"
      },
      "outputs": [
        {
          "output_type": "execute_result",
          "data": {
            "text/plain": [
              "dict_items([('name', 'John'), ('age', 25), ('job', 'Dev'), ('city', 'New York'), ('email', 'bob@web.com'), ('height', 5.6)])"
            ]
          },
          "metadata": {},
          "execution_count": 16
        }
      ],
      "source": [
        "person.items()"
      ]
    },
    {
      "cell_type": "code",
      "execution_count": null,
      "metadata": {
        "id": "TIW2vomBW-uS",
        "colab": {
          "base_uri": "https://localhost:8080/"
        },
        "outputId": "46d4bf33-adac-47b5-e449-7f4411e7a43f"
      },
      "outputs": [
        {
          "output_type": "stream",
          "name": "stdout",
          "text": [
            "name John\n",
            "age 25\n",
            "job Dev\n",
            "city New York\n",
            "email bob@web.com\n",
            "height 5.6\n",
            "name\n",
            "age\n",
            "job\n",
            "city\n",
            "email\n",
            "height\n",
            "John\n",
            "25\n",
            "Dev\n",
            "New York\n",
            "bob@web.com\n",
            "5.6\n"
          ]
        }
      ],
      "source": [
        "for x, y in person.items():\n",
        "    print(x, y)\n",
        "\n",
        "for x in person.keys():\n",
        "  print(x)\n",
        "\n",
        "for x in person.values():\n",
        "  print(x)"
      ]
    },
    {
      "cell_type": "code",
      "execution_count": null,
      "metadata": {
        "id": "0bU8vrY2W-uT",
        "colab": {
          "base_uri": "https://localhost:8080/"
        },
        "outputId": "b4ee5a29-cd3a-482b-c156-c82bcc41473e"
      },
      "outputs": [
        {
          "output_type": "stream",
          "name": "stdout",
          "text": [
            "6\n"
          ]
        }
      ],
      "source": [
        "print( len(person) )"
      ]
    },
    {
      "cell_type": "markdown",
      "metadata": {
        "id": "ji2eUUkA8A5N"
      },
      "source": [
        "### Nested Dictionary"
      ]
    },
    {
      "cell_type": "code",
      "metadata": {
        "id": "ST_lbXsz8D7F",
        "colab": {
          "base_uri": "https://localhost:8080/",
          "height": 36
        },
        "outputId": "299b5c8d-0677-4e18-8b6b-6c4be00da6d5"
      },
      "source": [
        "myfamily = {\n",
        "  \"child1\" : {\n",
        "    \"name\" : 'kamal',\n",
        "    \"year\" : 2001\n",
        "  },\n",
        "  \"child2\" : {\n",
        "    \"name\" : \"Rakib\",\n",
        "    \"year\" : 2002\n",
        "  },\n",
        "  \"child3\" : {\n",
        "    \"name\" : \"Opu\",\n",
        "    \"year\" : 2008\n",
        "  }\n",
        "}\n",
        "\n",
        "myfamily[\"child1\"][\"name\"]"
      ],
      "execution_count": null,
      "outputs": [
        {
          "output_type": "execute_result",
          "data": {
            "text/plain": [
              "'kamal'"
            ],
            "application/vnd.google.colaboratory.intrinsic+json": {
              "type": "string"
            }
          },
          "metadata": {},
          "execution_count": 25
        }
      ]
    },
    {
      "cell_type": "code",
      "metadata": {
        "id": "PJVYjkkH8nWB"
      },
      "source": [
        "myfamily = {\n",
        "  \"child1\" : {\n",
        "    \"name\" : \"Kamal\",\n",
        "    \"year\" : 2001\n",
        "  },\n",
        "  \"child2\" : {\n",
        "    \"name\" : \"Rakib\",\n",
        "    \"year\" : 2002\n",
        "  },\n",
        "  \"child3\" : {\n",
        "    \"name\" : \"Opu\",\n",
        "    \"year\" : 2008\n",
        "  }\n",
        "}\n",
        "\n",
        "#Add new element as dictionary\n",
        "new_child = {\n",
        "  \"name\" : \"Lipu\",\n",
        "  \"year\" : 2011\n",
        "}\n",
        "#new_child[\"Address\"] = \"CUET\"\n",
        "new_child.update({\"Address\":\"CUET\"})\n",
        "\n",
        "myfamily[\"child4\"] = new_child\n",
        "\n",
        "\n",
        "\n",
        "\n",
        "myfamily.update({ \"child5\" : {\"name\":\"john\",'year':2012}   })\n",
        "#myfamily[\"child5\"]= {\"name\":\"john\",'year':2012}"
      ],
      "execution_count": null,
      "outputs": []
    },
    {
      "cell_type": "markdown",
      "metadata": {
        "id": "RQbuY6uYW-uU"
      },
      "source": [
        "### Add/Edit Dict Items"
      ]
    },
    {
      "cell_type": "code",
      "execution_count": null,
      "metadata": {
        "id": "p2OFBX0aW-uV",
        "colab": {
          "base_uri": "https://localhost:8080/"
        },
        "outputId": "58c0eaa2-b124-4929-88a0-ca03d4407345"
      },
      "outputs": [
        {
          "output_type": "stream",
          "name": "stdout",
          "text": [
            "{'name': 'Bob', 'age': 25, 'job': 'Dev', 'city': 'New York', 'email': 'bob@web.com'}\n",
            "{'name': 'Bob', 'age': 25, 'job': 'Dev', 'city': 'New York', 'email': 'bob@web.com'}\n"
          ]
        }
      ],
      "source": [
        "print(person)\n",
        "\n",
        "person[\"name\"] = \"Bob\"\n",
        "\n",
        "print(person)"
      ]
    },
    {
      "cell_type": "markdown",
      "metadata": {
        "id": "-Qb6kFSfW-uV"
      },
      "source": [
        "### Sorting"
      ]
    },
    {
      "cell_type": "code",
      "execution_count": null,
      "metadata": {
        "id": "ax4l26yRW-uV",
        "colab": {
          "base_uri": "https://localhost:8080/"
        },
        "outputId": "9f2151f7-80d0-4199-c26f-2cfb870aa2fc"
      },
      "outputs": [
        {
          "output_type": "execute_result",
          "data": {
            "text/plain": [
              "OrderedDict([('five', 5), ('four', 4), ('one', 1), ('three', 3), ('two', 2)])"
            ]
          },
          "metadata": {},
          "execution_count": 27
        }
      ],
      "source": [
        "d = {'one':1,\n",
        "     'three':3,\n",
        "     'five':5,\n",
        "     'two':2,\n",
        "     'four':4}\n",
        "\n",
        "from collections import OrderedDict \n",
        "sorted_d = OrderedDict(sorted(d.items())) #by key\n",
        "sorted_d"
      ]
    },
    {
      "cell_type": "code",
      "source": [
        "\n"
      ],
      "metadata": {
        "colab": {
          "base_uri": "https://localhost:8080/"
        },
        "id": "2B0MSgEoIHY3",
        "outputId": "8c8f642a-8378-486d-c839-fe6a44a2f6d5"
      },
      "execution_count": null,
      "outputs": [
        {
          "output_type": "execute_result",
          "data": {
            "text/plain": [
              "{1: 'one', 3: 'three', 5: 'five', 2: 'two', 4: 'four'}"
            ]
          },
          "metadata": {},
          "execution_count": 32
        }
      ]
    },
    {
      "cell_type": "code",
      "execution_count": null,
      "metadata": {
        "id": "kfNkEvinW-uV",
        "colab": {
          "base_uri": "https://localhost:8080/"
        },
        "outputId": "e7fc0768-cfb3-4cd9-ed19-5bab13b2dbe7"
      },
      "outputs": [
        {
          "output_type": "execute_result",
          "data": {
            "text/plain": [
              "OrderedDict([('one', 1), ('two', 2), ('three', 3), ('four', 4), ('five', 5)])"
            ]
          },
          "metadata": {},
          "execution_count": 27
        }
      ],
      "source": [
        "def sort_by_value(item):\n",
        "    return item[1]\n",
        "\n",
        "from collections import OrderedDict\n",
        "sorted_dict = OrderedDict(sorted( d.items(), key=sort_by_value ))#by value\n",
        "sorted_dict"
      ]
    },
    {
      "cell_type": "markdown",
      "metadata": {
        "id": "CqQLEzZEW-uW"
      },
      "source": [
        "## Python Sets"
      ]
    },
    {
      "cell_type": "code",
      "execution_count": null,
      "metadata": {
        "id": "l45ouszrW-uW",
        "colab": {
          "base_uri": "https://localhost:8080/"
        },
        "outputId": "ce581441-2f70-46d2-86ad-e9b87ebcbc8f"
      },
      "outputs": [
        {
          "output_type": "stream",
          "name": "stdout",
          "text": [
            "{'apple', 'banana', 'cherry'}\n"
          ]
        }
      ],
      "source": [
        "fruits = {\"apple\", \"banana\", \"cherry\"}\n",
        "print(fruits)"
      ]
    },
    {
      "cell_type": "code",
      "execution_count": null,
      "metadata": {
        "id": "rBOMT2K-W-uX"
      },
      "outputs": [],
      "source": [
        "fruits = {\"apple\", \"banana\", \"cherry\", \"apple\", \"jackfruit\"}\n",
        "print(fruits)"
      ]
    },
    {
      "cell_type": "code",
      "execution_count": null,
      "metadata": {
        "id": "Vmgp408KW-uX"
      },
      "outputs": [],
      "source": [
        "print(fruits)"
      ]
    },
    {
      "cell_type": "code",
      "execution_count": null,
      "metadata": {
        "id": "UrGmGmj4W-uX"
      },
      "outputs": [],
      "source": [
        "fruits.remove(\"apple\")"
      ]
    },
    {
      "cell_type": "code",
      "execution_count": null,
      "metadata": {
        "id": "8JRN9lEuW-uX"
      },
      "outputs": [],
      "source": [
        "print(fruits)"
      ]
    },
    {
      "cell_type": "code",
      "execution_count": null,
      "metadata": {
        "id": "jRfQ6zGtW-uY",
        "colab": {
          "base_uri": "https://localhost:8080/"
        },
        "outputId": "16a09fa3-85df-4eaf-c90b-76a6e3351d6b"
      },
      "outputs": [
        {
          "output_type": "stream",
          "name": "stdout",
          "text": [
            "{1, 2, 3, 'a', 'c', 'b'}\n"
          ]
        }
      ],
      "source": [
        "set1 = {\"a\", \"b\" , \"c\",\"a\",\"b\"}\n",
        "set2 = {1, 2, 3}\n",
        "\n",
        "set3 = set1.union(set2)\n",
        "print(set3)"
      ]
    },
    {
      "cell_type": "markdown",
      "metadata": {
        "id": "zuGeIHKcW-uY"
      },
      "source": [
        "#### Sorting"
      ]
    },
    {
      "cell_type": "code",
      "execution_count": null,
      "metadata": {
        "id": "GDrXgRsbW-uY",
        "colab": {
          "base_uri": "https://localhost:8080/"
        },
        "outputId": "2fbafbac-b563-47f8-c08f-6f73f3a12e59"
      },
      "outputs": [
        {
          "output_type": "stream",
          "name": "stdout",
          "text": [
            "[1, 2, 3, 4, 5, 6, 7, 9]\n",
            "[9, 7, 6, 5, 4, 3, 2, 1]\n"
          ]
        }
      ],
      "source": [
        "num_set = {5,7,6,3,4,9,7,2,3,3,1}\n",
        "\n",
        "sorted_set = sorted(num_set)\n",
        "desc_sorted_set = sorted(num_set, reverse=True)\n",
        "\n",
        "print(sorted_set)\n",
        "print(desc_sorted_set)"
      ]
    },
    {
      "cell_type": "markdown",
      "metadata": {
        "id": "alTVUwiRW-uY"
      },
      "source": [
        "#### List to Set"
      ]
    },
    {
      "cell_type": "code",
      "execution_count": null,
      "metadata": {
        "id": "erf_5T8yW-uZ",
        "colab": {
          "base_uri": "https://localhost:8080/"
        },
        "outputId": "a838acf1-0593-442a-8f44-ec1a17daae68"
      },
      "outputs": [
        {
          "output_type": "stream",
          "name": "stdout",
          "text": [
            "[5, 2, 8, 2, 7, 1, 6, 3]\n",
            "{1, 2, 3, 5, 6, 7, 8}\n"
          ]
        }
      ],
      "source": [
        "num = [5,2,8,2,7,1,6,3]\n",
        "print(num)\n",
        "print( set(num) )"
      ]
    },
    {
      "cell_type": "markdown",
      "source": [
        "## Problems:\n",
        "\n",
        "\n",
        "1. Write a Python script to check whether a given key already exists in a dictionary.\n",
        "\n",
        "2. Write a Python script to print a dictionary where the keys are numbers between 1 and 15 (both included) and the values are square of keys.\n",
        "\n",
        "3. Write a Python script to merge two Python dictionaries.\n",
        "\n",
        "4. Write a Python program to sum all the items in a dictionary.\n",
        "5. Write a Python program to get the maximum and minimum value in a dictionary.\n",
        "\n",
        "6. Write a Python program to combine two dictionary adding values for common keys. \n",
        "\n",
        "\n",
        "```\n",
        "d1 = {'a': 100, 'b': 200, 'c':300}\n",
        "d2 = {'a': 300, 'b': 200, 'd':400}\n",
        "Sample output: Counter({'a': 400, 'b': 400, 'd': 400, 'c': 300})\n",
        "```\n",
        "\n",
        "7. Convert two lists into a dictionary\n",
        "\n",
        "8. Take user input and Save all student's information in a dictionary. (name,id,cgpa)\n",
        "\n",
        "9. Sort a dictionary in ascending order by summation of key and value. key= Age and value=height \n",
        "\n",
        "10. Create a dictionary by interchanging key and value of another dictionary.\n",
        "\n",
        "\n",
        "\n",
        "\n",
        "\n",
        "\n"
      ],
      "metadata": {
        "id": "O5mqHD1RLnyI"
      }
    },
    {
      "cell_type": "code",
      "source": [],
      "metadata": {
        "colab": {
          "base_uri": "https://localhost:8080/"
        },
        "id": "sezMXM4BEPlZ",
        "outputId": "314022c3-cbd0-42a7-c9f0-32bd76325925"
      },
      "execution_count": null,
      "outputs": [
        {
          "output_type": "execute_result",
          "data": {
            "text/plain": [
              "OrderedDict([(14, 5.6), (34, 6), (50, 5.5)])"
            ]
          },
          "metadata": {},
          "execution_count": 36
        }
      ]
    }
  ],
  "metadata": {
    "kernelspec": {
      "display_name": "Python 3",
      "language": "python",
      "name": "python3"
    },
    "language_info": {
      "codemirror_mode": {
        "name": "ipython",
        "version": 3
      },
      "file_extension": ".py",
      "mimetype": "text/x-python",
      "name": "python",
      "nbconvert_exporter": "python",
      "pygments_lexer": "ipython3",
      "version": "3.6.5"
    },
    "colab": {
      "provenance": [],
      "collapsed_sections": [
        "h26oz7yjqZhO",
        "YHyzAN8lqdZE",
        "WlhVENIEW-to",
        "AclBaWvsW-to",
        "B4bK6duGW-tq",
        "oA3e7RumYWas",
        "-SWmJqPaW-tq",
        "YZV47upiW-tr",
        "xFKysb4wW-ts",
        "zvsGivLiW-tt",
        "EIrJTFDLW-tv",
        "osDFqxMfOSoh",
        "VaLQhe6BvkUJ",
        "dNqpTv9GXIJi",
        "aaPREb07ybTd",
        "8SxC95pZy08I",
        "Lt-4enq8bF9A",
        "QUfL6R2TVC0h",
        "y8-ZLagXW-ua",
        "Q5r-fy4EW-ua",
        "bhsEUNb7W-ub",
        "cLWu6regdATr",
        "kwW-fimdW-ub",
        "mYA-eoQZf3Sv",
        "UjOl0AiNW-tw",
        "W4roF-G7W-tx",
        "qxN2BFJdW-tx",
        "tX4oXGm5W-tz",
        "QdaB_O5wW-t2",
        "TjvwNhGQW-t4",
        "zf5QZHB5W-t8",
        "gbVNhi5iW-t9",
        "2tWtOUYlW-uH",
        "TyF_H1qpW-uJ",
        "rCA4V0HvW-uM",
        "gefyGZNHhtxv"
      ],
      "toc_visible": true
    }
  },
  "nbformat": 4,
  "nbformat_minor": 0
}